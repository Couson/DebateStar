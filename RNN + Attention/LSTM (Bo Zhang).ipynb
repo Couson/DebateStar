{
 "cells": [
  {
   "cell_type": "code",
   "execution_count": 135,
   "metadata": {},
   "outputs": [
    {
     "data": {
      "text/plain": [
       "<torch._C.Generator at 0x118b7d4b0>"
      ]
     },
     "execution_count": 135,
     "metadata": {},
     "output_type": "execute_result"
    }
   ],
   "source": [
    "import torch\n",
    "import torch.nn as nn\n",
    "import torch.nn.functional as F\n",
    "import torch.optim as optim\n",
    "from point2mn import point2mn\n",
    "from point2mn import get_main_points\n",
    "torch.manual_seed(1)"
   ]
  },
  {
   "cell_type": "code",
   "execution_count": 136,
   "metadata": {},
   "outputs": [],
   "source": [
    "import numpy as np\n",
    "import pandas as pd"
   ]
  },
  {
   "cell_type": "code",
   "execution_count": 137,
   "metadata": {},
   "outputs": [
    {
     "name": "stdout",
     "output_type": "stream",
     "text": [
      "found word vecs:  400000\n"
     ]
    }
   ],
   "source": [
    "embedding_index = {}\n",
    "\n",
    "f = open('glove.6B.100d.txt')\n",
    "for line in f:\n",
    "    values = line.split()\n",
    "    word = values[0]\n",
    "    coefs = np.asarray(values[1:],dtype='float32')\n",
    "    embedding_index[word] = coefs\n",
    "f.close()\n",
    "\n",
    "print('found word vecs: ',len(embedding_index))"
   ]
  },
  {
   "cell_type": "code",
   "execution_count": 138,
   "metadata": {},
   "outputs": [
    {
     "data": {
      "text/html": [
       "<div>\n",
       "<style scoped>\n",
       "    .dataframe tbody tr th:only-of-type {\n",
       "        vertical-align: middle;\n",
       "    }\n",
       "\n",
       "    .dataframe tbody tr th {\n",
       "        vertical-align: top;\n",
       "    }\n",
       "\n",
       "    .dataframe thead th {\n",
       "        text-align: right;\n",
       "    }\n",
       "</style>\n",
       "<table border=\"1\" class=\"dataframe\">\n",
       "  <thead>\n",
       "    <tr style=\"text-align: right;\">\n",
       "      <th></th>\n",
       "      <th>id</th>\n",
       "      <th>title</th>\n",
       "      <th>date</th>\n",
       "      <th>for</th>\n",
       "      <th>against</th>\n",
       "      <th>For_Main_Points</th>\n",
       "      <th>against_Main_Points</th>\n",
       "    </tr>\n",
       "  </thead>\n",
       "  <tbody>\n",
       "    <tr>\n",
       "      <th>0</th>\n",
       "      <td>d20191112</td>\n",
       "      <td>Capitalism Is a Blessing</td>\n",
       "      <td>2019-11-12</td>\n",
       "      <td>['John Mackey', 'Katherine Mangu-Ward']</td>\n",
       "      <td>['Bhaskar Sunkara', 'Richard D. Wolff']</td>\n",
       "      <td>['By promoting market competition and rewardin...</td>\n",
       "      <td>['Capitalism serves the interests of large cor...</td>\n",
       "    </tr>\n",
       "    <tr>\n",
       "      <th>1</th>\n",
       "      <td>d20191029</td>\n",
       "      <td>Parenting Is Overrated</td>\n",
       "      <td>2019-10-29</td>\n",
       "      <td>['Robert Plomin', 'Nancy Segal']</td>\n",
       "      <td>['Paige Harden', 'Ann Pleshette Murphy']</td>\n",
       "      <td>[\"We're in the midst of a DNA revolution: Whil...</td>\n",
       "      <td>['While DNA is important, factors like familia...</td>\n",
       "    </tr>\n",
       "    <tr>\n",
       "      <th>2</th>\n",
       "      <td>d20191022</td>\n",
       "      <td>Europe Has Declared War on American Tech Compa...</td>\n",
       "      <td>2019-10-22</td>\n",
       "      <td>['Roslyn Layton', 'Berin Szóka']</td>\n",
       "      <td>['Marietje Schaake', 'Ramesh Srinivasan']</td>\n",
       "      <td>['European regulators have declared war on Ame...</td>\n",
       "      <td>['Brussels isn’t waging war on Silicon Valley....</td>\n",
       "    </tr>\n",
       "    <tr>\n",
       "      <th>3</th>\n",
       "      <td>d20190917</td>\n",
       "      <td>Replace Private Insurance with Medicare for All</td>\n",
       "      <td>2019-09-17</td>\n",
       "      <td>['Dr. Adam Gaffney', 'Joseph Sanberg']</td>\n",
       "      <td>['Nick Gillespie', 'Sally Pipes']</td>\n",
       "      <td>['The United States government should follow t...</td>\n",
       "      <td>['Individuals should have the freedom to choos...</td>\n",
       "    </tr>\n",
       "    <tr>\n",
       "      <th>4</th>\n",
       "      <td>d20190912</td>\n",
       "      <td>Unresolved: Shifting Power in the Middle East</td>\n",
       "      <td>2019-09-12</td>\n",
       "      <td>['Michael Doran', 'Reuel Marc Gerecht', 'Berna...</td>\n",
       "      <td>['Brett McGurk', 'Barbara Slavin']</td>\n",
       "      <td>NaN</td>\n",
       "      <td>NaN</td>\n",
       "    </tr>\n",
       "  </tbody>\n",
       "</table>\n",
       "</div>"
      ],
      "text/plain": [
       "          id                                              title        date  \\\n",
       "0  d20191112                           Capitalism Is a Blessing  2019-11-12   \n",
       "1  d20191029                             Parenting Is Overrated  2019-10-29   \n",
       "2  d20191022  Europe Has Declared War on American Tech Compa...  2019-10-22   \n",
       "3  d20190917    Replace Private Insurance with Medicare for All  2019-09-17   \n",
       "4  d20190912      Unresolved: Shifting Power in the Middle East  2019-09-12   \n",
       "\n",
       "                                                 for  \\\n",
       "0            ['John Mackey', 'Katherine Mangu-Ward']   \n",
       "1                   ['Robert Plomin', 'Nancy Segal']   \n",
       "2                   ['Roslyn Layton', 'Berin Szóka']   \n",
       "3             ['Dr. Adam Gaffney', 'Joseph Sanberg']   \n",
       "4  ['Michael Doran', 'Reuel Marc Gerecht', 'Berna...   \n",
       "\n",
       "                                     against  \\\n",
       "0    ['Bhaskar Sunkara', 'Richard D. Wolff']   \n",
       "1   ['Paige Harden', 'Ann Pleshette Murphy']   \n",
       "2  ['Marietje Schaake', 'Ramesh Srinivasan']   \n",
       "3          ['Nick Gillespie', 'Sally Pipes']   \n",
       "4         ['Brett McGurk', 'Barbara Slavin']   \n",
       "\n",
       "                                     For_Main_Points  \\\n",
       "0  ['By promoting market competition and rewardin...   \n",
       "1  [\"We're in the midst of a DNA revolution: Whil...   \n",
       "2  ['European regulators have declared war on Ame...   \n",
       "3  ['The United States government should follow t...   \n",
       "4                                                NaN   \n",
       "\n",
       "                                 against_Main_Points  \n",
       "0  ['Capitalism serves the interests of large cor...  \n",
       "1  ['While DNA is important, factors like familia...  \n",
       "2  ['Brussels isn’t waging war on Silicon Valley....  \n",
       "3  ['Individuals should have the freedom to choos...  \n",
       "4                                                NaN  "
      ]
     },
     "execution_count": 138,
     "metadata": {},
     "output_type": "execute_result"
    }
   ],
   "source": [
    "main_points =pd.read_csv('../Meta Data/metadata_appended_main_points.csv') \n",
    "main_points.head()"
   ]
  },
  {
   "cell_type": "code",
   "execution_count": 139,
   "metadata": {},
   "outputs": [],
   "source": [
    "main_points.dropna(subset = ['For_Main_Points', 'against_Main_Points'], inplace = True)"
   ]
  },
  {
   "cell_type": "code",
   "execution_count": 140,
   "metadata": {},
   "outputs": [],
   "source": [
    "main_points = main_points.reset_index(drop = True)"
   ]
  },
  {
   "cell_type": "code",
   "execution_count": 141,
   "metadata": {},
   "outputs": [],
   "source": [
    "fid = 'd20191112'"
   ]
  },
  {
   "cell_type": "code",
   "execution_count": 142,
   "metadata": {},
   "outputs": [],
   "source": [
    "def run_lstm_one_sentence(sentence, title, embedding_index):\n",
    "    inputs = point2mn(sentence, title, embedding_index)\n",
    "    dim = inputs.shape[1]\n",
    "    lstm = nn.LSTM(dim, dim)\n",
    "    tensor_input = [torch.tensor([x]) for x in inputs]\n",
    "    tensor_input = torch.cat(tensor_input).view(len(tensor_input), 1, -1)\n",
    "    hidden = (torch.randn(1, 1, dim), torch.randn(1, 1, dim))\n",
    "    tensor_output, hidden = lstm(tensor_input, hidden)\n",
    "    return tensor_output[-1]"
   ]
  },
  {
   "cell_type": "code",
   "execution_count": 143,
   "metadata": {},
   "outputs": [],
   "source": [
    "\"\"\"\n",
    "    -combine_func: the funtion applied to combine lstm outputs from one side elementwisely\n",
    "\"\"\"\n",
    "def run_lstm_on_fid(fid, embedding_index, combine_func = torch.min):\n",
    "    title = main_points[main_points['id'] == fid].title[0]\n",
    "    \n",
    "    for_main_points = get_main_points(fid, main_points)[0]\n",
    "    against_main_points = get_main_points(fid, main_points)[1]\n",
    "    for_output_list = []\n",
    "    against_output_list = []\n",
    "    for sentence in for_main_points:\n",
    "        for_output_list.append(run_lstm_one_sentence(sentence, title, embedding_index))\n",
    "    for sentence in against_main_points:\n",
    "        against_output_list.append(run_lstm_one_sentence(sentence, title, embedding_index))\n",
    "        \n",
    "    for_torch = combine_func(torch.stack(for_output_list), dim = 0, keepdim = True)[0]\n",
    "    against_torch = combine_func(torch.stack(against_output_list), dim = 0, keepdim = True)[0]\n",
    "    \n",
    "    return torch.cat((for_, against_), dim = 2)"
   ]
  },
  {
   "cell_type": "code",
   "execution_count": 144,
   "metadata": {},
   "outputs": [],
   "source": [
    "fid_torch = run_lstm_on_fid(fid, embedding_index, combine_func = torch.max)"
   ]
  },
  {
   "cell_type": "code",
   "execution_count": 145,
   "metadata": {},
   "outputs": [
    {
     "data": {
      "text/plain": [
       "tensor([[[ 0.1311,  0.0398, -0.0717, -0.0113,  0.0484,  0.0939,  0.0939,\n",
       "           0.0785,  0.2296,  0.1391,  0.1186, -0.0312,  0.2409,  0.1822,\n",
       "           0.2931,  0.1382,  0.1650,  0.0770,  0.1300,  0.3385, -0.0227,\n",
       "          -0.0478,  0.0381,  0.3026,  0.2034,  0.0691,  0.0747,  0.0797,\n",
       "          -0.0105,  0.1565,  0.1402,  0.1714,  0.1209,  0.1541,  0.2200,\n",
       "          -0.0578,  0.0963, -0.0084,  0.0531, -0.0345,  0.1637,  0.0682,\n",
       "           0.0386,  0.1677,  0.0466,  0.2120, -0.0401,  0.1498,  0.1773,\n",
       "           0.1450,  0.1453,  0.3394,  0.0595, -0.1048, -0.0602,  0.1921,\n",
       "           0.1459,  0.0621,  0.1473, -0.0097,  0.0381,  0.0212,  0.1870,\n",
       "           0.3143, -0.0622, -0.0059,  0.1172,  0.0706,  0.1236,  0.1836,\n",
       "           0.0090,  0.0752,  0.0059,  0.2280,  0.0627,  0.1630,  0.0061,\n",
       "           0.3293,  0.3092,  0.1563,  0.1527,  0.1923,  0.0700,  0.2126,\n",
       "          -0.0039,  0.0276,  0.1177,  0.0073, -0.0256,  0.1523,  0.0495,\n",
       "           0.1527,  0.0691,  0.0849,  0.0777, -0.0045,  0.0645,  0.3407,\n",
       "           0.1849,  0.2834,  0.1182,  0.2100,  0.1109, -0.0511,  0.2579,\n",
       "           0.0552, -0.0138,  0.0362,  0.0659,  0.1163,  0.1377,  0.0769,\n",
       "           0.3579,  0.1135,  0.2406,  0.0851,  0.0789, -0.0613, -0.0251,\n",
       "           0.3395,  0.0273,  0.0762,  0.0325,  0.2394,  0.0926,  0.1279,\n",
       "           0.1716,  0.0610,  0.0979, -0.0191,  0.0060,  0.1070,  0.1960,\n",
       "           0.1114, -0.0830,  0.0729,  0.0302,  0.1131,  0.1874,  0.0074,\n",
       "           0.1780,  0.0947,  0.0269,  0.0287,  0.1326,  0.1044,  0.0532,\n",
       "          -0.0098,  0.2175,  0.2537,  0.0619,  0.0132,  0.2734,  0.0797,\n",
       "           0.2266,  0.3668,  0.0833,  0.0667,  0.2048,  0.0314,  0.0912,\n",
       "          -0.1025,  0.1131,  0.0049,  0.2202,  0.0738,  0.0816,  0.0376,\n",
       "           0.1664,  0.0021,  0.0367,  0.0769,  0.1109,  0.1540,  0.1755,\n",
       "           0.0187,  0.2481,  0.0129,  0.1155,  0.1211,  0.1192, -0.0287,\n",
       "           0.0118,  0.0268, -0.0123, -0.0552,  0.1638,  0.0718,  0.1408,\n",
       "           0.0827,  0.1339,  0.0951,  0.2854, -0.0936,  0.0614,  0.1127,\n",
       "           0.1854,  0.1109,  0.0978,  0.2121,  0.0922,  0.1381,  0.0951,\n",
       "           0.0949,  0.1135,  0.1196, -0.0106,  0.0129,  0.0955,  0.1249,\n",
       "          -0.0266,  0.0718,  0.0383,  0.0683,  0.1025,  0.1025, -0.0818,\n",
       "           0.1169, -0.0213,  0.1541,  0.1371,  0.2940,  0.0378,  0.0533,\n",
       "           0.1015,  0.1474,  0.0425,  0.3314,  0.0266,  0.1622, -0.0732,\n",
       "          -0.0473,  0.1052,  0.1240, -0.0215,  0.1534,  0.1916,  0.0587,\n",
       "           0.1148,  0.1495,  0.1998, -0.1080, -0.0467,  0.2030,  0.1426,\n",
       "           0.1204,  0.1690, -0.0712, -0.0418,  0.0212,  0.0187,  0.3147,\n",
       "           0.0991,  0.0324,  0.0931,  0.0683,  0.0123,  0.1448,  0.2610,\n",
       "           0.1433, -0.0217,  0.0501,  0.1675,  0.1443, -0.1395,  0.0331,\n",
       "           0.1067,  0.1634,  0.1249,  0.1958,  0.1889,  0.1399,  0.0747,\n",
       "           0.1087,  0.0301,  0.0642,  0.2399,  0.1912,  0.1666, -0.0092,\n",
       "          -0.0315,  0.0533,  0.0608,  0.1140,  0.1658,  0.1100,  0.1121,\n",
       "           0.2881,  0.1776,  0.0314,  0.1387, -0.0009,  0.0602,  0.1764,\n",
       "           0.1330,  0.0486, -0.0119,  0.0201,  0.0035, -0.0376, -0.0015,\n",
       "           0.1769, -0.0131,  0.1188,  0.0118,  0.0817,  0.0104,  0.0828,\n",
       "           0.0853,  0.0698, -0.0442,  0.0075,  0.1096,  0.2104,  0.0255,\n",
       "           0.2330, -0.0107,  0.0579,  0.1145,  0.1423,  0.1350,  0.1435,\n",
       "           0.0975,  0.1516,  0.2493,  0.2327,  0.0094,  0.2181,  0.1229,\n",
       "          -0.0334,  0.2183,  0.0053,  0.0581, -0.1157,  0.0797,  0.0128,\n",
       "           0.1439,  0.0932,  0.2059,  0.1974, -0.0524,  0.1216,  0.1118,\n",
       "           0.2898,  0.2130,  0.2214,  0.0622, -0.0403,  0.1537,  0.0797,\n",
       "           0.0861,  0.1092,  0.1591,  0.2358,  0.1623,  0.1339,  0.0907,\n",
       "          -0.0825, -0.0743,  0.0818,  0.1756,  0.1385, -0.0374,  0.0669,\n",
       "           0.1521,  0.0243,  0.1138,  0.1904,  0.0444,  0.0827, -0.0177,\n",
       "           0.2152,  0.2018,  0.1608,  0.1973,  0.1788,  0.2158,  0.1280,\n",
       "           0.1280,  0.0227,  0.3746,  0.0143,  0.0056,  0.0910,  0.1746,\n",
       "          -0.0865,  0.2807,  0.1870,  0.1509,  0.1626,  0.0497,  0.1426,\n",
       "          -0.0111,  0.0692,  0.1341,  0.1365,  0.1174,  0.0959,  0.0805,\n",
       "           0.0595]]], grad_fn=<CatBackward>)"
      ]
     },
     "execution_count": 145,
     "metadata": {},
     "output_type": "execute_result"
    }
   ],
   "source": [
    "fid_torch"
   ]
  },
  {
   "cell_type": "code",
   "execution_count": null,
   "metadata": {},
   "outputs": [],
   "source": []
  },
  {
   "cell_type": "code",
   "execution_count": null,
   "metadata": {},
   "outputs": [],
   "source": []
  },
  {
   "cell_type": "code",
   "execution_count": null,
   "metadata": {},
   "outputs": [],
   "source": []
  }
 ],
 "metadata": {
  "kernelspec": {
   "display_name": "Python 3",
   "language": "python",
   "name": "python3"
  },
  "language_info": {
   "codemirror_mode": {
    "name": "ipython",
    "version": 3
   },
   "file_extension": ".py",
   "mimetype": "text/x-python",
   "name": "python",
   "nbconvert_exporter": "python",
   "pygments_lexer": "ipython3",
   "version": "3.7.3"
  }
 },
 "nbformat": 4,
 "nbformat_minor": 2
}
