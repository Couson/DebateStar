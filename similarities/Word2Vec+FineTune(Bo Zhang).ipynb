{
 "cells": [
  {
   "cell_type": "markdown",
   "metadata": {},
   "source": [
    "https://towardsdatascience.com/a-beginners-guide-to-word-embedding-with-gensim-word2vec-model-5970fa56cc92\n",
    "\n",
    "pretrained model downloadlink: https://s3.amazonaws.com/dl4j-distribution/GoogleNews-vectors-negative300.bin.gz"
   ]
  },
  {
   "cell_type": "code",
   "execution_count": 1,
   "metadata": {},
   "outputs": [],
   "source": [
    "from gensim.models import Word2Vec"
   ]
  },
  {
   "cell_type": "code",
   "execution_count": 2,
   "metadata": {},
   "outputs": [],
   "source": [
    "import pandas as pd"
   ]
  },
  {
   "cell_type": "code",
   "execution_count": null,
   "metadata": {},
   "outputs": [],
   "source": []
  },
  {
   "cell_type": "code",
   "execution_count": null,
   "metadata": {},
   "outputs": [],
   "source": []
  },
  {
   "cell_type": "code",
   "execution_count": null,
   "metadata": {},
   "outputs": [],
   "source": []
  },
  {
   "cell_type": "code",
   "execution_count": 10,
   "metadata": {},
   "outputs": [],
   "source": [
    "import glob\n",
    "all_files_dir = []\n",
    "for dir_ in glob.glob(\"../cleaned_transcript_data/*\"):\n",
    "    all_files_dir.append(dir_)"
   ]
  },
  {
   "cell_type": "code",
   "execution_count": 11,
   "metadata": {},
   "outputs": [],
   "source": [
    "all_transcripts = ''\n",
    "for dir_ in all_files_dir:\n",
    "    cleaned_transcript = pd.read_csv(dir_)\n",
    "    all_transcripts += ' '.join(cleaned_transcript.Script.tolist())\n",
    "    all_transcripts += '\\n'"
   ]
  },
  {
   "cell_type": "code",
   "execution_count": 12,
   "metadata": {},
   "outputs": [],
   "source": [
    "from nltk.tokenize import sent_tokenize, word_tokenize"
   ]
  },
  {
   "cell_type": "code",
   "execution_count": 13,
   "metadata": {},
   "outputs": [],
   "source": [
    "all_sents = sent_tokenize(all_transcripts, language='english')"
   ]
  },
  {
   "cell_type": "code",
   "execution_count": 14,
   "metadata": {},
   "outputs": [],
   "source": [
    "data_to_train = [word_tokenize(sent, language='english') for sent in all_sents]"
   ]
  },
  {
   "cell_type": "code",
   "execution_count": 15,
   "metadata": {},
   "outputs": [],
   "source": [
    "import gensim.downloader as api\n",
    "wv = api.load('word2vec-google-news-300')"
   ]
  },
  {
   "cell_type": "code",
   "execution_count": 31,
   "metadata": {},
   "outputs": [],
   "source": [
    "wv.save('goole_news.kvmodel')"
   ]
  },
  {
   "cell_type": "code",
   "execution_count": 40,
   "metadata": {},
   "outputs": [],
   "source": [
    "wv.save_word2vec_format('google_news_saved_file')"
   ]
  },
  {
   "cell_type": "code",
   "execution_count": 41,
   "metadata": {},
   "outputs": [
    {
     "data": {
      "text/plain": [
       "2"
      ]
     },
     "execution_count": 41,
     "metadata": {},
     "output_type": "execute_result"
    }
   ],
   "source": [
    "1+1"
   ]
  },
  {
   "cell_type": "code",
   "execution_count": null,
   "metadata": {},
   "outputs": [],
   "source": []
  },
  {
   "cell_type": "code",
   "execution_count": null,
   "metadata": {},
   "outputs": [],
   "source": []
  },
  {
   "cell_type": "code",
   "execution_count": 36,
   "metadata": {},
   "outputs": [],
   "source": [
    "model = Word2Vec(data_to_train, min_count=1, size= 300)"
   ]
  },
  {
   "cell_type": "code",
   "execution_count": 37,
   "metadata": {},
   "outputs": [],
   "source": [
    "model.build_vocab(data_to_train, update=True)"
   ]
  },
  {
   "cell_type": "code",
   "execution_count": 42,
   "metadata": {},
   "outputs": [],
   "source": [
    "model.intersect_word2vec_format('./google_news_saved_file')"
   ]
  },
  {
   "cell_type": "code",
   "execution_count": 53,
   "metadata": {
    "scrolled": true
   },
   "outputs": [
    {
     "name": "stderr",
     "output_type": "stream",
     "text": [
      "/anaconda3/lib/python3.7/site-packages/ipykernel_launcher.py:1: DeprecationWarning: Call to deprecated `__getitem__` (Method will be removed in 4.0.0, use self.wv.__getitem__() instead).\n",
      "  \"\"\"Entry point for launching an IPython kernel.\n"
     ]
    },
    {
     "data": {
      "text/plain": [
       "array([ 2.14843750e-02, -2.11914062e-01, -1.17187500e-01,  2.14843750e-01,\n",
       "       -2.34375000e-02, -1.77734375e-01, -2.02148438e-01, -2.51953125e-01,\n",
       "        3.93066406e-02, -1.30615234e-02, -3.00781250e-01,  1.85546875e-01,\n",
       "       -5.51757812e-02,  1.64062500e-01, -1.28906250e-01, -8.34960938e-02,\n",
       "       -3.46679688e-02, -2.21679688e-01,  8.00781250e-02,  7.81250000e-02,\n",
       "        6.31713867e-03,  5.63964844e-02,  1.01562500e-01, -1.64062500e-01,\n",
       "       -8.93554688e-02,  1.53320312e-01,  1.19140625e-01,  6.98242188e-02,\n",
       "        2.15820312e-01, -2.45117188e-01, -2.09960938e-01,  1.74804688e-01,\n",
       "        5.61523438e-02, -2.18750000e-01, -1.60156250e-01, -1.30859375e-01,\n",
       "        1.58203125e-01,  5.54199219e-02, -1.80664062e-01,  1.07910156e-01,\n",
       "        7.47070312e-02, -4.29687500e-02, -1.32812500e-01,  1.51367188e-01,\n",
       "       -3.00781250e-01, -3.88671875e-01,  1.16699219e-01,  1.73828125e-01,\n",
       "        4.73632812e-02,  1.25976562e-01, -3.75000000e-01, -2.07519531e-02,\n",
       "       -1.14135742e-02,  5.39550781e-02,  3.33984375e-01,  1.80664062e-02,\n",
       "       -3.39843750e-01, -9.27734375e-02, -2.41210938e-01,  5.12695312e-02,\n",
       "        3.22265625e-01,  1.45507812e-01, -1.27929688e-01,  1.95312500e-02,\n",
       "        6.77490234e-03, -1.21093750e-01,  1.25976562e-01,  1.76757812e-01,\n",
       "        3.41796875e-02,  1.98242188e-01,  5.29785156e-02, -3.84765625e-01,\n",
       "        9.47265625e-02,  7.66601562e-02, -2.32421875e-01,  1.25122070e-02,\n",
       "        2.33398438e-01, -3.56445312e-02,  3.78906250e-01,  1.58203125e-01,\n",
       "       -2.71484375e-01,  5.76171875e-02,  3.41796875e-03, -4.90234375e-01,\n",
       "       -6.59179688e-02, -8.60595703e-03, -3.12500000e-01,  2.81250000e-01,\n",
       "        6.83593750e-02, -2.03125000e-01, -1.47460938e-01,  2.89062500e-01,\n",
       "        1.35742188e-01, -1.86523438e-01, -7.32421875e-02, -9.37500000e-02,\n",
       "        3.49609375e-01, -4.35546875e-01, -3.97949219e-02, -9.66796875e-02,\n",
       "       -1.26953125e-01,  1.25976562e-01,  1.66015625e-02, -4.19921875e-02,\n",
       "       -6.37817383e-03, -8.59375000e-02, -1.10351562e-01, -2.01171875e-01,\n",
       "       -1.85546875e-01, -7.61718750e-02, -3.84521484e-03,  3.75000000e-01,\n",
       "        1.77734375e-01, -8.44726562e-02,  2.25585938e-01, -8.64257812e-02,\n",
       "        1.13769531e-01,  2.12402344e-02,  3.22265625e-02,  1.23046875e-01,\n",
       "       -2.50244141e-03,  8.20312500e-02, -2.69531250e-01,  8.39843750e-02,\n",
       "       -2.05078125e-01, -8.49609375e-02, -1.44531250e-01,  2.81982422e-02,\n",
       "       -1.23046875e-01, -2.17285156e-02, -1.14746094e-01, -1.06445312e-01,\n",
       "       -2.83203125e-02,  2.48046875e-01,  7.95898438e-02, -8.69140625e-02,\n",
       "       -9.22851562e-02, -2.40478516e-02,  2.44140625e-01, -6.00585938e-02,\n",
       "        7.56835938e-02,  2.06054688e-01, -2.89306641e-02,  1.12304688e-01,\n",
       "       -2.56347656e-02, -9.61914062e-02, -5.07354736e-04, -5.20019531e-02,\n",
       "       -2.57812500e-01, -5.51757812e-02,  2.19726562e-01,  1.37695312e-01,\n",
       "        2.73437500e-01,  5.78613281e-02,  2.61718750e-01,  1.01928711e-02,\n",
       "       -3.84765625e-01, -2.08007812e-01, -8.74023438e-02, -2.92968750e-01,\n",
       "       -1.31225586e-02, -1.83593750e-01,  3.30078125e-01,  4.19921875e-01,\n",
       "        1.27929688e-01, -9.52148438e-03,  2.45117188e-01, -3.33984375e-01,\n",
       "       -1.07910156e-01,  1.45507812e-01,  1.91406250e-01, -2.34375000e-01,\n",
       "        7.91015625e-02, -2.89062500e-01, -1.38671875e-01,  1.81640625e-01,\n",
       "       -1.11083984e-02, -7.14111328e-03, -1.10351562e-01, -2.94921875e-01,\n",
       "        7.32421875e-02, -1.04003906e-01,  4.94384766e-03,  1.43051147e-04,\n",
       "       -2.87109375e-01,  1.83105469e-02, -1.89208984e-02, -1.23535156e-01,\n",
       "       -1.76757812e-01, -7.27539062e-02,  8.10546875e-02,  2.61718750e-01,\n",
       "        2.42187500e-01,  2.57812500e-01, -1.84570312e-01,  9.32617188e-02,\n",
       "       -9.47265625e-02, -1.47460938e-01,  1.56250000e-01,  2.02636719e-02,\n",
       "        8.83789062e-02, -8.74023438e-02, -3.32031250e-01,  2.15820312e-01,\n",
       "        4.61425781e-02, -1.06445312e-01, -1.46484375e-01,  1.73828125e-01,\n",
       "       -7.51953125e-02,  3.12500000e-01, -1.77734375e-01,  1.59179688e-01,\n",
       "        7.86132812e-02,  2.09960938e-02, -2.34375000e-01, -1.20605469e-01,\n",
       "        5.71289062e-02,  1.25000000e-01, -1.24023438e-01, -2.05078125e-01,\n",
       "       -1.87500000e-01, -7.27539062e-02,  7.51953125e-02, -6.93359375e-02,\n",
       "       -8.64257812e-02,  3.51562500e-02, -9.71679688e-02, -5.41992188e-02,\n",
       "       -4.98046875e-02, -1.50390625e-01, -3.55468750e-01,  1.14746094e-01,\n",
       "       -1.44531250e-01,  1.85546875e-01,  1.11328125e-01,  3.58886719e-02,\n",
       "       -4.32128906e-02, -2.65625000e-01,  8.39843750e-02, -1.19140625e-01,\n",
       "        2.53906250e-01,  2.98828125e-01,  8.05664062e-02, -3.10546875e-01,\n",
       "        5.10253906e-02,  2.95410156e-02, -1.45507812e-01,  3.41796875e-02,\n",
       "        1.10839844e-01,  4.17480469e-02, -2.48046875e-01, -3.01513672e-02,\n",
       "        7.66601562e-02,  1.04980469e-01,  1.07910156e-01,  3.95507812e-02,\n",
       "       -2.03125000e-01, -8.93554688e-02, -6.68945312e-02,  8.34960938e-02,\n",
       "        9.86328125e-02,  2.12890625e-01,  6.25000000e-02, -1.75781250e-01,\n",
       "       -1.20117188e-01, -2.91015625e-01,  5.67436218e-05,  2.52685547e-02,\n",
       "       -1.11328125e-01,  2.51953125e-01,  2.19726562e-01, -4.71191406e-02,\n",
       "       -1.44531250e-01,  1.21582031e-01,  1.54296875e-01,  2.53906250e-01,\n",
       "       -3.57421875e-01, -6.59179688e-02,  1.14746094e-01, -7.47070312e-02,\n",
       "       -1.21093750e-01, -1.02539062e-01,  5.93261719e-02,  4.68750000e-02,\n",
       "       -2.28271484e-02, -1.60156250e-01, -3.02734375e-01, -1.17187500e-01,\n",
       "       -1.47460938e-01,  1.82617188e-01, -7.22656250e-02,  1.26953125e-01,\n",
       "        6.59179688e-02, -2.29492188e-01,  1.53320312e-01, -3.14453125e-01,\n",
       "       -2.18750000e-01, -9.03320312e-02, -5.44433594e-02,  1.79687500e-01],\n",
       "      dtype=float32)"
      ]
     },
     "execution_count": 53,
     "metadata": {},
     "output_type": "execute_result"
    }
   ],
   "source": [
    "model['Love']"
   ]
  },
  {
   "cell_type": "code",
   "execution_count": 52,
   "metadata": {
    "scrolled": true
   },
   "outputs": [
    {
     "data": {
      "text/plain": [
       "array([ 2.14843750e-02, -2.11914062e-01, -1.17187500e-01,  2.14843750e-01,\n",
       "       -2.34375000e-02, -1.77734375e-01, -2.02148438e-01, -2.51953125e-01,\n",
       "        3.93066406e-02, -1.30615234e-02, -3.00781250e-01,  1.85546875e-01,\n",
       "       -5.51757812e-02,  1.64062500e-01, -1.28906250e-01, -8.34960938e-02,\n",
       "       -3.46679688e-02, -2.21679688e-01,  8.00781250e-02,  7.81250000e-02,\n",
       "        6.31713867e-03,  5.63964844e-02,  1.01562500e-01, -1.64062500e-01,\n",
       "       -8.93554688e-02,  1.53320312e-01,  1.19140625e-01,  6.98242188e-02,\n",
       "        2.15820312e-01, -2.45117188e-01, -2.09960938e-01,  1.74804688e-01,\n",
       "        5.61523438e-02, -2.18750000e-01, -1.60156250e-01, -1.30859375e-01,\n",
       "        1.58203125e-01,  5.54199219e-02, -1.80664062e-01,  1.07910156e-01,\n",
       "        7.47070312e-02, -4.29687500e-02, -1.32812500e-01,  1.51367188e-01,\n",
       "       -3.00781250e-01, -3.88671875e-01,  1.16699219e-01,  1.73828125e-01,\n",
       "        4.73632812e-02,  1.25976562e-01, -3.75000000e-01, -2.07519531e-02,\n",
       "       -1.14135742e-02,  5.39550781e-02,  3.33984375e-01,  1.80664062e-02,\n",
       "       -3.39843750e-01, -9.27734375e-02, -2.41210938e-01,  5.12695312e-02,\n",
       "        3.22265625e-01,  1.45507812e-01, -1.27929688e-01,  1.95312500e-02,\n",
       "        6.77490234e-03, -1.21093750e-01,  1.25976562e-01,  1.76757812e-01,\n",
       "        3.41796875e-02,  1.98242188e-01,  5.29785156e-02, -3.84765625e-01,\n",
       "        9.47265625e-02,  7.66601562e-02, -2.32421875e-01,  1.25122070e-02,\n",
       "        2.33398438e-01, -3.56445312e-02,  3.78906250e-01,  1.58203125e-01,\n",
       "       -2.71484375e-01,  5.76171875e-02,  3.41796875e-03, -4.90234375e-01,\n",
       "       -6.59179688e-02, -8.60595703e-03, -3.12500000e-01,  2.81250000e-01,\n",
       "        6.83593750e-02, -2.03125000e-01, -1.47460938e-01,  2.89062500e-01,\n",
       "        1.35742188e-01, -1.86523438e-01, -7.32421875e-02, -9.37500000e-02,\n",
       "        3.49609375e-01, -4.35546875e-01, -3.97949219e-02, -9.66796875e-02,\n",
       "       -1.26953125e-01,  1.25976562e-01,  1.66015625e-02, -4.19921875e-02,\n",
       "       -6.37817383e-03, -8.59375000e-02, -1.10351562e-01, -2.01171875e-01,\n",
       "       -1.85546875e-01, -7.61718750e-02, -3.84521484e-03,  3.75000000e-01,\n",
       "        1.77734375e-01, -8.44726562e-02,  2.25585938e-01, -8.64257812e-02,\n",
       "        1.13769531e-01,  2.12402344e-02,  3.22265625e-02,  1.23046875e-01,\n",
       "       -2.50244141e-03,  8.20312500e-02, -2.69531250e-01,  8.39843750e-02,\n",
       "       -2.05078125e-01, -8.49609375e-02, -1.44531250e-01,  2.81982422e-02,\n",
       "       -1.23046875e-01, -2.17285156e-02, -1.14746094e-01, -1.06445312e-01,\n",
       "       -2.83203125e-02,  2.48046875e-01,  7.95898438e-02, -8.69140625e-02,\n",
       "       -9.22851562e-02, -2.40478516e-02,  2.44140625e-01, -6.00585938e-02,\n",
       "        7.56835938e-02,  2.06054688e-01, -2.89306641e-02,  1.12304688e-01,\n",
       "       -2.56347656e-02, -9.61914062e-02, -5.07354736e-04, -5.20019531e-02,\n",
       "       -2.57812500e-01, -5.51757812e-02,  2.19726562e-01,  1.37695312e-01,\n",
       "        2.73437500e-01,  5.78613281e-02,  2.61718750e-01,  1.01928711e-02,\n",
       "       -3.84765625e-01, -2.08007812e-01, -8.74023438e-02, -2.92968750e-01,\n",
       "       -1.31225586e-02, -1.83593750e-01,  3.30078125e-01,  4.19921875e-01,\n",
       "        1.27929688e-01, -9.52148438e-03,  2.45117188e-01, -3.33984375e-01,\n",
       "       -1.07910156e-01,  1.45507812e-01,  1.91406250e-01, -2.34375000e-01,\n",
       "        7.91015625e-02, -2.89062500e-01, -1.38671875e-01,  1.81640625e-01,\n",
       "       -1.11083984e-02, -7.14111328e-03, -1.10351562e-01, -2.94921875e-01,\n",
       "        7.32421875e-02, -1.04003906e-01,  4.94384766e-03,  1.43051147e-04,\n",
       "       -2.87109375e-01,  1.83105469e-02, -1.89208984e-02, -1.23535156e-01,\n",
       "       -1.76757812e-01, -7.27539062e-02,  8.10546875e-02,  2.61718750e-01,\n",
       "        2.42187500e-01,  2.57812500e-01, -1.84570312e-01,  9.32617188e-02,\n",
       "       -9.47265625e-02, -1.47460938e-01,  1.56250000e-01,  2.02636719e-02,\n",
       "        8.83789062e-02, -8.74023438e-02, -3.32031250e-01,  2.15820312e-01,\n",
       "        4.61425781e-02, -1.06445312e-01, -1.46484375e-01,  1.73828125e-01,\n",
       "       -7.51953125e-02,  3.12500000e-01, -1.77734375e-01,  1.59179688e-01,\n",
       "        7.86132812e-02,  2.09960938e-02, -2.34375000e-01, -1.20605469e-01,\n",
       "        5.71289062e-02,  1.25000000e-01, -1.24023438e-01, -2.05078125e-01,\n",
       "       -1.87500000e-01, -7.27539062e-02,  7.51953125e-02, -6.93359375e-02,\n",
       "       -8.64257812e-02,  3.51562500e-02, -9.71679688e-02, -5.41992188e-02,\n",
       "       -4.98046875e-02, -1.50390625e-01, -3.55468750e-01,  1.14746094e-01,\n",
       "       -1.44531250e-01,  1.85546875e-01,  1.11328125e-01,  3.58886719e-02,\n",
       "       -4.32128906e-02, -2.65625000e-01,  8.39843750e-02, -1.19140625e-01,\n",
       "        2.53906250e-01,  2.98828125e-01,  8.05664062e-02, -3.10546875e-01,\n",
       "        5.10253906e-02,  2.95410156e-02, -1.45507812e-01,  3.41796875e-02,\n",
       "        1.10839844e-01,  4.17480469e-02, -2.48046875e-01, -3.01513672e-02,\n",
       "        7.66601562e-02,  1.04980469e-01,  1.07910156e-01,  3.95507812e-02,\n",
       "       -2.03125000e-01, -8.93554688e-02, -6.68945312e-02,  8.34960938e-02,\n",
       "        9.86328125e-02,  2.12890625e-01,  6.25000000e-02, -1.75781250e-01,\n",
       "       -1.20117188e-01, -2.91015625e-01,  5.67436218e-05,  2.52685547e-02,\n",
       "       -1.11328125e-01,  2.51953125e-01,  2.19726562e-01, -4.71191406e-02,\n",
       "       -1.44531250e-01,  1.21582031e-01,  1.54296875e-01,  2.53906250e-01,\n",
       "       -3.57421875e-01, -6.59179688e-02,  1.14746094e-01, -7.47070312e-02,\n",
       "       -1.21093750e-01, -1.02539062e-01,  5.93261719e-02,  4.68750000e-02,\n",
       "       -2.28271484e-02, -1.60156250e-01, -3.02734375e-01, -1.17187500e-01,\n",
       "       -1.47460938e-01,  1.82617188e-01, -7.22656250e-02,  1.26953125e-01,\n",
       "        6.59179688e-02, -2.29492188e-01,  1.53320312e-01, -3.14453125e-01,\n",
       "       -2.18750000e-01, -9.03320312e-02, -5.44433594e-02,  1.79687500e-01],\n",
       "      dtype=float32)"
      ]
     },
     "execution_count": 52,
     "metadata": {},
     "output_type": "execute_result"
    }
   ],
   "source": [
    "wv['Love']"
   ]
  },
  {
   "cell_type": "code",
   "execution_count": null,
   "metadata": {},
   "outputs": [
    {
     "name": "stderr",
     "output_type": "stream",
     "text": [
      "/anaconda3/lib/python3.7/site-packages/ipykernel_launcher.py:1: DeprecationWarning: Call to deprecated `iter` (Attribute will be removed in 4.0.0, use self.epochs instead).\n",
      "  \"\"\"Entry point for launching an IPython kernel.\n"
     ]
    }
   ],
   "source": [
    "model.train(data_to_train, total_examples=model.corpus_count, epochs=model.iter)"
   ]
  },
  {
   "cell_type": "code",
   "execution_count": null,
   "metadata": {},
   "outputs": [],
   "source": []
  },
  {
   "cell_type": "code",
   "execution_count": null,
   "metadata": {},
   "outputs": [],
   "source": []
  },
  {
   "cell_type": "code",
   "execution_count": 99,
   "metadata": {
    "scrolled": true
   },
   "outputs": [
    {
     "name": "stderr",
     "output_type": "stream",
     "text": [
      "/anaconda3/lib/python3.7/site-packages/ipykernel_launcher.py:2: DeprecationWarning: Call to deprecated `iter` (Attribute will be removed in 4.0.0, use self.epochs instead).\n",
      "  \n"
     ]
    },
    {
     "data": {
      "text/plain": [
       "(7668597, 10939340)"
      ]
     },
     "execution_count": 99,
     "metadata": {},
     "output_type": "execute_result"
    }
   ],
   "source": [
    "model.build_vocab(data_to_train, update=True)\n",
    "model.train(data_to_train, total_examples=model.corpus_count, epochs=model.iter)"
   ]
  },
  {
   "cell_type": "code",
   "execution_count": 126,
   "metadata": {},
   "outputs": [
    {
     "name": "stdout",
     "output_type": "stream",
     "text": [
      "CPU times: user 1min 34s, sys: 3.69 s, total: 1min 37s\n",
      "Wall time: 1min 38s\n"
     ]
    }
   ],
   "source": [
    "%%time\n",
    "from gensim.models import Word2Vec\n",
    "google_model = gensim.models.KeyedVectors.load_word2vec_format('./GoogleNews-vectors-negative300.bin.gz', binary=True)"
   ]
  },
  {
   "cell_type": "code",
   "execution_count": 130,
   "metadata": {},
   "outputs": [
    {
     "data": {
      "text/plain": [
       "[('Donald_Trump', 0.8103920817375183),\n",
       " ('impersonator_entertained', 0.5942257046699524),\n",
       " ('Ivanka_Trump', 0.5924582481384277),\n",
       " ('Ivanka', 0.560720682144165),\n",
       " ('mogul_Donald_Trump', 0.5592452883720398)]"
      ]
     },
     "execution_count": 130,
     "metadata": {},
     "output_type": "execute_result"
    }
   ],
   "source": [
    "google_model.most_similar(positive=['Trump'], topn=5)"
   ]
  },
  {
   "cell_type": "code",
   "execution_count": 133,
   "metadata": {},
   "outputs": [
    {
     "ename": "AttributeError",
     "evalue": "'Word2VecKeyedVectors' object has no attribute 'build_vocab'",
     "output_type": "error",
     "traceback": [
      "\u001b[0;31m---------------------------------------------------------------------------\u001b[0m",
      "\u001b[0;31mAttributeError\u001b[0m                            Traceback (most recent call last)",
      "\u001b[0;32m<ipython-input-133-15dbc57b7acc>\u001b[0m in \u001b[0;36m<module>\u001b[0;34m\u001b[0m\n\u001b[1;32m      1\u001b[0m \u001b[0;31m## fine tune google_model\u001b[0m\u001b[0;34m\u001b[0m\u001b[0;34m\u001b[0m\u001b[0;34m\u001b[0m\u001b[0m\n\u001b[1;32m      2\u001b[0m \u001b[0;31m#%%time\u001b[0m\u001b[0;34m\u001b[0m\u001b[0;34m\u001b[0m\u001b[0;34m\u001b[0m\u001b[0m\n\u001b[0;32m----> 3\u001b[0;31m \u001b[0mgoogle_model\u001b[0m\u001b[0;34m.\u001b[0m\u001b[0mbuild_vocab\u001b[0m\u001b[0;34m(\u001b[0m\u001b[0mdata_to_train\u001b[0m\u001b[0;34m,\u001b[0m \u001b[0mupdate\u001b[0m\u001b[0;34m=\u001b[0m\u001b[0;32mTrue\u001b[0m\u001b[0;34m)\u001b[0m\u001b[0;34m\u001b[0m\u001b[0;34m\u001b[0m\u001b[0m\n\u001b[0m\u001b[1;32m      4\u001b[0m \u001b[0mgoogle_model\u001b[0m\u001b[0;34m.\u001b[0m\u001b[0mtrain\u001b[0m\u001b[0;34m(\u001b[0m\u001b[0mdata_to_train\u001b[0m\u001b[0;34m,\u001b[0m \u001b[0mtotal_examples\u001b[0m\u001b[0;34m=\u001b[0m\u001b[0mgoogle_model\u001b[0m\u001b[0;34m.\u001b[0m\u001b[0mcorpus_count\u001b[0m\u001b[0;34m,\u001b[0m \u001b[0mepochs\u001b[0m\u001b[0;34m=\u001b[0m\u001b[0mgoogle_model\u001b[0m\u001b[0;34m.\u001b[0m\u001b[0miter\u001b[0m\u001b[0;34m)\u001b[0m\u001b[0;34m\u001b[0m\u001b[0;34m\u001b[0m\u001b[0m\n",
      "\u001b[0;31mAttributeError\u001b[0m: 'Word2VecKeyedVectors' object has no attribute 'build_vocab'"
     ]
    }
   ],
   "source": [
    "## fine tune google_model\n",
    "#%%time\n",
    "google_model.build_vocab(data_to_train, update=True)\n",
    "google_model.train(data_to_train, total_examples=google_model.corpus_count, epochs=google_model.iter)"
   ]
  },
  {
   "cell_type": "code",
   "execution_count": null,
   "metadata": {},
   "outputs": [],
   "source": []
  }
 ],
 "metadata": {
  "kernelspec": {
   "display_name": "Python 3",
   "language": "python",
   "name": "python3"
  },
  "language_info": {
   "codemirror_mode": {
    "name": "ipython",
    "version": 3
   },
   "file_extension": ".py",
   "mimetype": "text/x-python",
   "name": "python",
   "nbconvert_exporter": "python",
   "pygments_lexer": "ipython3",
   "version": "3.7.3"
  }
 },
 "nbformat": 4,
 "nbformat_minor": 4
}
