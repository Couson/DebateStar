{
 "cells": [
  {
   "cell_type": "code",
   "execution_count": 1,
   "metadata": {},
   "outputs": [],
   "source": [
    "import numpy as np\n",
    "import pandas as pd\n",
    "import glob \n",
    "import nltk\n",
    "import re\n",
    "import string\n",
    "from nltk.tokenize import word_tokenize\n",
    "from nltk.corpus import stopwords\n",
    "from nltk.stem.porter import PorterStemmer\n",
    "from sklearn.metrics.pairwise import cosine_similarity\n",
    "import ast\n",
    "import tensorflow as tf"
   ]
  },
  {
   "cell_type": "markdown",
   "metadata": {},
   "source": [
    "## GloVe embedding + cosine similarity"
   ]
  },
  {
   "cell_type": "code",
   "execution_count": 3,
   "metadata": {},
   "outputs": [
    {
     "name": "stdout",
     "output_type": "stream",
     "text": [
      "found word vecs:  400000\n"
     ]
    }
   ],
   "source": [
    "embedding_index = {}\n",
    "\n",
    "f = open('glove.6B.100d.txt')\n",
    "for line in f:\n",
    "    values = line.split()\n",
    "    word = values[0]\n",
    "    coefs = np.asarray(values[1:],dtype='float32')\n",
    "    embedding_index[word] = coefs\n",
    "f.close()\n",
    "\n",
    "print('found word vecs: ',len(embedding_index))"
   ]
  },
  {
   "cell_type": "code",
   "execution_count": 4,
   "metadata": {},
   "outputs": [
    {
     "data": {
      "text/html": [
       "<div>\n",
       "<style scoped>\n",
       "    .dataframe tbody tr th:only-of-type {\n",
       "        vertical-align: middle;\n",
       "    }\n",
       "\n",
       "    .dataframe tbody tr th {\n",
       "        vertical-align: top;\n",
       "    }\n",
       "\n",
       "    .dataframe thead th {\n",
       "        text-align: right;\n",
       "    }\n",
       "</style>\n",
       "<table border=\"1\" class=\"dataframe\">\n",
       "  <thead>\n",
       "    <tr style=\"text-align: right;\">\n",
       "      <th></th>\n",
       "      <th>id</th>\n",
       "      <th>title</th>\n",
       "      <th>date</th>\n",
       "      <th>for</th>\n",
       "      <th>against</th>\n",
       "      <th>For_Main_Points</th>\n",
       "      <th>against_Main_Points</th>\n",
       "    </tr>\n",
       "  </thead>\n",
       "  <tbody>\n",
       "    <tr>\n",
       "      <th>0</th>\n",
       "      <td>d20191112</td>\n",
       "      <td>Capitalism Is a Blessing</td>\n",
       "      <td>2019-11-12</td>\n",
       "      <td>['John Mackey', 'Katherine Mangu-Ward']</td>\n",
       "      <td>['Bhaskar Sunkara', 'Richard D. Wolff']</td>\n",
       "      <td>['By promoting market competition and rewardin...</td>\n",
       "      <td>['Capitalism serves the interests of large cor...</td>\n",
       "    </tr>\n",
       "    <tr>\n",
       "      <th>1</th>\n",
       "      <td>d20191029</td>\n",
       "      <td>Parenting Is Overrated</td>\n",
       "      <td>2019-10-29</td>\n",
       "      <td>['Robert Plomin', 'Nancy Segal']</td>\n",
       "      <td>['Paige Harden', 'Ann Pleshette Murphy']</td>\n",
       "      <td>[\"We're in the midst of a DNA revolution: Whil...</td>\n",
       "      <td>['While DNA is important, factors like familia...</td>\n",
       "    </tr>\n",
       "    <tr>\n",
       "      <th>2</th>\n",
       "      <td>d20191022</td>\n",
       "      <td>Europe Has Declared War on American Tech Compa...</td>\n",
       "      <td>2019-10-22</td>\n",
       "      <td>['Roslyn Layton', 'Berin Szóka']</td>\n",
       "      <td>['Marietje Schaake', 'Ramesh Srinivasan']</td>\n",
       "      <td>['European regulators have declared war on Ame...</td>\n",
       "      <td>['Brussels isn’t waging war on Silicon Valley....</td>\n",
       "    </tr>\n",
       "    <tr>\n",
       "      <th>3</th>\n",
       "      <td>d20190917</td>\n",
       "      <td>Replace Private Insurance with Medicare for All</td>\n",
       "      <td>2019-09-17</td>\n",
       "      <td>['Dr. Adam Gaffney', 'Joseph Sanberg']</td>\n",
       "      <td>['Nick Gillespie', 'Sally Pipes']</td>\n",
       "      <td>['The United States government should follow t...</td>\n",
       "      <td>['Individuals should have the freedom to choos...</td>\n",
       "    </tr>\n",
       "    <tr>\n",
       "      <th>4</th>\n",
       "      <td>d20190912</td>\n",
       "      <td>Unresolved: Shifting Power in the Middle East</td>\n",
       "      <td>2019-09-12</td>\n",
       "      <td>['Michael Doran', 'Reuel Marc Gerecht', 'Berna...</td>\n",
       "      <td>['Brett McGurk', 'Barbara Slavin']</td>\n",
       "      <td>NaN</td>\n",
       "      <td>NaN</td>\n",
       "    </tr>\n",
       "  </tbody>\n",
       "</table>\n",
       "</div>"
      ],
      "text/plain": [
       "          id                                              title        date  \\\n",
       "0  d20191112                           Capitalism Is a Blessing  2019-11-12   \n",
       "1  d20191029                             Parenting Is Overrated  2019-10-29   \n",
       "2  d20191022  Europe Has Declared War on American Tech Compa...  2019-10-22   \n",
       "3  d20190917    Replace Private Insurance with Medicare for All  2019-09-17   \n",
       "4  d20190912      Unresolved: Shifting Power in the Middle East  2019-09-12   \n",
       "\n",
       "                                                 for  \\\n",
       "0            ['John Mackey', 'Katherine Mangu-Ward']   \n",
       "1                   ['Robert Plomin', 'Nancy Segal']   \n",
       "2                   ['Roslyn Layton', 'Berin Szóka']   \n",
       "3             ['Dr. Adam Gaffney', 'Joseph Sanberg']   \n",
       "4  ['Michael Doran', 'Reuel Marc Gerecht', 'Berna...   \n",
       "\n",
       "                                     against  \\\n",
       "0    ['Bhaskar Sunkara', 'Richard D. Wolff']   \n",
       "1   ['Paige Harden', 'Ann Pleshette Murphy']   \n",
       "2  ['Marietje Schaake', 'Ramesh Srinivasan']   \n",
       "3          ['Nick Gillespie', 'Sally Pipes']   \n",
       "4         ['Brett McGurk', 'Barbara Slavin']   \n",
       "\n",
       "                                     For_Main_Points  \\\n",
       "0  ['By promoting market competition and rewardin...   \n",
       "1  [\"We're in the midst of a DNA revolution: Whil...   \n",
       "2  ['European regulators have declared war on Ame...   \n",
       "3  ['The United States government should follow t...   \n",
       "4                                                NaN   \n",
       "\n",
       "                                 against_Main_Points  \n",
       "0  ['Capitalism serves the interests of large cor...  \n",
       "1  ['While DNA is important, factors like familia...  \n",
       "2  ['Brussels isn’t waging war on Silicon Valley....  \n",
       "3  ['Individuals should have the freedom to choos...  \n",
       "4                                                NaN  "
      ]
     },
     "execution_count": 4,
     "metadata": {},
     "output_type": "execute_result"
    }
   ],
   "source": [
    "main_points =pd.read_csv('DebateStar/Meta Data/metadata_appended_main_points.csv') \n",
    "main_points.head()"
   ]
  },
  {
   "cell_type": "code",
   "execution_count": 5,
   "metadata": {},
   "outputs": [
    {
     "data": {
      "text/html": [
       "<div>\n",
       "<style scoped>\n",
       "    .dataframe tbody tr th:only-of-type {\n",
       "        vertical-align: middle;\n",
       "    }\n",
       "\n",
       "    .dataframe tbody tr th {\n",
       "        vertical-align: top;\n",
       "    }\n",
       "\n",
       "    .dataframe thead th {\n",
       "        text-align: right;\n",
       "    }\n",
       "</style>\n",
       "<table border=\"1\" class=\"dataframe\">\n",
       "  <thead>\n",
       "    <tr style=\"text-align: right;\">\n",
       "      <th></th>\n",
       "      <th>for the against side to against</th>\n",
       "      <th>for the for side to for</th>\n",
       "      <th>from the against side to for</th>\n",
       "      <th>from the against side to undecided</th>\n",
       "      <th>from the for side to against</th>\n",
       "      <th>from the for side to undecided</th>\n",
       "      <th>from undecided to against</th>\n",
       "      <th>from undecided to for</th>\n",
       "      <th>post-debate-against</th>\n",
       "      <th>post-debate-for</th>\n",
       "      <th>post-debate-undecided</th>\n",
       "      <th>pre-debate-against</th>\n",
       "      <th>pre-debate-for</th>\n",
       "      <th>pre-debate-undecided</th>\n",
       "      <th>undecided to undecided</th>\n",
       "      <th>url</th>\n",
       "      <th>winner</th>\n",
       "      <th>id</th>\n",
       "    </tr>\n",
       "  </thead>\n",
       "  <tbody>\n",
       "    <tr>\n",
       "      <th>0</th>\n",
       "      <td>17</td>\n",
       "      <td>49</td>\n",
       "      <td>2</td>\n",
       "      <td>2</td>\n",
       "      <td>5</td>\n",
       "      <td>2</td>\n",
       "      <td>6</td>\n",
       "      <td>11</td>\n",
       "      <td>28</td>\n",
       "      <td>62</td>\n",
       "      <td>10</td>\n",
       "      <td>21</td>\n",
       "      <td>56</td>\n",
       "      <td>23</td>\n",
       "      <td>6</td>\n",
       "      <td>https://www.intelligencesquaredus.org/debates/...</td>\n",
       "      <td>against</td>\n",
       "      <td>d20191112</td>\n",
       "    </tr>\n",
       "    <tr>\n",
       "      <th>1</th>\n",
       "      <td>40</td>\n",
       "      <td>15</td>\n",
       "      <td>8</td>\n",
       "      <td>4</td>\n",
       "      <td>9</td>\n",
       "      <td>3</td>\n",
       "      <td>10</td>\n",
       "      <td>9</td>\n",
       "      <td>59</td>\n",
       "      <td>32</td>\n",
       "      <td>9</td>\n",
       "      <td>52</td>\n",
       "      <td>27</td>\n",
       "      <td>21</td>\n",
       "      <td>2</td>\n",
       "      <td>https://www.intelligencesquaredus.org/debates/...</td>\n",
       "      <td>against</td>\n",
       "      <td>d20191029</td>\n",
       "    </tr>\n",
       "    <tr>\n",
       "      <th>2</th>\n",
       "      <td>19</td>\n",
       "      <td>14</td>\n",
       "      <td>3</td>\n",
       "      <td>1</td>\n",
       "      <td>15</td>\n",
       "      <td>1</td>\n",
       "      <td>30</td>\n",
       "      <td>13</td>\n",
       "      <td>64</td>\n",
       "      <td>30</td>\n",
       "      <td>6</td>\n",
       "      <td>23</td>\n",
       "      <td>30</td>\n",
       "      <td>47</td>\n",
       "      <td>4</td>\n",
       "      <td>https://www.intelligencesquaredus.org/debates/...</td>\n",
       "      <td>against</td>\n",
       "      <td>d20191022</td>\n",
       "    </tr>\n",
       "    <tr>\n",
       "      <th>3</th>\n",
       "      <td>29</td>\n",
       "      <td>26</td>\n",
       "      <td>5</td>\n",
       "      <td>1</td>\n",
       "      <td>6</td>\n",
       "      <td>4</td>\n",
       "      <td>16</td>\n",
       "      <td>9</td>\n",
       "      <td>51</td>\n",
       "      <td>40</td>\n",
       "      <td>9</td>\n",
       "      <td>35</td>\n",
       "      <td>36</td>\n",
       "      <td>29</td>\n",
       "      <td>4</td>\n",
       "      <td>https://www.intelligencesquaredus.org/debates/...</td>\n",
       "      <td>against</td>\n",
       "      <td>d20190917</td>\n",
       "    </tr>\n",
       "    <tr>\n",
       "      <th>4</th>\n",
       "      <td>49</td>\n",
       "      <td>12</td>\n",
       "      <td>1</td>\n",
       "      <td>1</td>\n",
       "      <td>14</td>\n",
       "      <td>0</td>\n",
       "      <td>20</td>\n",
       "      <td>2</td>\n",
       "      <td>83</td>\n",
       "      <td>15</td>\n",
       "      <td>2</td>\n",
       "      <td>51</td>\n",
       "      <td>26</td>\n",
       "      <td>23</td>\n",
       "      <td>1</td>\n",
       "      <td>https://www.intelligencesquaredus.org/debates/...</td>\n",
       "      <td>against</td>\n",
       "      <td>d20190802</td>\n",
       "    </tr>\n",
       "  </tbody>\n",
       "</table>\n",
       "</div>"
      ],
      "text/plain": [
       "   for the against side to against  for the for side to for  \\\n",
       "0                               17                       49   \n",
       "1                               40                       15   \n",
       "2                               19                       14   \n",
       "3                               29                       26   \n",
       "4                               49                       12   \n",
       "\n",
       "   from the against side to for  from the against side to undecided  \\\n",
       "0                             2                                   2   \n",
       "1                             8                                   4   \n",
       "2                             3                                   1   \n",
       "3                             5                                   1   \n",
       "4                             1                                   1   \n",
       "\n",
       "   from the for side to against  from the for side to undecided  \\\n",
       "0                             5                               2   \n",
       "1                             9                               3   \n",
       "2                            15                               1   \n",
       "3                             6                               4   \n",
       "4                            14                               0   \n",
       "\n",
       "   from undecided to against  from undecided to for  post-debate-against  \\\n",
       "0                          6                     11                   28   \n",
       "1                         10                      9                   59   \n",
       "2                         30                     13                   64   \n",
       "3                         16                      9                   51   \n",
       "4                         20                      2                   83   \n",
       "\n",
       "   post-debate-for  post-debate-undecided  pre-debate-against  pre-debate-for  \\\n",
       "0               62                     10                  21              56   \n",
       "1               32                      9                  52              27   \n",
       "2               30                      6                  23              30   \n",
       "3               40                      9                  35              36   \n",
       "4               15                      2                  51              26   \n",
       "\n",
       "   pre-debate-undecided  undecided to undecided  \\\n",
       "0                    23                       6   \n",
       "1                    21                       2   \n",
       "2                    47                       4   \n",
       "3                    29                       4   \n",
       "4                    23                       1   \n",
       "\n",
       "                                                 url   winner         id  \n",
       "0  https://www.intelligencesquaredus.org/debates/...  against  d20191112  \n",
       "1  https://www.intelligencesquaredus.org/debates/...  against  d20191029  \n",
       "2  https://www.intelligencesquaredus.org/debates/...  against  d20191022  \n",
       "3  https://www.intelligencesquaredus.org/debates/...  against  d20190917  \n",
       "4  https://www.intelligencesquaredus.org/debates/...  against  d20190802  "
      ]
     },
     "execution_count": 5,
     "metadata": {},
     "output_type": "execute_result"
    }
   ],
   "source": [
    "result_live = pd.read_csv('results_data/final_live.csv')\n",
    "result_online = pd.read_csv('results_data/final_online.csv')\n",
    "result_live.head()"
   ]
  },
  {
   "cell_type": "code",
   "execution_count": null,
   "metadata": {},
   "outputs": [],
   "source": []
  },
  {
   "cell_type": "code",
   "execution_count": 7,
   "metadata": {},
   "outputs": [
    {
     "data": {
      "text/html": [
       "<div>\n",
       "<style scoped>\n",
       "    .dataframe tbody tr th:only-of-type {\n",
       "        vertical-align: middle;\n",
       "    }\n",
       "\n",
       "    .dataframe tbody tr th {\n",
       "        vertical-align: top;\n",
       "    }\n",
       "\n",
       "    .dataframe thead th {\n",
       "        text-align: right;\n",
       "    }\n",
       "</style>\n",
       "<table border=\"1\" class=\"dataframe\">\n",
       "  <thead>\n",
       "    <tr style=\"text-align: right;\">\n",
       "      <th></th>\n",
       "      <th>side</th>\n",
       "      <th>script</th>\n",
       "    </tr>\n",
       "  </thead>\n",
       "  <tbody>\n",
       "    <tr>\n",
       "      <th>0</th>\n",
       "      <td>for</td>\n",
       "      <td>Thank you very much for being here this evenin...</td>\n",
       "    </tr>\n",
       "    <tr>\n",
       "      <th>1</th>\n",
       "      <td>against</td>\n",
       "      <td>Providing arms to the other side. The bottom l...</td>\n",
       "    </tr>\n",
       "    <tr>\n",
       "      <th>2</th>\n",
       "      <td>for</td>\n",
       "      <td>Madam Chairperson, ladies and gentlemen. Uh we...</td>\n",
       "    </tr>\n",
       "    <tr>\n",
       "      <th>3</th>\n",
       "      <td>against</td>\n",
       "      <td>Thank you very much Ms. Woodruff. You can add ...</td>\n",
       "    </tr>\n",
       "    <tr>\n",
       "      <th>4</th>\n",
       "      <td>for</td>\n",
       "      <td>Thank you very much. Can you hear me? Now star...</td>\n",
       "    </tr>\n",
       "  </tbody>\n",
       "</table>\n",
       "</div>"
      ],
      "text/plain": [
       "      side                                             script\n",
       "0      for  Thank you very much for being here this evenin...\n",
       "1  against  Providing arms to the other side. The bottom l...\n",
       "2      for  Madam Chairperson, ladies and gentlemen. Uh we...\n",
       "3  against  Thank you very much Ms. Woodruff. You can add ...\n",
       "4      for  Thank you very much. Can you hear me? Now star..."
      ]
     },
     "execution_count": 7,
     "metadata": {},
     "output_type": "execute_result"
    }
   ],
   "source": [
    "fid = 'd20061129'\n",
    "df = pd.read_csv('For Against Scripts/for_against_scripts_' + fid + '.csv')\n",
    "df.head()"
   ]
  },
  {
   "cell_type": "code",
   "execution_count": 8,
   "metadata": {},
   "outputs": [],
   "source": [
    "punctuations = string.punctuation\n",
    "stop_words = set(stopwords.words('english'))"
   ]
  },
  {
   "cell_type": "code",
   "execution_count": 9,
   "metadata": {},
   "outputs": [],
   "source": [
    "def cleanText(text):\n",
    "    text = text.translate(str.maketrans('', '', punctuations))\n",
    "    return [t for t in text.lower().split() if t not in stop_words]"
   ]
  },
  {
   "cell_type": "code",
   "execution_count": 10,
   "metadata": {},
   "outputs": [],
   "source": [
    "def get_side_script(df):\n",
    "    for_script = ''\n",
    "    for s in df.loc[df['side'] == 'for']['script']:\n",
    "        for_script += s + ' '\n",
    "    against_script = ''\n",
    "    for s in df.loc[df['side'] == 'against']['script']:\n",
    "        against_script += s + ' '\n",
    "    return for_script, against_script"
   ]
  },
  {
   "cell_type": "code",
   "execution_count": 11,
   "metadata": {},
   "outputs": [],
   "source": [
    "def sentence_vec(sentence):\n",
    "    vector = np.zeros(embedding_index['the'].shape)\n",
    "    count = 0\n",
    "    for s in cleanText(sentence):\n",
    "        try:\n",
    "            vector += embedding_index[s]\n",
    "            count += 1\n",
    "        except:\n",
    "            0\n",
    "    if count == 0:\n",
    "        return vector.reshape(1, len(vector))\n",
    "    vector = vector / count\n",
    "    return vector.reshape(1, len(vector))"
   ]
  },
  {
   "cell_type": "code",
   "execution_count": 12,
   "metadata": {},
   "outputs": [],
   "source": [
    "def get_main_points(fid, main_points):\n",
    "    for_points = main_points.loc[main_points['id'] == fid]['For_Main_Points'].item()\n",
    "    for_points = ast.literal_eval(for_points)\n",
    "    against_points = main_points.loc[main_points['id'] == fid]['against_Main_Points'].item()\n",
    "    against_points = ast.literal_eval(against_points)\n",
    "    return for_points, against_points"
   ]
  },
  {
   "cell_type": "code",
   "execution_count": 18,
   "metadata": {},
   "outputs": [],
   "source": [
    "def sim_vector(sentence, side, for_points, against_points):\n",
    "    max_len = 6\n",
    "    for_len = len(for_points)\n",
    "    against_len = len(against_points)\n",
    "    assert max_len >= for_len\n",
    "    assert max_len >= against_len, str(against_len)\n",
    "    for_vec = [cosine_similarity(sentence_vec(sentence), sentence_vec(for_points[i])).item() \\\n",
    "               for i in range(for_len)]\n",
    "    against_vec = [cosine_similarity(sentence_vec(sentence), sentence_vec(against_points[i])).item() \\\n",
    "                   for i in range(against_len)]\n",
    "    if for_len < max_len:\n",
    "        for_vec += [0] * (max_len - for_len)\n",
    "    if against_len < max_len:\n",
    "        against_vec += [0] * (max_len - against_len)\n",
    "    vec = for_vec + against_vec\n",
    "    if side == 'for':\n",
    "        return vec\n",
    "    else:\n",
    "        return [-a for a in vec]"
   ]
  },
  {
   "cell_type": "code",
   "execution_count": 22,
   "metadata": {},
   "outputs": [
    {
     "data": {
      "text/plain": [
       "0.021241144491519925"
      ]
     },
     "execution_count": 22,
     "metadata": {},
     "output_type": "execute_result"
    }
   ],
   "source": [
    "(np.array(sim_vector(for_script, 'for', for_points, against_points)) + \\\n",
    "np.array(sim_vector(against_script, 'against', for_points, against_points))).sum()"
   ]
  },
  {
   "cell_type": "code",
   "execution_count": 19,
   "metadata": {},
   "outputs": [],
   "source": [
    "totals = []\n",
    "winners_live = []\n",
    "winners_online = []\n",
    "for i in range(len(main_points)):\n",
    "    if pd.isnull(main_points.iloc[i]['For_Main_Points']):\n",
    "        continue\n",
    "    fid = main_points.iloc[i]['id']\n",
    "    try:\n",
    "        scripts = pd.read_csv('For Against Scripts/for_against_scripts_' + fid + '.csv')\n",
    "    except:\n",
    "        print(fid)\n",
    "        continue\n",
    "    if len(scripts) == 0:\n",
    "        continue\n",
    "    for_script, against_script = get_side_script(scripts)\n",
    "    for_points, against_points = get_main_points(fid, main_points)\n",
    "#     total = (np.array(sim_vector(for_script, 'for', for_points, against_points)) + \\\n",
    "#     np.array(sim_vector(against_script, 'against', for_points, against_points)))\n",
    "    total = sim_vector(for_script, 'for', for_points, against_points) + \\\n",
    "    sim_vector(against_script, 'against', for_points, against_points)\n",
    "    totals.append(total)\n",
    "    winners_live.append(result_live.loc[result_live['id'] == fid]['winner'].item())\n",
    "    winners_online.append(result_online.loc[result_online['id'] == fid]['winner'].item())"
   ]
  },
  {
   "cell_type": "code",
   "execution_count": 33,
   "metadata": {},
   "outputs": [
    {
     "data": {
      "text/plain": [
       "['against',\n",
       " 'against',\n",
       " 'against',\n",
       " 'against',\n",
       " 'against',\n",
       " 'for',\n",
       " 'against',\n",
       " 'for',\n",
       " 'for',\n",
       " 'against',\n",
       " 'for',\n",
       " 'against',\n",
       " 'against',\n",
       " 'against',\n",
       " 'against',\n",
       " 'for',\n",
       " 'against',\n",
       " 'against',\n",
       " 'against',\n",
       " 'for',\n",
       " 'against',\n",
       " 'against',\n",
       " 'against',\n",
       " 'for',\n",
       " 'against',\n",
       " 'against',\n",
       " 'against',\n",
       " 'for',\n",
       " 'for',\n",
       " 'against',\n",
       " 'against',\n",
       " 'for',\n",
       " 'for',\n",
       " 'against',\n",
       " 'against',\n",
       " 'against',\n",
       " 'against',\n",
       " 'for',\n",
       " 'against',\n",
       " 'against',\n",
       " 'against',\n",
       " 'for',\n",
       " 'against',\n",
       " 'against',\n",
       " 'against',\n",
       " 'against',\n",
       " 'for',\n",
       " 'for',\n",
       " 'against',\n",
       " 'for',\n",
       " 'against',\n",
       " 'against',\n",
       " 'against',\n",
       " 'for',\n",
       " 'for',\n",
       " 'against',\n",
       " 'against',\n",
       " 'against',\n",
       " 'against',\n",
       " 'against',\n",
       " 'for',\n",
       " 'against',\n",
       " 'against',\n",
       " 'against',\n",
       " 'for',\n",
       " 'for',\n",
       " 'against',\n",
       " 'for',\n",
       " 'against',\n",
       " 'against',\n",
       " 'for',\n",
       " 'for',\n",
       " 'for',\n",
       " 'against',\n",
       " 'against',\n",
       " 'for',\n",
       " 'for',\n",
       " 'against',\n",
       " 'for',\n",
       " 'for',\n",
       " 'for',\n",
       " 'for',\n",
       " 'for',\n",
       " 'against',\n",
       " 'for',\n",
       " 'against',\n",
       " 'for',\n",
       " 'against',\n",
       " 'against',\n",
       " 'for',\n",
       " 'for',\n",
       " 'for',\n",
       " 'against',\n",
       " 'against',\n",
       " 'for',\n",
       " 'against',\n",
       " 'against',\n",
       " 'for',\n",
       " 'for',\n",
       " 'against',\n",
       " 'for',\n",
       " 'against',\n",
       " 'for',\n",
       " 'undecided',\n",
       " 'for',\n",
       " 'undecided',\n",
       " 'against',\n",
       " 'against',\n",
       " 'against',\n",
       " 'against',\n",
       " 'against',\n",
       " 'undecided',\n",
       " 'against',\n",
       " 'undecided',\n",
       " 'for',\n",
       " 'undecided',\n",
       " 'undecided',\n",
       " 'against',\n",
       " 'undecided',\n",
       " 'undecided',\n",
       " 'undecided',\n",
       " 'against',\n",
       " 'undecided',\n",
       " 'undecided',\n",
       " 'for',\n",
       " 'undecided',\n",
       " 'against',\n",
       " 'undecided',\n",
       " 'against',\n",
       " 'for',\n",
       " 'for',\n",
       " 'for',\n",
       " 'against',\n",
       " 'undecided',\n",
       " 'for',\n",
       " 'for',\n",
       " 'for',\n",
       " 'against',\n",
       " 'for',\n",
       " 'for',\n",
       " 'for',\n",
       " 'against',\n",
       " 'against',\n",
       " 'for',\n",
       " 'for',\n",
       " 'for',\n",
       " 'undecided',\n",
       " 'against',\n",
       " 'for',\n",
       " 'against',\n",
       " 'against']"
      ]
     },
     "execution_count": 33,
     "metadata": {},
     "output_type": "execute_result"
    }
   ],
   "source": [
    "winners_live"
   ]
  },
  {
   "cell_type": "code",
   "execution_count": 34,
   "metadata": {},
   "outputs": [],
   "source": [
    "predictions = []\n",
    "for i in range(len(totals)):\n",
    "    total = totals[i]\n",
    "    winner = winners_live[i]\n",
    "    if winner == 'undecided':\n",
    "        continue\n",
    "    if sum(total) > 0:\n",
    "        predictions.append(winner == 'for')\n",
    "    elif sum(total) <= 0:\n",
    "        predictions.append(winner == 'against')\n",
    "    else:\n",
    "        print('error')"
   ]
  },
  {
   "cell_type": "code",
   "execution_count": 35,
   "metadata": {},
   "outputs": [
    {
     "data": {
      "text/plain": [
       "0.5882352941176471"
      ]
     },
     "execution_count": 35,
     "metadata": {},
     "output_type": "execute_result"
    }
   ],
   "source": [
    "np.mean(predictions)"
   ]
  },
  {
   "cell_type": "code",
   "execution_count": 38,
   "metadata": {},
   "outputs": [
    {
     "data": {
      "text/plain": [
       "against      0.516556\n",
       "for          0.384106\n",
       "undecided    0.099338\n",
       "dtype: float64"
      ]
     },
     "execution_count": 38,
     "metadata": {},
     "output_type": "execute_result"
    }
   ],
   "source": [
    "pd.Series(winners_live).value_counts(normalize = True)"
   ]
  },
  {
   "cell_type": "code",
   "execution_count": 39,
   "metadata": {
    "scrolled": true
   },
   "outputs": [],
   "source": [
    "predictions = []\n",
    "for i in range(len(totals)):\n",
    "    total = totals[i]\n",
    "    winner = winners_online[i]\n",
    "    if winner == 'undecided':\n",
    "        continue\n",
    "    if sum(total) > 0:\n",
    "        predictions.append(winner == 'for')\n",
    "    elif sum(total) <= 0:\n",
    "        predictions.append(winner == 'against')\n",
    "    else:\n",
    "        print('error')"
   ]
  },
  {
   "cell_type": "code",
   "execution_count": 40,
   "metadata": {},
   "outputs": [
    {
     "data": {
      "text/plain": [
       "0.603448275862069"
      ]
     },
     "execution_count": 40,
     "metadata": {},
     "output_type": "execute_result"
    }
   ],
   "source": [
    "np.mean(predictions)"
   ]
  },
  {
   "cell_type": "code",
   "execution_count": 41,
   "metadata": {},
   "outputs": [
    {
     "data": {
      "text/plain": [
       "against      0.397351\n",
       "for          0.370861\n",
       "undecided    0.231788\n",
       "dtype: float64"
      ]
     },
     "execution_count": 41,
     "metadata": {},
     "output_type": "execute_result"
    }
   ],
   "source": [
    "pd.Series(winners_online).value_counts(normalize = True)"
   ]
  },
  {
   "cell_type": "code",
   "execution_count": null,
   "metadata": {},
   "outputs": [],
   "source": []
  },
  {
   "cell_type": "code",
   "execution_count": 144,
   "metadata": {},
   "outputs": [
    {
     "name": "stdout",
     "output_type": "stream",
     "text": [
      "against 13\n",
      "for 48\n",
      "for 62\n"
     ]
    }
   ],
   "source": [
    "total = np.zeros((1,8))\n",
    "for i in range(77):\n",
    "    try:\n",
    "        side = df['side'][i]\n",
    "        vec = np.array(sim_vector(df['script'][i], side, for_points, against_points)).reshape((1,8))\n",
    "        if vec.sum() == 0:\n",
    "            print(side, i)\n",
    "        total += vec\n",
    "    except:\n",
    "        print(i)\n"
   ]
  },
  {
   "cell_type": "code",
   "execution_count": null,
   "metadata": {},
   "outputs": [],
   "source": []
  },
  {
   "cell_type": "code",
   "execution_count": null,
   "metadata": {},
   "outputs": [],
   "source": []
  },
  {
   "cell_type": "code",
   "execution_count": 146,
   "metadata": {},
   "outputs": [
    {
     "data": {
      "text/plain": [
       "0.29452330592472986"
      ]
     },
     "execution_count": 146,
     "metadata": {},
     "output_type": "execute_result"
    }
   ],
   "source": [
    "total.sum()"
   ]
  },
  {
   "cell_type": "code",
   "execution_count": 122,
   "metadata": {},
   "outputs": [
    {
     "data": {
      "text/plain": [
       "[0.0, 0.0, 0.0, 0.0, -0.0, -0.0, -0.0, -0.0]"
      ]
     },
     "execution_count": 122,
     "metadata": {},
     "output_type": "execute_result"
    }
   ],
   "source": [
    "sim_vector(df['script'][13], 'for', for_points, against_points)"
   ]
  },
  {
   "cell_type": "code",
   "execution_count": null,
   "metadata": {},
   "outputs": [],
   "source": []
  }
 ],
 "metadata": {
  "kernelspec": {
   "display_name": "Python 3",
   "language": "python",
   "name": "python3"
  },
  "language_info": {
   "codemirror_mode": {
    "name": "ipython",
    "version": 3
   },
   "file_extension": ".py",
   "mimetype": "text/x-python",
   "name": "python",
   "nbconvert_exporter": "python",
   "pygments_lexer": "ipython3",
   "version": "3.7.1"
  }
 },
 "nbformat": 4,
 "nbformat_minor": 2
}
