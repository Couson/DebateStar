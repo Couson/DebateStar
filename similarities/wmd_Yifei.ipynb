{
 "cells": [
  {
   "cell_type": "code",
   "execution_count": 57,
   "metadata": {},
   "outputs": [
    {
     "name": "stderr",
     "output_type": "stream",
     "text": [
      "[nltk_data] Downloading package stopwords to\n",
      "[nltk_data]     /Users/yifeining/nltk_data...\n",
      "[nltk_data]   Package stopwords is already up-to-date!\n"
     ]
    }
   ],
   "source": [
    "import os\n",
    "import glob\n",
    "\n",
    "from nltk.corpus import stopwords\n",
    "from nltk import word_tokenize, sent_tokenize\n",
    "\n",
    "from nltk import download\n",
    "\n",
    "import pyemd as emd\n",
    "\n",
    "from gensim import models\n",
    "import gensim\n",
    "\n",
    "import pandas as pd\n",
    "import numpy as np\n"
   ]
  },
  {
   "cell_type": "code",
   "execution_count": 217,
   "metadata": {},
   "outputs": [
    {
     "name": "stderr",
     "output_type": "stream",
     "text": [
      "[nltk_data] Downloading package punkt to /Users/yifeining/nltk_data...\n",
      "[nltk_data]   Package punkt is already up-to-date!\n",
      "[nltk_data] Downloading package stopwords to\n",
      "[nltk_data]     /Users/yifeining/nltk_data...\n",
      "[nltk_data]   Package stopwords is already up-to-date!\n"
     ]
    },
    {
     "data": {
      "text/plain": [
       "True"
      ]
     },
     "execution_count": 217,
     "metadata": {},
     "output_type": "execute_result"
    }
   ],
   "source": [
    "download('punkt')\n",
    "download('stopwords')"
   ]
  },
  {
   "cell_type": "markdown",
   "metadata": {},
   "source": [
    "# 1. simple sentence trials"
   ]
  },
  {
   "cell_type": "code",
   "execution_count": 50,
   "metadata": {},
   "outputs": [],
   "source": [
    "from gensim.models import KeyedVectors\n",
    "\n",
    "if not os.path.exists('data/GoogleNews-vectors-negative300.bin'):\n",
    "    raise ValueError(\"SKIP: You need to download the google news model\")\n",
    "\n",
    "model = KeyedVectors.load_word2vec_format('data/GoogleNews-vectors-negative300.bin', binary=True)\n",
    "# auto-normalize vecs; keep the length uniform\n"
   ]
  },
  {
   "cell_type": "code",
   "execution_count": 179,
   "metadata": {},
   "outputs": [],
   "source": [
    "for_test = 'I sell drug to poor people and make money from them'\n",
    "agst_test = 'cigar is bad for people\\'s health, and you should quit smoking'\n",
    "temp = 'I love cigar-flavored icecream'\n",
    "\n",
    "temp = temp.lower().split()\n",
    "for_test = for_test.lower().split()\n",
    "agst_test = agst_test.lower().split()"
   ]
  },
  {
   "cell_type": "code",
   "execution_count": 180,
   "metadata": {},
   "outputs": [
    {
     "data": {
      "text/plain": [
       "(['i',\n",
       "  'sell',\n",
       "  'drug',\n",
       "  'to',\n",
       "  'poor',\n",
       "  'people',\n",
       "  'and',\n",
       "  'make',\n",
       "  'money',\n",
       "  'from',\n",
       "  'them'],\n",
       " ['cigar',\n",
       "  'is',\n",
       "  'bad',\n",
       "  'for',\n",
       "  \"people's\",\n",
       "  'health,',\n",
       "  'and',\n",
       "  'you',\n",
       "  'should',\n",
       "  'quit',\n",
       "  'smoking'])"
      ]
     },
     "execution_count": 180,
     "metadata": {},
     "output_type": "execute_result"
    }
   ],
   "source": [
    "for_test, agst_test"
   ]
  },
  {
   "cell_type": "code",
   "execution_count": 181,
   "metadata": {
    "scrolled": true
   },
   "outputs": [
    {
     "data": {
      "text/plain": [
       "1.1868173578497592"
      ]
     },
     "execution_count": 181,
     "metadata": {},
     "output_type": "execute_result"
    }
   ],
   "source": [
    "model.wmdistance(for_test, agst_test) # can't distinguish sides"
   ]
  },
  {
   "cell_type": "markdown",
   "metadata": {},
   "source": [
    "# 2. Word Mover Distance w/ google word emmbedding\n",
    "    - GoogleNews-vectors-negative300.bin"
   ]
  },
  {
   "cell_type": "code",
   "execution_count": 111,
   "metadata": {},
   "outputs": [],
   "source": [
    "def word_mover_distance(sentence_1, sentence_2, normalize = True):\n",
    "    if not normalize:\n",
    "        model.init_sims(replace=False)\n",
    "    \n",
    "    return model.wmdistance(sentence_1, sentence_2)"
   ]
  },
  {
   "cell_type": "code",
   "execution_count": 174,
   "metadata": {},
   "outputs": [],
   "source": [
    "def load_script(path):\n",
    "    '''\n",
    "    take one csv file path\n",
    "    return for/agst string corpus\n",
    "    '''\n",
    "#     for_corpus = ''\n",
    "#     agst_corpus = ''\n",
    "#     for filepath in glob.glob(data_path):\n",
    "\n",
    "    if not os.path.exists(path):\n",
    "        os.rename(path, path + '.csv')\n",
    "        path = path + '.csv'\n",
    "    \n",
    "    df = pd.read_csv(path)\n",
    "    for_script = ' '.join(list(df.loc[df.side == 'for', 'script']))\n",
    "    agst_script = ' '.join(list(df.loc[df.side == 'against', 'script']))\n",
    "\n",
    "#         for_corpus += for_scripts + ' '\n",
    "#         agst_corpus += agst_scripts + ' '\n",
    "\n",
    "    return for_script, agst_script\n",
    "\n",
    "\n",
    "# def load_point_from_meta(path):\n",
    "#     if path[-3:] != 'csv':\n",
    "#         os.rename(path, path + '.csv')\n",
    "#         path = path + '.csv'\n",
    "    \n",
    "#     df = pd.read_csv(path)\n",
    "# #     print(df)\n",
    "# #     for_side = df.loc[:, 'For The Motion']\n",
    "# #     agst_side = df.loc[:, 'Against The Motion']\n",
    "    \n",
    "#     return df\n"
   ]
  },
  {
   "cell_type": "markdown",
   "metadata": {},
   "source": [
    "# loading meta data w/ main pts for each side\n",
    "    - noticed null entries; needs to be filtered"
   ]
  },
  {
   "cell_type": "code",
   "execution_count": 230,
   "metadata": {
    "scrolled": false
   },
   "outputs": [
    {
     "name": "stdout",
     "output_type": "stream",
     "text": [
      "(175, 3)\n"
     ]
    },
    {
     "data": {
      "text/html": [
       "<div>\n",
       "<style scoped>\n",
       "    .dataframe tbody tr th:only-of-type {\n",
       "        vertical-align: middle;\n",
       "    }\n",
       "\n",
       "    .dataframe tbody tr th {\n",
       "        vertical-align: top;\n",
       "    }\n",
       "\n",
       "    .dataframe thead th {\n",
       "        text-align: right;\n",
       "    }\n",
       "</style>\n",
       "<table border=\"1\" class=\"dataframe\">\n",
       "  <thead>\n",
       "    <tr style=\"text-align: right;\">\n",
       "      <th></th>\n",
       "      <th>id</th>\n",
       "      <th>for_mp</th>\n",
       "      <th>against_mp</th>\n",
       "    </tr>\n",
       "  </thead>\n",
       "  <tbody>\n",
       "    <tr>\n",
       "      <th>0</th>\n",
       "      <td>d20191112</td>\n",
       "      <td>['By promoting market competition and rewardin...</td>\n",
       "      <td>['Capitalism serves the interests of large cor...</td>\n",
       "    </tr>\n",
       "    <tr>\n",
       "      <th>1</th>\n",
       "      <td>d20191029</td>\n",
       "      <td>[\"We're in the midst of a DNA revolution: Whil...</td>\n",
       "      <td>['While DNA is important, factors like familia...</td>\n",
       "    </tr>\n",
       "    <tr>\n",
       "      <th>2</th>\n",
       "      <td>d20191022</td>\n",
       "      <td>['European regulators have declared war on Ame...</td>\n",
       "      <td>['Brussels isn’t waging war on Silicon Valley....</td>\n",
       "    </tr>\n",
       "    <tr>\n",
       "      <th>3</th>\n",
       "      <td>d20190917</td>\n",
       "      <td>['The United States government should follow t...</td>\n",
       "      <td>['Individuals should have the freedom to choos...</td>\n",
       "    </tr>\n",
       "    <tr>\n",
       "      <th>4</th>\n",
       "      <td>d20190912</td>\n",
       "      <td>NaN</td>\n",
       "      <td>NaN</td>\n",
       "    </tr>\n",
       "  </tbody>\n",
       "</table>\n",
       "</div>"
      ],
      "text/plain": [
       "          id                                             for_mp  \\\n",
       "0  d20191112  ['By promoting market competition and rewardin...   \n",
       "1  d20191029  [\"We're in the midst of a DNA revolution: Whil...   \n",
       "2  d20191022  ['European regulators have declared war on Ame...   \n",
       "3  d20190917  ['The United States government should follow t...   \n",
       "4  d20190912                                                NaN   \n",
       "\n",
       "                                          against_mp  \n",
       "0  ['Capitalism serves the interests of large cor...  \n",
       "1  ['While DNA is important, factors like familia...  \n",
       "2  ['Brussels isn’t waging war on Silicon Valley....  \n",
       "3  ['Individuals should have the freedom to choos...  \n",
       "4                                                NaN  "
      ]
     },
     "execution_count": 230,
     "metadata": {},
     "output_type": "execute_result"
    }
   ],
   "source": [
    "meta_path =  'DebateStar/Meta Data/metadata_appended_main_points.csv'\n",
    "meta_raw = pd.read_csv(meta_path)\n",
    "meta = meta_raw.loc[:, ['id', 'For_Main_Points', 'against_Main_Points']]\\\n",
    "        .rename({'against_Main_Points': 'against_mp',\n",
    "                 'For_Main_Points': 'for_mp'}, axis = 1)\n",
    "print(meta.shape)\n",
    "meta.head()"
   ]
  },
  {
   "cell_type": "markdown",
   "metadata": {},
   "source": [
    "# loading results data w/ winners \n",
    "    - noticed a high proportion of undecided; needs to be filtered"
   ]
  },
  {
   "cell_type": "code",
   "execution_count": 192,
   "metadata": {},
   "outputs": [
    {
     "name": "stdout",
     "output_type": "stream",
     "text": [
      "proportion of undecided in live:  0.1242603550295858\n",
      "proportion of undecided in online :  0.25443786982248523\n",
      "(169, 2) (169, 2)\n"
     ]
    }
   ],
   "source": [
    "live_path = 'DebateStar/results_data/final_live.csv'\n",
    "online_path = 'DebateStar/results_data/final_online.csv'\n",
    "\n",
    "live_res = pd.read_csv(live_path).loc[:, ['id', 'winner']].rename({'winner': 'live_winner'}, axis = 1)\n",
    "online_res = pd.read_csv(online_path).loc[:, ['id', 'winner']].rename({'winner': 'online_winner'}, axis = 1)\n",
    "\n",
    "# need to be filtered\n",
    "print('proportion of undecided in live: ', np.mean(live_res.live_winner == 'undecided'))\n",
    "print('proportion of undecided in online : ', np.mean(online_res.online_winner == 'undecided'))\n",
    "print(live_res.shape, online_res.shape)"
   ]
  },
  {
   "cell_type": "code",
   "execution_count": 212,
   "metadata": {},
   "outputs": [],
   "source": [
    "live_res = live_res.loc[live_res.live_winner != 'undecided', :]\n",
    "online_res = online_res.loc[online_res.online_winner != 'undecided', :]"
   ]
  },
  {
   "cell_type": "code",
   "execution_count": 213,
   "metadata": {
    "scrolled": true
   },
   "outputs": [
    {
     "data": {
      "text/html": [
       "<div>\n",
       "<style scoped>\n",
       "    .dataframe tbody tr th:only-of-type {\n",
       "        vertical-align: middle;\n",
       "    }\n",
       "\n",
       "    .dataframe tbody tr th {\n",
       "        vertical-align: top;\n",
       "    }\n",
       "\n",
       "    .dataframe thead th {\n",
       "        text-align: right;\n",
       "    }\n",
       "</style>\n",
       "<table border=\"1\" class=\"dataframe\">\n",
       "  <thead>\n",
       "    <tr style=\"text-align: right;\">\n",
       "      <th></th>\n",
       "      <th>id</th>\n",
       "      <th>online_winner</th>\n",
       "    </tr>\n",
       "  </thead>\n",
       "  <tbody>\n",
       "    <tr>\n",
       "      <th>0</th>\n",
       "      <td>d20191112</td>\n",
       "      <td>against</td>\n",
       "    </tr>\n",
       "    <tr>\n",
       "      <th>1</th>\n",
       "      <td>d20191029</td>\n",
       "      <td>for</td>\n",
       "    </tr>\n",
       "    <tr>\n",
       "      <th>2</th>\n",
       "      <td>d20191022</td>\n",
       "      <td>against</td>\n",
       "    </tr>\n",
       "    <tr>\n",
       "      <th>3</th>\n",
       "      <td>d20190917</td>\n",
       "      <td>against</td>\n",
       "    </tr>\n",
       "    <tr>\n",
       "      <th>4</th>\n",
       "      <td>d20190802</td>\n",
       "      <td>against</td>\n",
       "    </tr>\n",
       "  </tbody>\n",
       "</table>\n",
       "</div>"
      ],
      "text/plain": [
       "          id online_winner\n",
       "0  d20191112       against\n",
       "1  d20191029           for\n",
       "2  d20191022       against\n",
       "3  d20190917       against\n",
       "4  d20190802       against"
      ]
     },
     "execution_count": 213,
     "metadata": {},
     "output_type": "execute_result"
    }
   ],
   "source": [
    "online_res.head()"
   ]
  },
  {
   "cell_type": "markdown",
   "metadata": {},
   "source": [
    "# merging results data w/ meta data\n",
    "    - null entries\n",
    "    - undecided votes for online\n",
    "    - undecided votes for live"
   ]
  },
  {
   "cell_type": "code",
   "execution_count": 223,
   "metadata": {},
   "outputs": [],
   "source": [
    "import ast"
   ]
  },
  {
   "cell_type": "code",
   "execution_count": 277,
   "metadata": {
    "scrolled": true
   },
   "outputs": [
    {
     "data": {
      "text/html": [
       "<div>\n",
       "<style scoped>\n",
       "    .dataframe tbody tr th:only-of-type {\n",
       "        vertical-align: middle;\n",
       "    }\n",
       "\n",
       "    .dataframe tbody tr th {\n",
       "        vertical-align: top;\n",
       "    }\n",
       "\n",
       "    .dataframe thead th {\n",
       "        text-align: right;\n",
       "    }\n",
       "</style>\n",
       "<table border=\"1\" class=\"dataframe\">\n",
       "  <thead>\n",
       "    <tr style=\"text-align: right;\">\n",
       "      <th></th>\n",
       "      <th>id</th>\n",
       "      <th>for_mp</th>\n",
       "      <th>against_mp</th>\n",
       "      <th>live_winner</th>\n",
       "      <th>online_winner</th>\n",
       "    </tr>\n",
       "  </thead>\n",
       "  <tbody>\n",
       "    <tr>\n",
       "      <th>0</th>\n",
       "      <td>d20191112</td>\n",
       "      <td>['By promoting market competition and rewardin...</td>\n",
       "      <td>['Capitalism serves the interests of large cor...</td>\n",
       "      <td>against</td>\n",
       "      <td>against</td>\n",
       "    </tr>\n",
       "    <tr>\n",
       "      <th>1</th>\n",
       "      <td>d20191029</td>\n",
       "      <td>[\"We're in the midst of a DNA revolution: Whil...</td>\n",
       "      <td>['While DNA is important, factors like familia...</td>\n",
       "      <td>against</td>\n",
       "      <td>for</td>\n",
       "    </tr>\n",
       "    <tr>\n",
       "      <th>2</th>\n",
       "      <td>d20191022</td>\n",
       "      <td>['European regulators have declared war on Ame...</td>\n",
       "      <td>['Brussels isn’t waging war on Silicon Valley....</td>\n",
       "      <td>against</td>\n",
       "      <td>against</td>\n",
       "    </tr>\n",
       "    <tr>\n",
       "      <th>3</th>\n",
       "      <td>d20190917</td>\n",
       "      <td>['The United States government should follow t...</td>\n",
       "      <td>['Individuals should have the freedom to choos...</td>\n",
       "      <td>against</td>\n",
       "      <td>against</td>\n",
       "    </tr>\n",
       "    <tr>\n",
       "      <th>4</th>\n",
       "      <td>d20190802</td>\n",
       "      <td>['The prospect of China becoming an open and l...</td>\n",
       "      <td>['The United States and China are great compet...</td>\n",
       "      <td>against</td>\n",
       "      <td>against</td>\n",
       "    </tr>\n",
       "  </tbody>\n",
       "</table>\n",
       "</div>"
      ],
      "text/plain": [
       "          id                                             for_mp  \\\n",
       "0  d20191112  ['By promoting market competition and rewardin...   \n",
       "1  d20191029  [\"We're in the midst of a DNA revolution: Whil...   \n",
       "2  d20191022  ['European regulators have declared war on Ame...   \n",
       "3  d20190917  ['The United States government should follow t...   \n",
       "4  d20190802  ['The prospect of China becoming an open and l...   \n",
       "\n",
       "                                          against_mp live_winner online_winner  \n",
       "0  ['Capitalism serves the interests of large cor...     against       against  \n",
       "1  ['While DNA is important, factors like familia...     against           for  \n",
       "2  ['Brussels isn’t waging war on Silicon Valley....     against       against  \n",
       "3  ['Individuals should have the freedom to choos...     against       against  \n",
       "4  ['The United States and China are great compet...     against       against  "
      ]
     },
     "execution_count": 277,
     "metadata": {},
     "output_type": "execute_result"
    }
   ],
   "source": [
    "merged = meta.merge(live_res, how = 'inner', on = 'id').merge(online_res, on = 'id').drop_duplicates()\n",
    "\n",
    "merged = merged.dropna()\n",
    "merged.head()"
   ]
  },
  {
   "cell_type": "markdown",
   "metadata": {},
   "source": [
    "# loading scripts for each id"
   ]
  },
  {
   "cell_type": "code",
   "execution_count": 297,
   "metadata": {},
   "outputs": [
    {
     "data": {
      "text/plain": [
       "[1, 0, 0, 0, 0, 0]"
      ]
     },
     "execution_count": 297,
     "metadata": {},
     "output_type": "execute_result"
    }
   ],
   "source": [
    "stop_words = stopwords.words('english')\n",
    "\n",
    "def clean_text(text):\n",
    "    text = text.lower()\n",
    "    text = word_tokenize(text)  # Split into words.\n",
    "    text = [w for w in text if (not w in stop_words) and (w.isalpha())]\n",
    "    return text\n",
    "\n",
    "\n",
    "def padding_vec(vec):\n",
    "    MAX_LEN = 6\n",
    "    \n",
    "    assert len(vec) <= 6, 'script has more than 6 pts'\n",
    "    padding = MAX_LEN - len(vec)\n",
    "    return vec + [0] * padding\n",
    "\n",
    "def for_win(for_, agt_):\n",
    "    \n",
    "    # if vec1 is more remote vec2 wins\n",
    "    out = 'against' if (np.sum(np.array(for_)) > np.sum(np.array(agt_))) else 'for'\n",
    "    return out\n",
    "\n",
    "\n",
    "padding_vec([1])"
   ]
  },
  {
   "cell_type": "code",
   "execution_count": 279,
   "metadata": {
    "scrolled": true
   },
   "outputs": [
    {
     "data": {
      "text/html": [
       "<div>\n",
       "<style scoped>\n",
       "    .dataframe tbody tr th:only-of-type {\n",
       "        vertical-align: middle;\n",
       "    }\n",
       "\n",
       "    .dataframe tbody tr th {\n",
       "        vertical-align: top;\n",
       "    }\n",
       "\n",
       "    .dataframe thead th {\n",
       "        text-align: right;\n",
       "    }\n",
       "</style>\n",
       "<table border=\"1\" class=\"dataframe\">\n",
       "  <thead>\n",
       "    <tr style=\"text-align: right;\">\n",
       "      <th></th>\n",
       "      <th>for_mp</th>\n",
       "      <th>against_mp</th>\n",
       "      <th>live_winner</th>\n",
       "      <th>online_winner</th>\n",
       "    </tr>\n",
       "    <tr>\n",
       "      <th>id</th>\n",
       "      <th></th>\n",
       "      <th></th>\n",
       "      <th></th>\n",
       "      <th></th>\n",
       "    </tr>\n",
       "  </thead>\n",
       "  <tbody>\n",
       "    <tr>\n",
       "      <th>d20191112</th>\n",
       "      <td>[[promoting, market, competition, rewarding, i...</td>\n",
       "      <td>[[capitalism, serves, interests, large, corpor...</td>\n",
       "      <td>against</td>\n",
       "      <td>against</td>\n",
       "    </tr>\n",
       "    <tr>\n",
       "      <th>d20191029</th>\n",
       "      <td>[[midst, dna, revolution, personal, genetic, i...</td>\n",
       "      <td>[[dna, important, factors, like, familial, dyn...</td>\n",
       "      <td>against</td>\n",
       "      <td>for</td>\n",
       "    </tr>\n",
       "    <tr>\n",
       "      <th>d20191022</th>\n",
       "      <td>[[european, regulators, declared, war, america...</td>\n",
       "      <td>[[brussels, waging, war, silicon, valley, inst...</td>\n",
       "      <td>against</td>\n",
       "      <td>against</td>\n",
       "    </tr>\n",
       "    <tr>\n",
       "      <th>d20190917</th>\n",
       "      <td>[[united, states, government, follow, lead, na...</td>\n",
       "      <td>[[individuals, freedom, choose, manage, health...</td>\n",
       "      <td>against</td>\n",
       "      <td>against</td>\n",
       "    </tr>\n",
       "    <tr>\n",
       "      <th>d20190802</th>\n",
       "      <td>[[prospect, china, becoming, open, liberal, st...</td>\n",
       "      <td>[[united, states, china, great, competitors, e...</td>\n",
       "      <td>against</td>\n",
       "      <td>against</td>\n",
       "    </tr>\n",
       "    <tr>\n",
       "      <th>...</th>\n",
       "      <td>...</td>\n",
       "      <td>...</td>\n",
       "      <td>...</td>\n",
       "      <td>...</td>\n",
       "    </tr>\n",
       "    <tr>\n",
       "      <th>d20070918</th>\n",
       "      <td>[[democratization, middle, east, result, regio...</td>\n",
       "      <td>[[america, maintain, image, beacon, democracy,...</td>\n",
       "      <td>for</td>\n",
       "      <td>for</td>\n",
       "    </tr>\n",
       "    <tr>\n",
       "      <th>d20070207</th>\n",
       "      <td>[[separation, church, state, heralded, corners...</td>\n",
       "      <td>[[attempt, limit, individual, ability, employ,...</td>\n",
       "      <td>for</td>\n",
       "      <td>for</td>\n",
       "    </tr>\n",
       "    <tr>\n",
       "      <th>d20061213</th>\n",
       "      <td>[[hollywood, films, portraying, americans, vio...</td>\n",
       "      <td>[[fueled, unpopular, american, policies, pract...</td>\n",
       "      <td>against</td>\n",
       "      <td>against</td>\n",
       "    </tr>\n",
       "    <tr>\n",
       "      <th>d20061129</th>\n",
       "      <td>[[unless, hamas, renounces, charter, calls, vi...</td>\n",
       "      <td>[[hamas, political, power, free, fair, democra...</td>\n",
       "      <td>against</td>\n",
       "      <td>for</td>\n",
       "    </tr>\n",
       "    <tr>\n",
       "      <th>d20061017</th>\n",
       "      <td>[[limitation, free, speech, opens, door, gover...</td>\n",
       "      <td>[[freedom, speech, absolute, legally, limited,...</td>\n",
       "      <td>for</td>\n",
       "      <td>for</td>\n",
       "    </tr>\n",
       "  </tbody>\n",
       "</table>\n",
       "<p>114 rows × 4 columns</p>\n",
       "</div>"
      ],
      "text/plain": [
       "                                                      for_mp  \\\n",
       "id                                                             \n",
       "d20191112  [[promoting, market, competition, rewarding, i...   \n",
       "d20191029  [[midst, dna, revolution, personal, genetic, i...   \n",
       "d20191022  [[european, regulators, declared, war, america...   \n",
       "d20190917  [[united, states, government, follow, lead, na...   \n",
       "d20190802  [[prospect, china, becoming, open, liberal, st...   \n",
       "...                                                      ...   \n",
       "d20070918  [[democratization, middle, east, result, regio...   \n",
       "d20070207  [[separation, church, state, heralded, corners...   \n",
       "d20061213  [[hollywood, films, portraying, americans, vio...   \n",
       "d20061129  [[unless, hamas, renounces, charter, calls, vi...   \n",
       "d20061017  [[limitation, free, speech, opens, door, gover...   \n",
       "\n",
       "                                                  against_mp live_winner  \\\n",
       "id                                                                         \n",
       "d20191112  [[capitalism, serves, interests, large, corpor...     against   \n",
       "d20191029  [[dna, important, factors, like, familial, dyn...     against   \n",
       "d20191022  [[brussels, waging, war, silicon, valley, inst...     against   \n",
       "d20190917  [[individuals, freedom, choose, manage, health...     against   \n",
       "d20190802  [[united, states, china, great, competitors, e...     against   \n",
       "...                                                      ...         ...   \n",
       "d20070918  [[america, maintain, image, beacon, democracy,...         for   \n",
       "d20070207  [[attempt, limit, individual, ability, employ,...         for   \n",
       "d20061213  [[fueled, unpopular, american, policies, pract...     against   \n",
       "d20061129  [[hamas, political, power, free, fair, democra...     against   \n",
       "d20061017  [[freedom, speech, absolute, legally, limited,...         for   \n",
       "\n",
       "          online_winner  \n",
       "id                       \n",
       "d20191112       against  \n",
       "d20191029           for  \n",
       "d20191022       against  \n",
       "d20190917       against  \n",
       "d20190802       against  \n",
       "...                 ...  \n",
       "d20070918           for  \n",
       "d20070207           for  \n",
       "d20061213       against  \n",
       "d20061129           for  \n",
       "d20061017           for  \n",
       "\n",
       "[114 rows x 4 columns]"
      ]
     },
     "execution_count": 279,
     "metadata": {},
     "output_type": "execute_result"
    }
   ],
   "source": [
    "### general cleaning\n",
    "\n",
    "# convert mp to list obj\n",
    "merged.loc[:, 'for_mp'] = merged.for_mp.apply(lambda x: [clean_text(s) for s in ast.literal_eval(x)])\n",
    "merged.loc[:, 'against_mp'] = merged.against_mp.apply(lambda x: [clean_text(s) for s in ast.literal_eval(x)])\n",
    "\n",
    "merged = merged.set_index('id')\n",
    "merged.head()"
   ]
  },
  {
   "cell_type": "code",
   "execution_count": 299,
   "metadata": {},
   "outputs": [],
   "source": [
    "pred = []\n",
    "for idx in merged.index:\n",
    "    # get main points\n",
    "    for_mp = merged.loc[idx, 'for_mp']\n",
    "    against_mp = merged.loc[idx, 'against_mp']\n",
    "#     print(for_mp)\n",
    "#     print(against_mp)\n",
    "\n",
    "    # get script of both side\n",
    "    path = 'DebateStar/For Against Scripts/for_against_scripts_bp_free_{}.csv'.format(idx)\n",
    "    for_script, against_script = load_script(path)\n",
    "    \n",
    "    # cleaning script\n",
    "    for_script, against_script = clean_text(for_script), clean_text(against_script)\n",
    "    \n",
    "    # cleaning main pts [checked; refer to previous cells]\n",
    "    \n",
    "    # project scripts onto main points\n",
    "    for_sim = [word_mover_distance(for_script, i) for i in for_mp]\n",
    "    against_sim = [word_mover_distance(against_script, i) for i in for_mp]\n",
    "\n",
    "    diff = for_win(padding_vec(for_sim), padding_vec(against_sim))\n",
    "    \n",
    "    pred.append(diff)\n",
    "    \n",
    "    \n",
    "    "
   ]
  },
  {
   "cell_type": "code",
   "execution_count": 305,
   "metadata": {},
   "outputs": [
    {
     "data": {
      "text/plain": [
       "['against',\n",
       " 'for',\n",
       " 'against',\n",
       " 'for',\n",
       " 'for',\n",
       " 'against',\n",
       " 'for',\n",
       " 'against',\n",
       " 'for',\n",
       " 'against']"
      ]
     },
     "execution_count": 305,
     "metadata": {},
     "output_type": "execute_result"
    }
   ],
   "source": [
    "pred[:10]"
   ]
  },
  {
   "cell_type": "code",
   "execution_count": 307,
   "metadata": {},
   "outputs": [
    {
     "name": "stdout",
     "output_type": "stream",
     "text": [
      "0.5877192982456141\n"
     ]
    }
   ],
   "source": [
    "\n",
    "print(np.mean(merged.live_winner.values == pred))"
   ]
  },
  {
   "cell_type": "code",
   "execution_count": 308,
   "metadata": {},
   "outputs": [
    {
     "name": "stdout",
     "output_type": "stream",
     "text": [
      "0.5350877192982456\n"
     ]
    }
   ],
   "source": [
    "print(np.mean(merged.online_winner.values == pred))"
   ]
  },
  {
   "cell_type": "code",
   "execution_count": null,
   "metadata": {},
   "outputs": [],
   "source": []
  },
  {
   "cell_type": "code",
   "execution_count": null,
   "metadata": {},
   "outputs": [],
   "source": []
  },
  {
   "cell_type": "code",
   "execution_count": null,
   "metadata": {},
   "outputs": [],
   "source": []
  },
  {
   "cell_type": "code",
   "execution_count": null,
   "metadata": {},
   "outputs": [],
   "source": []
  },
  {
   "cell_type": "code",
   "execution_count": null,
   "metadata": {},
   "outputs": [],
   "source": []
  },
  {
   "cell_type": "code",
   "execution_count": null,
   "metadata": {},
   "outputs": [],
   "source": []
  },
  {
   "cell_type": "markdown",
   "metadata": {},
   "source": [
    "# 2.WmdSimilarity"
   ]
  },
  {
   "cell_type": "code",
   "execution_count": null,
   "metadata": {},
   "outputs": [],
   "source": []
  },
  {
   "cell_type": "code",
   "execution_count": 6,
   "metadata": {},
   "outputs": [],
   "source": [
    "# def clean_text(text):\n",
    "#     text = text.lower()\n",
    "#     text = word_tokenize(text)  # Split into words.\n",
    "#     text = [w for w in text if (not w in stop_words) and (w.isalpha())]\n",
    "#     return text\n"
   ]
  },
  {
   "cell_type": "code",
   "execution_count": 309,
   "metadata": {},
   "outputs": [],
   "source": [
    "# df_p = 'for_against_scripts_d20100413.csv'\n",
    "# main_p = 'main_points_d20100413'\n",
    "\n",
    "# id_ = 'd20100413'\n",
    "\n",
    "# if not os.path.exists('DebateStar/Main Points/' + main_p + '.csv'):\n",
    "#     os.rename('DebateStar/Main Points/' + main_p, 'DebateStar/Main Points/' + main_p + '.csv')\n",
    "\n",
    "\n",
    "# sample_main = pd.read_csv('DebateStar/Meta Data/metadata_appended_main_points.csv')\n",
    "# sample_main = sample_main.loc[sample_main.id == id_, ['For_Main_Points', 'against_Main_Points']]\n",
    "\n",
    "# for_pts = ast.literal_eval(sample_main.loc[:, 'For_Main_Points'].values[0])\n",
    "# against_pts = ast.literal_eval(sample_main.loc[:, 'against_Main_Points'].values[0])\n"
   ]
  },
  {
   "cell_type": "code",
   "execution_count": 310,
   "metadata": {},
   "outputs": [],
   "source": [
    "# sample_df = pd.read_csv('DebateStar/For Against Scripts/' + df_p)\n",
    "\n",
    "# for_corpus = sample_df.loc[sample_df.side == 'for', ['script']].values\n",
    "# for_corpus = [clean_text(c[0]) for c in for_corpus]\n",
    "\n",
    "# agt_corpus = sample_df.loc[sample_df.side == 'against', ['script']].values\n",
    "# agt_corpus = [clean_text(c[0]) for c in agt_corpus]\n"
   ]
  },
  {
   "cell_type": "code",
   "execution_count": 312,
   "metadata": {},
   "outputs": [],
   "source": [
    "# for_model = models.Word2Vec(for_corpus, workers=3, size=100)\n",
    "# instance = WmdSimilarity(for_pts, for_model, num_best=10)"
   ]
  },
  {
   "cell_type": "code",
   "execution_count": null,
   "metadata": {
    "scrolled": false
   },
   "outputs": [],
   "source": []
  },
  {
   "cell_type": "code",
   "execution_count": 24,
   "metadata": {},
   "outputs": [],
   "source": []
  },
  {
   "cell_type": "code",
   "execution_count": null,
   "metadata": {},
   "outputs": [],
   "source": []
  },
  {
   "cell_type": "code",
   "execution_count": null,
   "metadata": {},
   "outputs": [],
   "source": []
  }
 ],
 "metadata": {
  "kernelspec": {
   "display_name": "Python 3",
   "language": "python",
   "name": "python3"
  },
  "language_info": {
   "codemirror_mode": {
    "name": "ipython",
    "version": 3
   },
   "file_extension": ".py",
   "mimetype": "text/x-python",
   "name": "python",
   "nbconvert_exporter": "python",
   "pygments_lexer": "ipython3",
   "version": "3.6.10"
  }
 },
 "nbformat": 4,
 "nbformat_minor": 2
}
