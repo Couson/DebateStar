{
 "cells": [
  {
   "cell_type": "code",
   "execution_count": 1,
   "metadata": {},
   "outputs": [
    {
     "name": "stderr",
     "output_type": "stream",
     "text": [
      "/anaconda3/lib/python3.7/site-packages/tensorflow/python/framework/dtypes.py:526: FutureWarning: Passing (type, 1) or '1type' as a synonym of type is deprecated; in a future version of numpy, it will be understood as (type, (1,)) / '(1,)type'.\n",
      "  _np_qint8 = np.dtype([(\"qint8\", np.int8, 1)])\n",
      "/anaconda3/lib/python3.7/site-packages/tensorflow/python/framework/dtypes.py:527: FutureWarning: Passing (type, 1) or '1type' as a synonym of type is deprecated; in a future version of numpy, it will be understood as (type, (1,)) / '(1,)type'.\n",
      "  _np_quint8 = np.dtype([(\"quint8\", np.uint8, 1)])\n",
      "/anaconda3/lib/python3.7/site-packages/tensorflow/python/framework/dtypes.py:528: FutureWarning: Passing (type, 1) or '1type' as a synonym of type is deprecated; in a future version of numpy, it will be understood as (type, (1,)) / '(1,)type'.\n",
      "  _np_qint16 = np.dtype([(\"qint16\", np.int16, 1)])\n",
      "/anaconda3/lib/python3.7/site-packages/tensorflow/python/framework/dtypes.py:529: FutureWarning: Passing (type, 1) or '1type' as a synonym of type is deprecated; in a future version of numpy, it will be understood as (type, (1,)) / '(1,)type'.\n",
      "  _np_quint16 = np.dtype([(\"quint16\", np.uint16, 1)])\n",
      "/anaconda3/lib/python3.7/site-packages/tensorflow/python/framework/dtypes.py:530: FutureWarning: Passing (type, 1) or '1type' as a synonym of type is deprecated; in a future version of numpy, it will be understood as (type, (1,)) / '(1,)type'.\n",
      "  _np_qint32 = np.dtype([(\"qint32\", np.int32, 1)])\n",
      "/anaconda3/lib/python3.7/site-packages/tensorflow/python/framework/dtypes.py:535: FutureWarning: Passing (type, 1) or '1type' as a synonym of type is deprecated; in a future version of numpy, it will be understood as (type, (1,)) / '(1,)type'.\n",
      "  np_resource = np.dtype([(\"resource\", np.ubyte, 1)])\n"
     ]
    }
   ],
   "source": [
    "import ast\n",
    "import numpy as np\n",
    "import tensorflow as tf\n",
    "from bert_serving.client import BertClient\n",
    "import pandas as pd\n",
    "import nltk\n",
    "import re\n",
    "import string\n",
    "from nltk.tokenize import word_tokenize\n",
    "from nltk.corpus import stopwords\n",
    "from nltk.stem.porter import PorterStemmer\n",
    "from sklearn.metrics.pairwise import cosine_similarity\n",
    "# import fse"
   ]
  },
  {
   "cell_type": "code",
   "execution_count": 15,
   "metadata": {},
   "outputs": [],
   "source": [
    "# Start the BERT service\n",
    "# Set check_length=False becasue after combining scripts for for and against sides, the script is very long\n",
    "# And the default setting has max_length of 25\n",
    "bc = BertClient(check_length=False)"
   ]
  },
  {
   "cell_type": "code",
   "execution_count": 18,
   "metadata": {},
   "outputs": [
    {
     "data": {
      "text/html": [
       "<div>\n",
       "<style scoped>\n",
       "    .dataframe tbody tr th:only-of-type {\n",
       "        vertical-align: middle;\n",
       "    }\n",
       "\n",
       "    .dataframe tbody tr th {\n",
       "        vertical-align: top;\n",
       "    }\n",
       "\n",
       "    .dataframe thead th {\n",
       "        text-align: right;\n",
       "    }\n",
       "</style>\n",
       "<table border=\"1\" class=\"dataframe\">\n",
       "  <thead>\n",
       "    <tr style=\"text-align: right;\">\n",
       "      <th></th>\n",
       "      <th>id</th>\n",
       "      <th>title</th>\n",
       "      <th>date</th>\n",
       "      <th>for</th>\n",
       "      <th>against</th>\n",
       "      <th>For_Main_Points</th>\n",
       "      <th>against_Main_Points</th>\n",
       "    </tr>\n",
       "  </thead>\n",
       "  <tbody>\n",
       "    <tr>\n",
       "      <th>0</th>\n",
       "      <td>d20191112</td>\n",
       "      <td>Capitalism Is a Blessing</td>\n",
       "      <td>2019-11-12</td>\n",
       "      <td>['John Mackey', 'Katherine Mangu-Ward']</td>\n",
       "      <td>['Bhaskar Sunkara', 'Richard D. Wolff']</td>\n",
       "      <td>['By promoting market competition and rewardin...</td>\n",
       "      <td>['Capitalism serves the interests of large cor...</td>\n",
       "    </tr>\n",
       "    <tr>\n",
       "      <th>1</th>\n",
       "      <td>d20191029</td>\n",
       "      <td>Parenting Is Overrated</td>\n",
       "      <td>2019-10-29</td>\n",
       "      <td>['Robert Plomin', 'Nancy Segal']</td>\n",
       "      <td>['Paige Harden', 'Ann Pleshette Murphy']</td>\n",
       "      <td>[\"We're in the midst of a DNA revolution: Whil...</td>\n",
       "      <td>['While DNA is important, factors like familia...</td>\n",
       "    </tr>\n",
       "    <tr>\n",
       "      <th>2</th>\n",
       "      <td>d20191022</td>\n",
       "      <td>Europe Has Declared War on American Tech Compa...</td>\n",
       "      <td>2019-10-22</td>\n",
       "      <td>['Roslyn Layton', 'Berin Szóka']</td>\n",
       "      <td>['Marietje Schaake', 'Ramesh Srinivasan']</td>\n",
       "      <td>['European regulators have declared war on Ame...</td>\n",
       "      <td>['Brussels isn’t waging war on Silicon Valley....</td>\n",
       "    </tr>\n",
       "    <tr>\n",
       "      <th>3</th>\n",
       "      <td>d20190917</td>\n",
       "      <td>Replace Private Insurance with Medicare for All</td>\n",
       "      <td>2019-09-17</td>\n",
       "      <td>['Dr. Adam Gaffney', 'Joseph Sanberg']</td>\n",
       "      <td>['Nick Gillespie', 'Sally Pipes']</td>\n",
       "      <td>['The United States government should follow t...</td>\n",
       "      <td>['Individuals should have the freedom to choos...</td>\n",
       "    </tr>\n",
       "    <tr>\n",
       "      <th>4</th>\n",
       "      <td>d20190912</td>\n",
       "      <td>Unresolved: Shifting Power in the Middle East</td>\n",
       "      <td>2019-09-12</td>\n",
       "      <td>['Michael Doran', 'Reuel Marc Gerecht', 'Berna...</td>\n",
       "      <td>['Brett McGurk', 'Barbara Slavin']</td>\n",
       "      <td>NaN</td>\n",
       "      <td>NaN</td>\n",
       "    </tr>\n",
       "  </tbody>\n",
       "</table>\n",
       "</div>"
      ],
      "text/plain": [
       "          id                                              title        date  \\\n",
       "0  d20191112                           Capitalism Is a Blessing  2019-11-12   \n",
       "1  d20191029                             Parenting Is Overrated  2019-10-29   \n",
       "2  d20191022  Europe Has Declared War on American Tech Compa...  2019-10-22   \n",
       "3  d20190917    Replace Private Insurance with Medicare for All  2019-09-17   \n",
       "4  d20190912      Unresolved: Shifting Power in the Middle East  2019-09-12   \n",
       "\n",
       "                                                 for  \\\n",
       "0            ['John Mackey', 'Katherine Mangu-Ward']   \n",
       "1                   ['Robert Plomin', 'Nancy Segal']   \n",
       "2                   ['Roslyn Layton', 'Berin Szóka']   \n",
       "3             ['Dr. Adam Gaffney', 'Joseph Sanberg']   \n",
       "4  ['Michael Doran', 'Reuel Marc Gerecht', 'Berna...   \n",
       "\n",
       "                                     against  \\\n",
       "0    ['Bhaskar Sunkara', 'Richard D. Wolff']   \n",
       "1   ['Paige Harden', 'Ann Pleshette Murphy']   \n",
       "2  ['Marietje Schaake', 'Ramesh Srinivasan']   \n",
       "3          ['Nick Gillespie', 'Sally Pipes']   \n",
       "4         ['Brett McGurk', 'Barbara Slavin']   \n",
       "\n",
       "                                     For_Main_Points  \\\n",
       "0  ['By promoting market competition and rewardin...   \n",
       "1  [\"We're in the midst of a DNA revolution: Whil...   \n",
       "2  ['European regulators have declared war on Ame...   \n",
       "3  ['The United States government should follow t...   \n",
       "4                                                NaN   \n",
       "\n",
       "                                 against_Main_Points  \n",
       "0  ['Capitalism serves the interests of large cor...  \n",
       "1  ['While DNA is important, factors like familia...  \n",
       "2  ['Brussels isn’t waging war on Silicon Valley....  \n",
       "3  ['Individuals should have the freedom to choos...  \n",
       "4                                                NaN  "
      ]
     },
     "execution_count": 18,
     "metadata": {},
     "output_type": "execute_result"
    }
   ],
   "source": [
    "main_points =pd.read_csv('DebateStar/Meta Data/metadata_appended_main_points.csv') \n",
    "main_points.head()"
   ]
  },
  {
   "cell_type": "code",
   "execution_count": 19,
   "metadata": {},
   "outputs": [
    {
     "data": {
      "text/html": [
       "<div>\n",
       "<style scoped>\n",
       "    .dataframe tbody tr th:only-of-type {\n",
       "        vertical-align: middle;\n",
       "    }\n",
       "\n",
       "    .dataframe tbody tr th {\n",
       "        vertical-align: top;\n",
       "    }\n",
       "\n",
       "    .dataframe thead th {\n",
       "        text-align: right;\n",
       "    }\n",
       "</style>\n",
       "<table border=\"1\" class=\"dataframe\">\n",
       "  <thead>\n",
       "    <tr style=\"text-align: right;\">\n",
       "      <th></th>\n",
       "      <th>for the against side to against</th>\n",
       "      <th>for the for side to for</th>\n",
       "      <th>from the against side to for</th>\n",
       "      <th>from the against side to undecided</th>\n",
       "      <th>from the for side to against</th>\n",
       "      <th>from the for side to undecided</th>\n",
       "      <th>from undecided to against</th>\n",
       "      <th>from undecided to for</th>\n",
       "      <th>post-debate-against</th>\n",
       "      <th>post-debate-for</th>\n",
       "      <th>post-debate-undecided</th>\n",
       "      <th>pre-debate-against</th>\n",
       "      <th>pre-debate-for</th>\n",
       "      <th>pre-debate-undecided</th>\n",
       "      <th>undecided to undecided</th>\n",
       "      <th>url</th>\n",
       "      <th>winner</th>\n",
       "      <th>id</th>\n",
       "    </tr>\n",
       "  </thead>\n",
       "  <tbody>\n",
       "    <tr>\n",
       "      <th>0</th>\n",
       "      <td>17</td>\n",
       "      <td>49</td>\n",
       "      <td>2</td>\n",
       "      <td>2</td>\n",
       "      <td>5</td>\n",
       "      <td>2</td>\n",
       "      <td>6</td>\n",
       "      <td>11</td>\n",
       "      <td>28</td>\n",
       "      <td>62</td>\n",
       "      <td>10</td>\n",
       "      <td>21</td>\n",
       "      <td>56</td>\n",
       "      <td>23</td>\n",
       "      <td>6</td>\n",
       "      <td>https://www.intelligencesquaredus.org/debates/...</td>\n",
       "      <td>against</td>\n",
       "      <td>d20191112</td>\n",
       "    </tr>\n",
       "    <tr>\n",
       "      <th>1</th>\n",
       "      <td>40</td>\n",
       "      <td>15</td>\n",
       "      <td>8</td>\n",
       "      <td>4</td>\n",
       "      <td>9</td>\n",
       "      <td>3</td>\n",
       "      <td>10</td>\n",
       "      <td>9</td>\n",
       "      <td>59</td>\n",
       "      <td>32</td>\n",
       "      <td>9</td>\n",
       "      <td>52</td>\n",
       "      <td>27</td>\n",
       "      <td>21</td>\n",
       "      <td>2</td>\n",
       "      <td>https://www.intelligencesquaredus.org/debates/...</td>\n",
       "      <td>against</td>\n",
       "      <td>d20191029</td>\n",
       "    </tr>\n",
       "    <tr>\n",
       "      <th>2</th>\n",
       "      <td>19</td>\n",
       "      <td>14</td>\n",
       "      <td>3</td>\n",
       "      <td>1</td>\n",
       "      <td>15</td>\n",
       "      <td>1</td>\n",
       "      <td>30</td>\n",
       "      <td>13</td>\n",
       "      <td>64</td>\n",
       "      <td>30</td>\n",
       "      <td>6</td>\n",
       "      <td>23</td>\n",
       "      <td>30</td>\n",
       "      <td>47</td>\n",
       "      <td>4</td>\n",
       "      <td>https://www.intelligencesquaredus.org/debates/...</td>\n",
       "      <td>against</td>\n",
       "      <td>d20191022</td>\n",
       "    </tr>\n",
       "    <tr>\n",
       "      <th>3</th>\n",
       "      <td>29</td>\n",
       "      <td>26</td>\n",
       "      <td>5</td>\n",
       "      <td>1</td>\n",
       "      <td>6</td>\n",
       "      <td>4</td>\n",
       "      <td>16</td>\n",
       "      <td>9</td>\n",
       "      <td>51</td>\n",
       "      <td>40</td>\n",
       "      <td>9</td>\n",
       "      <td>35</td>\n",
       "      <td>36</td>\n",
       "      <td>29</td>\n",
       "      <td>4</td>\n",
       "      <td>https://www.intelligencesquaredus.org/debates/...</td>\n",
       "      <td>against</td>\n",
       "      <td>d20190917</td>\n",
       "    </tr>\n",
       "    <tr>\n",
       "      <th>4</th>\n",
       "      <td>49</td>\n",
       "      <td>12</td>\n",
       "      <td>1</td>\n",
       "      <td>1</td>\n",
       "      <td>14</td>\n",
       "      <td>0</td>\n",
       "      <td>20</td>\n",
       "      <td>2</td>\n",
       "      <td>83</td>\n",
       "      <td>15</td>\n",
       "      <td>2</td>\n",
       "      <td>51</td>\n",
       "      <td>26</td>\n",
       "      <td>23</td>\n",
       "      <td>1</td>\n",
       "      <td>https://www.intelligencesquaredus.org/debates/...</td>\n",
       "      <td>against</td>\n",
       "      <td>d20190802</td>\n",
       "    </tr>\n",
       "  </tbody>\n",
       "</table>\n",
       "</div>"
      ],
      "text/plain": [
       "   for the against side to against  for the for side to for  \\\n",
       "0                               17                       49   \n",
       "1                               40                       15   \n",
       "2                               19                       14   \n",
       "3                               29                       26   \n",
       "4                               49                       12   \n",
       "\n",
       "   from the against side to for  from the against side to undecided  \\\n",
       "0                             2                                   2   \n",
       "1                             8                                   4   \n",
       "2                             3                                   1   \n",
       "3                             5                                   1   \n",
       "4                             1                                   1   \n",
       "\n",
       "   from the for side to against  from the for side to undecided  \\\n",
       "0                             5                               2   \n",
       "1                             9                               3   \n",
       "2                            15                               1   \n",
       "3                             6                               4   \n",
       "4                            14                               0   \n",
       "\n",
       "   from undecided to against  from undecided to for  post-debate-against  \\\n",
       "0                          6                     11                   28   \n",
       "1                         10                      9                   59   \n",
       "2                         30                     13                   64   \n",
       "3                         16                      9                   51   \n",
       "4                         20                      2                   83   \n",
       "\n",
       "   post-debate-for  post-debate-undecided  pre-debate-against  pre-debate-for  \\\n",
       "0               62                     10                  21              56   \n",
       "1               32                      9                  52              27   \n",
       "2               30                      6                  23              30   \n",
       "3               40                      9                  35              36   \n",
       "4               15                      2                  51              26   \n",
       "\n",
       "   pre-debate-undecided  undecided to undecided  \\\n",
       "0                    23                       6   \n",
       "1                    21                       2   \n",
       "2                    47                       4   \n",
       "3                    29                       4   \n",
       "4                    23                       1   \n",
       "\n",
       "                                                 url   winner         id  \n",
       "0  https://www.intelligencesquaredus.org/debates/...  against  d20191112  \n",
       "1  https://www.intelligencesquaredus.org/debates/...  against  d20191029  \n",
       "2  https://www.intelligencesquaredus.org/debates/...  against  d20191022  \n",
       "3  https://www.intelligencesquaredus.org/debates/...  against  d20190917  \n",
       "4  https://www.intelligencesquaredus.org/debates/...  against  d20190802  "
      ]
     },
     "execution_count": 19,
     "metadata": {},
     "output_type": "execute_result"
    }
   ],
   "source": [
    "result_live = pd.read_csv('results_data/final_live.csv')\n",
    "result_online = pd.read_csv('results_data/final_online.csv')\n",
    "result_live.head()"
   ]
  },
  {
   "cell_type": "code",
   "execution_count": 21,
   "metadata": {},
   "outputs": [],
   "source": [
    "# For each side of the debate, combine the scripts together\n",
    "def get_side_script(df):\n",
    "    for_script = ''\n",
    "    for s in df.loc[df['side'] == 'for']['script']:\n",
    "        for_script += s + ' '\n",
    "    against_script = ''\n",
    "    for s in df.loc[df['side'] == 'against']['script']:\n",
    "        against_script += s + ' '\n",
    "    return for_script, against_script\n",
    "\n",
    "# Returns main points that are for the motion and those against the motion\n",
    "def get_main_points(fid, main_points):\n",
    "    for_points = main_points.loc[main_points['id'] == fid]['For_Main_Points'].item()\n",
    "    for_points = ast.literal_eval(for_points)\n",
    "    against_points = main_points.loc[main_points['id'] == fid]['against_Main_Points'].item()\n",
    "    against_points = ast.literal_eval(against_points)\n",
    "    return for_points, against_points"
   ]
  },
  {
   "cell_type": "code",
   "execution_count": 23,
   "metadata": {},
   "outputs": [],
   "source": [
    "# Returns a list of sentences in the text\n",
    "def cleanText(text):\n",
    "    punctuations = string.punctuation\n",
    "    l = text.split('.')\n",
    "    result = []\n",
    "    for s in l:\n",
    "        result.extend(s.split('?'))\n",
    "    result = [text.translate(str.maketrans('', '', punctuations)) for text in result]\n",
    "    result = [t.lower().strip() for t in result]\n",
    "    result = [t for t in result if len(t) > 0]\n",
    "    return result"
   ]
  },
  {
   "cell_type": "code",
   "execution_count": 24,
   "metadata": {},
   "outputs": [],
   "source": [
    "# Returns the cleaned sentence, given the original sentence\n",
    "def cleanSentence(text):\n",
    "    punctuations = string.punctuation\n",
    "    result = text.translate(str.maketrans('', '', punctuations)) \n",
    "    return result.lower()"
   ]
  },
  {
   "cell_type": "code",
   "execution_count": 51,
   "metadata": {},
   "outputs": [
    {
     "data": {
      "text/html": [
       "<div>\n",
       "<style scoped>\n",
       "    .dataframe tbody tr th:only-of-type {\n",
       "        vertical-align: middle;\n",
       "    }\n",
       "\n",
       "    .dataframe tbody tr th {\n",
       "        vertical-align: top;\n",
       "    }\n",
       "\n",
       "    .dataframe thead th {\n",
       "        text-align: right;\n",
       "    }\n",
       "</style>\n",
       "<table border=\"1\" class=\"dataframe\">\n",
       "  <thead>\n",
       "    <tr style=\"text-align: right;\">\n",
       "      <th></th>\n",
       "      <th>side</th>\n",
       "      <th>script</th>\n",
       "    </tr>\n",
       "  </thead>\n",
       "  <tbody>\n",
       "    <tr>\n",
       "      <th>0</th>\n",
       "      <td>for</td>\n",
       "      <td>Thanks. Thanks, John. It's great to be here. T...</td>\n",
       "    </tr>\n",
       "    <tr>\n",
       "      <th>1</th>\n",
       "      <td>against</td>\n",
       "      <td>Thank you.</td>\n",
       "    </tr>\n",
       "    <tr>\n",
       "      <th>2</th>\n",
       "      <td>for</td>\n",
       "      <td>So, let me start out by saying, is capitalism ...</td>\n",
       "    </tr>\n",
       "    <tr>\n",
       "      <th>3</th>\n",
       "      <td>against</td>\n",
       "      <td>Well, let's be clear about what the question o...</td>\n",
       "    </tr>\n",
       "    <tr>\n",
       "      <th>4</th>\n",
       "      <td>for</td>\n",
       "      <td>So, I was going to start by thanking my partne...</td>\n",
       "    </tr>\n",
       "  </tbody>\n",
       "</table>\n",
       "</div>"
      ],
      "text/plain": [
       "      side                                             script\n",
       "0      for  Thanks. Thanks, John. It's great to be here. T...\n",
       "1  against                                         Thank you.\n",
       "2      for  So, let me start out by saying, is capitalism ...\n",
       "3  against  Well, let's be clear about what the question o...\n",
       "4      for  So, I was going to start by thanking my partne..."
      ]
     },
     "execution_count": 51,
     "metadata": {},
     "output_type": "execute_result"
    }
   ],
   "source": [
    "fid = main_points.iloc[0]['id']\n",
    "df = pd.read_csv('For Against Scripts/for_against_scripts_' + fid + '.csv')\n",
    "df.head()"
   ]
  },
  {
   "cell_type": "code",
   "execution_count": 52,
   "metadata": {},
   "outputs": [],
   "source": [
    "for_script, against_script = get_side_script(df)\n",
    "for_points, against_points = get_main_points(fid, main_points)"
   ]
  },
  {
   "cell_type": "code",
   "execution_count": 25,
   "metadata": {},
   "outputs": [],
   "source": [
    "cleaned_for_script = cleanText(for_script)\n",
    "for_vecs = bc.encode(cleaned_for_script)\n",
    "cleaned_against_script = cleanText(against_script)\n",
    "against_vecs = bc.encode(cleaned_against_script)"
   ]
  },
  {
   "cell_type": "code",
   "execution_count": 27,
   "metadata": {},
   "outputs": [],
   "source": [
    "for_points_vec = bc.encode([cleanSentence(text) for text in for_points])\n",
    "against_points_vec = bc.encode([cleanSentence(text) for text in against_points])"
   ]
  },
  {
   "cell_type": "code",
   "execution_count": 31,
   "metadata": {},
   "outputs": [],
   "source": [
    "# Return an array of similarity scores between the vector of interest to all target vectors\n",
    "def score(query_vec, vecs):\n",
    "    return np.sum(query_vec * vecs, axis=1) / np.linalg.norm(vecs, axis=1)"
   ]
  },
  {
   "cell_type": "code",
   "execution_count": 28,
   "metadata": {},
   "outputs": [
    {
     "name": "stdout",
     "output_type": "stream",
     "text": [
      "> 9.72066\tbut this is not the subject were examining here this evening\n",
      "> 9.590052\tthat certainly didn’t happen with the plo once it returned to gaza i dont expect it will happen with hamas\n",
      "> 9.475156\tum i think that there’s really no condition\n",
      "> 9.369792\tnote though that is a very limited concession\n",
      "> 9.320732\tmy critics will say this is old news\n"
     ]
    }
   ],
   "source": [
    "# A Demo of finding the closest sentence to 'i do not think it is the case'\n",
    "query_vec = bc.encode(['i do not think it is the case'])[0]\n",
    "topk = 5\n",
    "# compute normalized dot product as score\n",
    "score = np.sum(query_vec * for_vecs, axis=1) / np.linalg.norm(for_vecs, axis=1)\n",
    "topk_idx = np.argsort(score)[::-1][:topk]\n",
    "for idx in topk_idx:\n",
    "    print('> %s\\t%s' % (score[idx], cleanText(for_script)[idx]))"
   ]
  },
  {
   "cell_type": "code",
   "execution_count": 32,
   "metadata": {},
   "outputs": [
    {
     "name": "stdout",
     "output_type": "stream",
     "text": [
      "[7.8843465 7.7781625 7.5085626 8.14621  ]\n",
      "[-8.010284  -7.9231772 -8.058084  -7.9358616]\n"
     ]
    }
   ],
   "source": [
    "print(score(for_total_vec, for_points_vec))\n",
    "print(-score(for_total_vec, against_points_vec))"
   ]
  },
  {
   "cell_type": "code",
   "execution_count": 33,
   "metadata": {},
   "outputs": [
    {
     "name": "stdout",
     "output_type": "stream",
     "text": [
      "[-10.793051 -10.563604 -10.708664 -10.981587]\n",
      "[10.512351 10.854763 10.285327 11.047818]\n"
     ]
    }
   ],
   "source": [
    "print(-score(against_total_vec, for_points_vec))\n",
    "print(score(against_total_vec, against_points_vec))"
   ]
  },
  {
   "cell_type": "code",
   "execution_count": 34,
   "metadata": {},
   "outputs": [
    {
     "name": "stdout",
     "output_type": "stream",
     "text": [
      "[-2.9087043 -2.7854419 -3.2001014 -2.8353777]\n",
      "[-2.5020666 -2.9315858 -2.2272434 -3.1119566]\n"
     ]
    }
   ],
   "source": [
    "print(score(for_total_vec, for_points_vec)-score(against_total_vec, for_points_vec))\n",
    "print(score(for_total_vec, against_points_vec)-score(against_total_vec, against_points_vec))"
   ]
  },
  {
   "cell_type": "code",
   "execution_count": 29,
   "metadata": {},
   "outputs": [],
   "source": [
    "for_total_vec = bc.encode([' '.join(cleaned_for_script)])\n",
    "against_total_vec = bc.encode([' '.join(cleaned_against_script)])"
   ]
  },
  {
   "cell_type": "code",
   "execution_count": 36,
   "metadata": {},
   "outputs": [],
   "source": [
    "# defend_atttack list\n",
    "# for_for: a list of scores of similarities between for side script and main points for the motion\n",
    "for_for = []\n",
    "# for_against: a list of scores of similarities between for side script and main points against the motion\n",
    "for_against = []\n",
    "# similar to above\n",
    "against_for = []\n",
    "against_against = []\n",
    "\n",
    "winners_live = []\n",
    "winners_online = []\n",
    "for i in range(len(main_points)):\n",
    "    if pd.isnull(main_points.iloc[i]['For_Main_Points']):\n",
    "        continue\n",
    "    fid = main_points.iloc[i]['id']\n",
    "    try:\n",
    "        scripts = pd.read_csv('For Against Scripts/for_against_scripts_' + fid + '.csv')\n",
    "    except:\n",
    "        print(fid)\n",
    "        continue\n",
    "    if len(scripts) == 0:\n",
    "        continue\n",
    "    # get scripts and main points\n",
    "    for_script, against_script = get_side_script(scripts)\n",
    "    for_points, against_points = get_main_points(fid, main_points)\n",
    "    for_points_vec = bc.encode([cleanSentence(text) for text in for_points])\n",
    "    against_points_vec = bc.encode([cleanSentence(text) for text in against_points])\n",
    "    # get cleaned scripts\n",
    "    cleaned_for_script = cleanText(for_script)\n",
    "    cleaned_against_script = cleanText(against_script)\n",
    "    # get the document embedding \n",
    "    for_total_vec = bc.encode([' '.join(cleaned_for_script)])\n",
    "    against_total_vec = bc.encode([' '.join(cleaned_against_script)])\n",
    "    # add scores to the lists\n",
    "    for_for.append(score(for_total_vec, for_points_vec))\n",
    "    for_against.append(score(for_total_vec, against_points_vec))\n",
    "    against_for.append(score(against_total_vec, for_points_vec))\n",
    "    against_against.append(score(against_total_vec, against_points_vec))\n",
    "    # add results to the lists\n",
    "    winners_live.append(result_live.loc[result_live['id'] == fid]['winner'].item())\n",
    "    winners_online.append(result_online.loc[result_online['id'] == fid]['winner'].item())"
   ]
  },
  {
   "cell_type": "code",
   "execution_count": null,
   "metadata": {},
   "outputs": [],
   "source": []
  },
  {
   "cell_type": "code",
   "execution_count": null,
   "metadata": {},
   "outputs": [],
   "source": []
  },
  {
   "cell_type": "code",
   "execution_count": 37,
   "metadata": {},
   "outputs": [],
   "source": [
    "sums = []\n",
    "winners = []\n",
    "for i in range(len(winners_online)):\n",
    "    if winners_online[i] == 'undecided':\n",
    "        continue\n",
    "    # predict by the sum of mean differences\n",
    "    sums.append((for_for[i]-against_for[i]).mean()+(for_against[i]-against_against[i]).mean())\n",
    "    winners.append(winners_online[i])"
   ]
  },
  {
   "cell_type": "code",
   "execution_count": 38,
   "metadata": {},
   "outputs": [
    {
     "data": {
      "text/plain": [
       "0.5862068965517241"
      ]
     },
     "execution_count": 38,
     "metadata": {},
     "output_type": "execute_result"
    }
   ],
   "source": [
    "(pd.Series([s > 0 for s in sums]) == pd.Series([w == 'for' for w in winners])).mean()"
   ]
  },
  {
   "cell_type": "code",
   "execution_count": 39,
   "metadata": {},
   "outputs": [
    {
     "data": {
      "text/plain": [
       "against      0.397351\n",
       "for          0.370861\n",
       "undecided    0.231788\n",
       "dtype: float64"
      ]
     },
     "execution_count": 39,
     "metadata": {},
     "output_type": "execute_result"
    }
   ],
   "source": [
    "dist = pd.Series(winners_online).value_counts(normalize = True)"
   ]
  },
  {
   "cell_type": "code",
   "execution_count": null,
   "metadata": {},
   "outputs": [],
   "source": []
  },
  {
   "cell_type": "code",
   "execution_count": 40,
   "metadata": {},
   "outputs": [],
   "source": [
    "sums = []\n",
    "winners = []\n",
    "for i in range(len(winners_live)):\n",
    "    if winners_live[i] == 'undecided':\n",
    "        continue\n",
    "    sums.append((for_for[i]-against_for[i]).mean()+(for_against[i]-against_against[i]).mean())\n",
    "    winners.append(winners_live[i])"
   ]
  },
  {
   "cell_type": "code",
   "execution_count": 41,
   "metadata": {},
   "outputs": [
    {
     "data": {
      "text/plain": [
       "0.5735294117647058"
      ]
     },
     "execution_count": 41,
     "metadata": {},
     "output_type": "execute_result"
    }
   ],
   "source": [
    "(pd.Series([s > 0 for s in sums]) == pd.Series([w == 'for' for w in winners])).mean()"
   ]
  },
  {
   "cell_type": "code",
   "execution_count": 42,
   "metadata": {},
   "outputs": [
    {
     "data": {
      "text/plain": [
       "against      0.516556\n",
       "for          0.384106\n",
       "undecided    0.099338\n",
       "dtype: float64"
      ]
     },
     "execution_count": 42,
     "metadata": {},
     "output_type": "execute_result"
    }
   ],
   "source": [
    "pd.Series(winners_live).value_counts(normalize = True)"
   ]
  },
  {
   "cell_type": "code",
   "execution_count": null,
   "metadata": {},
   "outputs": [],
   "source": []
  },
  {
   "cell_type": "code",
   "execution_count": null,
   "metadata": {},
   "outputs": [],
   "source": []
  },
  {
   "cell_type": "code",
   "execution_count": null,
   "metadata": {},
   "outputs": [],
   "source": []
  },
  {
   "cell_type": "code",
   "execution_count": null,
   "metadata": {},
   "outputs": [],
   "source": []
  },
  {
   "cell_type": "code",
   "execution_count": null,
   "metadata": {},
   "outputs": [],
   "source": []
  },
  {
   "cell_type": "code",
   "execution_count": 114,
   "metadata": {},
   "outputs": [],
   "source": [
    "bc.close()"
   ]
  },
  {
   "cell_type": "code",
   "execution_count": null,
   "metadata": {},
   "outputs": [],
   "source": []
  },
  {
   "cell_type": "code",
   "execution_count": null,
   "metadata": {},
   "outputs": [],
   "source": []
  }
 ],
 "metadata": {
  "kernelspec": {
   "display_name": "Python 3",
   "language": "python",
   "name": "python3"
  },
  "language_info": {
   "codemirror_mode": {
    "name": "ipython",
    "version": 3
   },
   "file_extension": ".py",
   "mimetype": "text/x-python",
   "name": "python",
   "nbconvert_exporter": "python",
   "pygments_lexer": "ipython3",
   "version": "3.7.3"
  }
 },
 "nbformat": 4,
 "nbformat_minor": 2
}
