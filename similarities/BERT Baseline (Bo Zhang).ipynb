{
 "cells": [
  {
   "cell_type": "code",
   "execution_count": 1,
   "metadata": {
    "scrolled": true
   },
   "outputs": [],
   "source": [
    "import pandas as pd\n",
    "import numpy as np\n",
    "from nltk import sent_tokenize"
   ]
  },
  {
   "cell_type": "code",
   "execution_count": 3,
   "metadata": {},
   "outputs": [],
   "source": [
    "from bert_serving.client import BertClient"
   ]
  },
  {
   "cell_type": "code",
   "execution_count": 4,
   "metadata": {
    "scrolled": true
   },
   "outputs": [
    {
     "ename": "KeyboardInterrupt",
     "evalue": "",
     "output_type": "error",
     "traceback": [
      "\u001b[0;31m---------------------------------------------------------------------------\u001b[0m",
      "\u001b[0;31mKeyboardInterrupt\u001b[0m                         Traceback (most recent call last)",
      "\u001b[0;32m<ipython-input-4-995e0c664e3f>\u001b[0m in \u001b[0;36m<module>\u001b[0;34m\u001b[0m\n\u001b[0;32m----> 1\u001b[0;31m \u001b[0mbc\u001b[0m \u001b[0;34m=\u001b[0m \u001b[0mBertClient\u001b[0m\u001b[0;34m(\u001b[0m\u001b[0;34m)\u001b[0m\u001b[0;34m\u001b[0m\u001b[0;34m\u001b[0m\u001b[0m\n\u001b[0m",
      "\u001b[0;32m/anaconda3/lib/python3.7/site-packages/bert_serving/client/__init__.py\u001b[0m in \u001b[0;36m__init__\u001b[0;34m(self, ip, port, port_out, output_fmt, show_server_config, identity, check_version, check_length, check_token_info, ignore_all_checks, timeout)\u001b[0m\n\u001b[1;32m    106\u001b[0m \u001b[0;34m\u001b[0m\u001b[0m\n\u001b[1;32m    107\u001b[0m         \u001b[0;32mif\u001b[0m \u001b[0;32mnot\u001b[0m \u001b[0mignore_all_checks\u001b[0m \u001b[0;32mand\u001b[0m \u001b[0;34m(\u001b[0m\u001b[0mcheck_version\u001b[0m \u001b[0;32mor\u001b[0m \u001b[0mshow_server_config\u001b[0m \u001b[0;32mor\u001b[0m \u001b[0mcheck_length\u001b[0m \u001b[0;32mor\u001b[0m \u001b[0mcheck_token_info\u001b[0m\u001b[0;34m)\u001b[0m\u001b[0;34m:\u001b[0m\u001b[0;34m\u001b[0m\u001b[0;34m\u001b[0m\u001b[0m\n\u001b[0;32m--> 108\u001b[0;31m             \u001b[0ms_status\u001b[0m \u001b[0;34m=\u001b[0m \u001b[0mself\u001b[0m\u001b[0;34m.\u001b[0m\u001b[0mserver_config\u001b[0m\u001b[0;34m\u001b[0m\u001b[0;34m\u001b[0m\u001b[0m\n\u001b[0m\u001b[1;32m    109\u001b[0m \u001b[0;34m\u001b[0m\u001b[0m\n\u001b[1;32m    110\u001b[0m             \u001b[0;32mif\u001b[0m \u001b[0mcheck_version\u001b[0m \u001b[0;32mand\u001b[0m \u001b[0ms_status\u001b[0m\u001b[0;34m[\u001b[0m\u001b[0;34m'server_version'\u001b[0m\u001b[0;34m]\u001b[0m \u001b[0;34m!=\u001b[0m \u001b[0mself\u001b[0m\u001b[0;34m.\u001b[0m\u001b[0mstatus\u001b[0m\u001b[0;34m[\u001b[0m\u001b[0;34m'client_version'\u001b[0m\u001b[0;34m]\u001b[0m\u001b[0;34m:\u001b[0m\u001b[0;34m\u001b[0m\u001b[0;34m\u001b[0m\u001b[0m\n",
      "\u001b[0;32m/anaconda3/lib/python3.7/site-packages/bert_serving/client/__init__.py\u001b[0m in \u001b[0;36marg_wrapper\u001b[0;34m(self, *args, **kwargs)\u001b[0m\n\u001b[1;32m    204\u001b[0m                 \u001b[0mself\u001b[0m\u001b[0;34m.\u001b[0m\u001b[0mreceiver\u001b[0m\u001b[0;34m.\u001b[0m\u001b[0msetsockopt\u001b[0m\u001b[0;34m(\u001b[0m\u001b[0mzmq\u001b[0m\u001b[0;34m.\u001b[0m\u001b[0mRCVTIMEO\u001b[0m\u001b[0;34m,\u001b[0m \u001b[0mself\u001b[0m\u001b[0;34m.\u001b[0m\u001b[0mtimeout\u001b[0m\u001b[0;34m)\u001b[0m\u001b[0;34m\u001b[0m\u001b[0;34m\u001b[0m\u001b[0m\n\u001b[1;32m    205\u001b[0m             \u001b[0;32mtry\u001b[0m\u001b[0;34m:\u001b[0m\u001b[0;34m\u001b[0m\u001b[0;34m\u001b[0m\u001b[0m\n\u001b[0;32m--> 206\u001b[0;31m                 \u001b[0;32mreturn\u001b[0m \u001b[0mfunc\u001b[0m\u001b[0;34m(\u001b[0m\u001b[0mself\u001b[0m\u001b[0;34m,\u001b[0m \u001b[0;34m*\u001b[0m\u001b[0margs\u001b[0m\u001b[0;34m,\u001b[0m \u001b[0;34m**\u001b[0m\u001b[0mkwargs\u001b[0m\u001b[0;34m)\u001b[0m\u001b[0;34m\u001b[0m\u001b[0;34m\u001b[0m\u001b[0m\n\u001b[0m\u001b[1;32m    207\u001b[0m             \u001b[0;32mexcept\u001b[0m \u001b[0mzmq\u001b[0m\u001b[0;34m.\u001b[0m\u001b[0merror\u001b[0m\u001b[0;34m.\u001b[0m\u001b[0mAgain\u001b[0m \u001b[0;32mas\u001b[0m \u001b[0m_e\u001b[0m\u001b[0;34m:\u001b[0m\u001b[0;34m\u001b[0m\u001b[0;34m\u001b[0m\u001b[0m\n\u001b[1;32m    208\u001b[0m                 t_e = TimeoutError(\n",
      "\u001b[0;32m/anaconda3/lib/python3.7/site-packages/bert_serving/client/__init__.py\u001b[0m in \u001b[0;36mserver_config\u001b[0;34m(self)\u001b[0m\n\u001b[1;32m    230\u001b[0m         \"\"\"\n\u001b[1;32m    231\u001b[0m         \u001b[0mreq_id\u001b[0m \u001b[0;34m=\u001b[0m \u001b[0mself\u001b[0m\u001b[0;34m.\u001b[0m\u001b[0m_send\u001b[0m\u001b[0;34m(\u001b[0m\u001b[0;34mb'SHOW_CONFIG'\u001b[0m\u001b[0;34m)\u001b[0m\u001b[0;34m\u001b[0m\u001b[0;34m\u001b[0m\u001b[0m\n\u001b[0;32m--> 232\u001b[0;31m         \u001b[0;32mreturn\u001b[0m \u001b[0mjsonapi\u001b[0m\u001b[0;34m.\u001b[0m\u001b[0mloads\u001b[0m\u001b[0;34m(\u001b[0m\u001b[0mself\u001b[0m\u001b[0;34m.\u001b[0m\u001b[0m_recv\u001b[0m\u001b[0;34m(\u001b[0m\u001b[0mreq_id\u001b[0m\u001b[0;34m)\u001b[0m\u001b[0;34m.\u001b[0m\u001b[0mcontent\u001b[0m\u001b[0;34m[\u001b[0m\u001b[0;36m1\u001b[0m\u001b[0;34m]\u001b[0m\u001b[0;34m)\u001b[0m\u001b[0;34m\u001b[0m\u001b[0;34m\u001b[0m\u001b[0m\n\u001b[0m\u001b[1;32m    233\u001b[0m \u001b[0;34m\u001b[0m\u001b[0m\n\u001b[1;32m    234\u001b[0m     \u001b[0;34m@\u001b[0m\u001b[0mproperty\u001b[0m\u001b[0;34m\u001b[0m\u001b[0;34m\u001b[0m\u001b[0m\n",
      "\u001b[0;32m/anaconda3/lib/python3.7/site-packages/bert_serving/client/__init__.py\u001b[0m in \u001b[0;36m_recv\u001b[0;34m(self, wait_for_req_id)\u001b[0m\n\u001b[1;32m    151\u001b[0m \u001b[0;34m\u001b[0m\u001b[0m\n\u001b[1;32m    152\u001b[0m                 \u001b[0;31m# receive a response\u001b[0m\u001b[0;34m\u001b[0m\u001b[0;34m\u001b[0m\u001b[0;34m\u001b[0m\u001b[0m\n\u001b[0;32m--> 153\u001b[0;31m                 \u001b[0mresponse\u001b[0m \u001b[0;34m=\u001b[0m \u001b[0mself\u001b[0m\u001b[0;34m.\u001b[0m\u001b[0mreceiver\u001b[0m\u001b[0;34m.\u001b[0m\u001b[0mrecv_multipart\u001b[0m\u001b[0;34m(\u001b[0m\u001b[0;34m)\u001b[0m\u001b[0;34m\u001b[0m\u001b[0;34m\u001b[0m\u001b[0m\n\u001b[0m\u001b[1;32m    154\u001b[0m                 \u001b[0mrequest_id\u001b[0m \u001b[0;34m=\u001b[0m \u001b[0mint\u001b[0m\u001b[0;34m(\u001b[0m\u001b[0mresponse\u001b[0m\u001b[0;34m[\u001b[0m\u001b[0;34m-\u001b[0m\u001b[0;36m1\u001b[0m\u001b[0;34m]\u001b[0m\u001b[0;34m)\u001b[0m\u001b[0;34m\u001b[0m\u001b[0;34m\u001b[0m\u001b[0m\n\u001b[1;32m    155\u001b[0m \u001b[0;34m\u001b[0m\u001b[0m\n",
      "\u001b[0;32m/anaconda3/lib/python3.7/site-packages/zmq/sugar/socket.py\u001b[0m in \u001b[0;36mrecv_multipart\u001b[0;34m(self, flags, copy, track)\u001b[0m\n\u001b[1;32m    468\u001b[0m             \u001b[0;32mfor\u001b[0m \u001b[0many\u001b[0m \u001b[0mof\u001b[0m \u001b[0mthe\u001b[0m \u001b[0mreasons\u001b[0m \u001b[0;34m:\u001b[0m\u001b[0mfunc\u001b[0m\u001b[0;34m:\u001b[0m\u001b[0;31m`\u001b[0m\u001b[0;34m~\u001b[0m\u001b[0mSocket\u001b[0m\u001b[0;34m.\u001b[0m\u001b[0mrecv\u001b[0m\u001b[0;31m`\u001b[0m \u001b[0mmight\u001b[0m \u001b[0mfail\u001b[0m\u001b[0;34m\u001b[0m\u001b[0;34m\u001b[0m\u001b[0m\n\u001b[1;32m    469\u001b[0m         \"\"\"\n\u001b[0;32m--> 470\u001b[0;31m         \u001b[0mparts\u001b[0m \u001b[0;34m=\u001b[0m \u001b[0;34m[\u001b[0m\u001b[0mself\u001b[0m\u001b[0;34m.\u001b[0m\u001b[0mrecv\u001b[0m\u001b[0;34m(\u001b[0m\u001b[0mflags\u001b[0m\u001b[0;34m,\u001b[0m \u001b[0mcopy\u001b[0m\u001b[0;34m=\u001b[0m\u001b[0mcopy\u001b[0m\u001b[0;34m,\u001b[0m \u001b[0mtrack\u001b[0m\u001b[0;34m=\u001b[0m\u001b[0mtrack\u001b[0m\u001b[0;34m)\u001b[0m\u001b[0;34m]\u001b[0m\u001b[0;34m\u001b[0m\u001b[0;34m\u001b[0m\u001b[0m\n\u001b[0m\u001b[1;32m    471\u001b[0m         \u001b[0;31m# have first part already, only loop while more to receive\u001b[0m\u001b[0;34m\u001b[0m\u001b[0;34m\u001b[0m\u001b[0;34m\u001b[0m\u001b[0m\n\u001b[1;32m    472\u001b[0m         \u001b[0;32mwhile\u001b[0m \u001b[0mself\u001b[0m\u001b[0;34m.\u001b[0m\u001b[0mgetsockopt\u001b[0m\u001b[0;34m(\u001b[0m\u001b[0mzmq\u001b[0m\u001b[0;34m.\u001b[0m\u001b[0mRCVMORE\u001b[0m\u001b[0;34m)\u001b[0m\u001b[0;34m:\u001b[0m\u001b[0;34m\u001b[0m\u001b[0;34m\u001b[0m\u001b[0m\n",
      "\u001b[0;32mzmq/backend/cython/socket.pyx\u001b[0m in \u001b[0;36mzmq.backend.cython.socket.Socket.recv\u001b[0;34m()\u001b[0m\n",
      "\u001b[0;32mzmq/backend/cython/socket.pyx\u001b[0m in \u001b[0;36mzmq.backend.cython.socket.Socket.recv\u001b[0;34m()\u001b[0m\n",
      "\u001b[0;32mzmq/backend/cython/socket.pyx\u001b[0m in \u001b[0;36mzmq.backend.cython.socket._recv_copy\u001b[0;34m()\u001b[0m\n",
      "\u001b[0;32m/anaconda3/lib/python3.7/site-packages/zmq/backend/cython/checkrc.pxd\u001b[0m in \u001b[0;36mzmq.backend.cython.checkrc._check_rc\u001b[0;34m()\u001b[0m\n",
      "\u001b[0;31mKeyboardInterrupt\u001b[0m: "
     ]
    }
   ],
   "source": [
    "bc = BertClient()"
   ]
  },
  {
   "cell_type": "code",
   "execution_count": 5,
   "metadata": {},
   "outputs": [],
   "source": [
    "import time"
   ]
  },
  {
   "cell_type": "markdown",
   "metadata": {},
   "source": [
    "## BERT Embedding"
   ]
  },
  {
   "cell_type": "code",
   "execution_count": 10,
   "metadata": {},
   "outputs": [],
   "source": [
    "live_result = pd.read_csv('../results_data/final_live.csv')\n",
    "online_result = pd.read_csv('../results_data/final_online.csv')"
   ]
  },
  {
   "cell_type": "code",
   "execution_count": 12,
   "metadata": {},
   "outputs": [],
   "source": [
    "## Note that d20101110/d20100119/d20091116/d20070314 there is no for points or against points\n",
    "loop_through = live_result.id[live_result.id[live_result.id == 'd20070314'].index[0]+1:]"
   ]
  },
  {
   "cell_type": "code",
   "execution_count": 27,
   "metadata": {
    "scrolled": true
   },
   "outputs": [
    {
     "name": "stdout",
     "output_type": "stream",
     "text": [
      "d20070207\n",
      "Nothing to be removed from for\n",
      "d20061213\n",
      "Nothing to be removed from for\n",
      "d20061129\n",
      "Nothing to be removed from for\n",
      "d20061017\n",
      "Nothing to be removed from for\n",
      "d20060927\n",
      "Nothing to be removed from for\n"
     ]
    }
   ],
   "source": [
    "for test_id in loop_through:\n",
    "    print(test_id)\n",
    "    #test_id = 'd20180206'\n",
    "\n",
    "    try_df = pd.read_csv('../For Against Scripts/for_against_scripts_bp_free_'+test_id+'.csv')\n",
    "\n",
    "    main_points = open('../Main Points/main_points_' + test_id).read().split('\\n')\n",
    "    break_point = main_points.index(\"Against The Motion\")\n",
    "    for_main_points = main_points[1:break_point]\n",
    "    against_main_points = main_points[break_point+1:]\n",
    "\n",
    "    try:\n",
    "        for_main_points.remove('')\n",
    "    except:\n",
    "        print('Nothing to be removed from for')\n",
    "    try:\n",
    "        against_main_points.remove('')\n",
    "    except:\n",
    "        print('Nothing to be removed from against')\n",
    "\n",
    "    #start = time.time()\n",
    "    encoded_for_main_points = encode_main_point(for_main_points)\n",
    "    encoded_against_main_points = encode_main_point(against_main_points)\n",
    "    sim_scores = [all_dim_sim_score(script, encoded_for_main_points, encoded_against_main_points) for script in try_df.script]\n",
    "    #end = time.time()\n",
    "\n",
    "    try_df['sim_scores'] = sim_scores\n",
    "\n",
    "    try_df.to_csv('../BERT/BERT_encoded_'+ test_id +'.csv')\n",
    "    "
   ]
  },
  {
   "cell_type": "code",
   "execution_count": 28,
   "metadata": {},
   "outputs": [],
   "source": [
    "bc.close()"
   ]
  },
  {
   "cell_type": "code",
   "execution_count": 6,
   "metadata": {},
   "outputs": [],
   "source": [
    "'''\n",
    "Split each main point to indiviudal sentences and perform dc encoding to return a nested list.\n",
    "'''\n",
    "def encode_main_point(main_points_list):\n",
    "    splited_main_point = [sent_tokenize(main_point) for main_point in main_points_list]\n",
    "    return [bc.encode(sentences) for sentences in splited_main_point]\n",
    "\n",
    "'''\n",
    "Calculate all six dimensional main points sim score for one dataframe row of script\n",
    "'''\n",
    "def all_dim_sim_score(script, encoded_for_main_points, encoded_against_main_points):\n",
    "    doc_vecs = bc.encode(sent_tokenize(script))\n",
    "    dov_vecs_norms = np.linalg.norm(doc_vecs, axis=1)\n",
    "    \n",
    "    ## if the corpus is for the argument, return the result as positive, if against, return as negative.\n",
    "    for_sim_scores = [sim_score_cal(point, doc_vecs, dov_vecs_norms) for point in encoded_for_main_points]\n",
    "    against_sim_scores = [-sim_score_cal(point, doc_vecs, dov_vecs_norms) for point in encoded_against_main_points]\n",
    "    for_sim_scores.extend(against_sim_scores)\n",
    "    return for_sim_scores\n",
    "    \n",
    "    \n",
    "'''\n",
    "Calculate the similarity score as the top N average with the target corpus where N is the number of sentences \n",
    "in this main point.\n",
    "\n",
    "--main_point:  a list of encoded sentences of one main point\n",
    "'''\n",
    "def sim_score_cal(encoded_main_point, doc_vecs, dov_vecs_norms):\n",
    "    score_list = []\n",
    "    for query_vec in encoded_main_point:\n",
    "        scores = np.sum(query_vec * doc_vecs, axis=1) / dov_vecs_norms\n",
    "        highest = scores.max()\n",
    "        score_list.append(highest)\n",
    "\n",
    "    return np.mean(score_list)"
   ]
  },
  {
   "cell_type": "markdown",
   "metadata": {},
   "source": [
    "## Create Training Dataset"
   ]
  },
  {
   "cell_type": "code",
   "execution_count": 16,
   "metadata": {},
   "outputs": [],
   "source": [
    "live_results = pd.read_csv('../results_data/final_live.csv')\n",
    "online_results = pd.read_csv('../results_data/final_online.csv')"
   ]
  },
  {
   "cell_type": "code",
   "execution_count": 17,
   "metadata": {},
   "outputs": [
    {
     "data": {
      "text/html": [
       "<div>\n",
       "<style scoped>\n",
       "    .dataframe tbody tr th:only-of-type {\n",
       "        vertical-align: middle;\n",
       "    }\n",
       "\n",
       "    .dataframe tbody tr th {\n",
       "        vertical-align: top;\n",
       "    }\n",
       "\n",
       "    .dataframe thead th {\n",
       "        text-align: right;\n",
       "    }\n",
       "</style>\n",
       "<table border=\"1\" class=\"dataframe\">\n",
       "  <thead>\n",
       "    <tr style=\"text-align: right;\">\n",
       "      <th></th>\n",
       "      <th>for the against side to against</th>\n",
       "      <th>for the for side to for</th>\n",
       "      <th>from the against side to for</th>\n",
       "      <th>from the against side to undecided</th>\n",
       "      <th>from the for side to against</th>\n",
       "      <th>from the for side to undecided</th>\n",
       "      <th>from undecided to against</th>\n",
       "      <th>from undecided to for</th>\n",
       "      <th>post-debate-against</th>\n",
       "      <th>post-debate-for</th>\n",
       "      <th>post-debate-undecided</th>\n",
       "      <th>pre-debate-against</th>\n",
       "      <th>pre-debate-for</th>\n",
       "      <th>pre-debate-undecided</th>\n",
       "      <th>undecided to undecided</th>\n",
       "      <th>url</th>\n",
       "      <th>winner</th>\n",
       "      <th>id</th>\n",
       "    </tr>\n",
       "  </thead>\n",
       "  <tbody>\n",
       "    <tr>\n",
       "      <th>0</th>\n",
       "      <td>17</td>\n",
       "      <td>49</td>\n",
       "      <td>2</td>\n",
       "      <td>2</td>\n",
       "      <td>5</td>\n",
       "      <td>2</td>\n",
       "      <td>6</td>\n",
       "      <td>11</td>\n",
       "      <td>28</td>\n",
       "      <td>62</td>\n",
       "      <td>10</td>\n",
       "      <td>21</td>\n",
       "      <td>56</td>\n",
       "      <td>23</td>\n",
       "      <td>6</td>\n",
       "      <td>https://www.intelligencesquaredus.org/debates/...</td>\n",
       "      <td>against</td>\n",
       "      <td>d20191112</td>\n",
       "    </tr>\n",
       "    <tr>\n",
       "      <th>1</th>\n",
       "      <td>40</td>\n",
       "      <td>15</td>\n",
       "      <td>8</td>\n",
       "      <td>4</td>\n",
       "      <td>9</td>\n",
       "      <td>3</td>\n",
       "      <td>10</td>\n",
       "      <td>9</td>\n",
       "      <td>59</td>\n",
       "      <td>32</td>\n",
       "      <td>9</td>\n",
       "      <td>52</td>\n",
       "      <td>27</td>\n",
       "      <td>21</td>\n",
       "      <td>2</td>\n",
       "      <td>https://www.intelligencesquaredus.org/debates/...</td>\n",
       "      <td>against</td>\n",
       "      <td>d20191029</td>\n",
       "    </tr>\n",
       "    <tr>\n",
       "      <th>2</th>\n",
       "      <td>19</td>\n",
       "      <td>14</td>\n",
       "      <td>3</td>\n",
       "      <td>1</td>\n",
       "      <td>15</td>\n",
       "      <td>1</td>\n",
       "      <td>30</td>\n",
       "      <td>13</td>\n",
       "      <td>64</td>\n",
       "      <td>30</td>\n",
       "      <td>6</td>\n",
       "      <td>23</td>\n",
       "      <td>30</td>\n",
       "      <td>47</td>\n",
       "      <td>4</td>\n",
       "      <td>https://www.intelligencesquaredus.org/debates/...</td>\n",
       "      <td>against</td>\n",
       "      <td>d20191022</td>\n",
       "    </tr>\n",
       "    <tr>\n",
       "      <th>3</th>\n",
       "      <td>29</td>\n",
       "      <td>26</td>\n",
       "      <td>5</td>\n",
       "      <td>1</td>\n",
       "      <td>6</td>\n",
       "      <td>4</td>\n",
       "      <td>16</td>\n",
       "      <td>9</td>\n",
       "      <td>51</td>\n",
       "      <td>40</td>\n",
       "      <td>9</td>\n",
       "      <td>35</td>\n",
       "      <td>36</td>\n",
       "      <td>29</td>\n",
       "      <td>4</td>\n",
       "      <td>https://www.intelligencesquaredus.org/debates/...</td>\n",
       "      <td>against</td>\n",
       "      <td>d20190917</td>\n",
       "    </tr>\n",
       "    <tr>\n",
       "      <th>4</th>\n",
       "      <td>49</td>\n",
       "      <td>12</td>\n",
       "      <td>1</td>\n",
       "      <td>1</td>\n",
       "      <td>14</td>\n",
       "      <td>0</td>\n",
       "      <td>20</td>\n",
       "      <td>2</td>\n",
       "      <td>83</td>\n",
       "      <td>15</td>\n",
       "      <td>2</td>\n",
       "      <td>51</td>\n",
       "      <td>26</td>\n",
       "      <td>23</td>\n",
       "      <td>1</td>\n",
       "      <td>https://www.intelligencesquaredus.org/debates/...</td>\n",
       "      <td>against</td>\n",
       "      <td>d20190802</td>\n",
       "    </tr>\n",
       "  </tbody>\n",
       "</table>\n",
       "</div>"
      ],
      "text/plain": [
       "   for the against side to against  for the for side to for  \\\n",
       "0                               17                       49   \n",
       "1                               40                       15   \n",
       "2                               19                       14   \n",
       "3                               29                       26   \n",
       "4                               49                       12   \n",
       "\n",
       "   from the against side to for  from the against side to undecided  \\\n",
       "0                             2                                   2   \n",
       "1                             8                                   4   \n",
       "2                             3                                   1   \n",
       "3                             5                                   1   \n",
       "4                             1                                   1   \n",
       "\n",
       "   from the for side to against  from the for side to undecided  \\\n",
       "0                             5                               2   \n",
       "1                             9                               3   \n",
       "2                            15                               1   \n",
       "3                             6                               4   \n",
       "4                            14                               0   \n",
       "\n",
       "   from undecided to against  from undecided to for  post-debate-against  \\\n",
       "0                          6                     11                   28   \n",
       "1                         10                      9                   59   \n",
       "2                         30                     13                   64   \n",
       "3                         16                      9                   51   \n",
       "4                         20                      2                   83   \n",
       "\n",
       "   post-debate-for  post-debate-undecided  pre-debate-against  pre-debate-for  \\\n",
       "0               62                     10                  21              56   \n",
       "1               32                      9                  52              27   \n",
       "2               30                      6                  23              30   \n",
       "3               40                      9                  35              36   \n",
       "4               15                      2                  51              26   \n",
       "\n",
       "   pre-debate-undecided  undecided to undecided  \\\n",
       "0                    23                       6   \n",
       "1                    21                       2   \n",
       "2                    47                       4   \n",
       "3                    29                       4   \n",
       "4                    23                       1   \n",
       "\n",
       "                                                 url   winner         id  \n",
       "0  https://www.intelligencesquaredus.org/debates/...  against  d20191112  \n",
       "1  https://www.intelligencesquaredus.org/debates/...  against  d20191029  \n",
       "2  https://www.intelligencesquaredus.org/debates/...  against  d20191022  \n",
       "3  https://www.intelligencesquaredus.org/debates/...  against  d20190917  \n",
       "4  https://www.intelligencesquaredus.org/debates/...  against  d20190802  "
      ]
     },
     "execution_count": 17,
     "metadata": {},
     "output_type": "execute_result"
    }
   ],
   "source": [
    "live_results.head()"
   ]
  },
  {
   "cell_type": "code",
   "execution_count": 22,
   "metadata": {},
   "outputs": [],
   "source": [
    "import ast\n",
    "max_main_points = 6\n",
    "data = []"
   ]
  },
  {
   "cell_type": "code",
   "execution_count": 23,
   "metadata": {},
   "outputs": [
    {
     "name": "stdout",
     "output_type": "stream",
     "text": [
      "d20191112\n",
      "d20191029\n",
      "d20191022\n",
      "d20190917\n",
      "d20190802\n",
      "d20190628\n",
      "d20190418\n",
      "d20190413\n",
      "d20190328\n",
      "d20190304\n",
      "d20190211\n",
      "d20190131\n",
      "d20190116\n",
      "d20181111\n",
      "d20181101\n",
      "d20181011\n",
      "d20180926\n",
      "d20180628\n",
      "d20180626\n",
      "d20180623\n",
      "d20180514\n",
      "d20180502\n",
      "d20180421\n",
      "d20180417\n",
      "d20180327\n",
      "d20180309\n",
      "d20180206\n",
      "d20171207\n",
      "d20171024\n",
      "d20171003\n",
      "d20170928\n",
      "d20170606\n",
      "d20170510\n",
      "d20170406\n",
      "d20170322\n",
      "d20170301\n",
      "d20170208\n",
      "d20170201\n",
      "d20170111\n",
      "d20161207\n",
      "d20161129\n",
      "d20161114\n",
      "d20161026\n",
      "d20161013\n",
      "d20160926\n",
      "d20160913\n",
      "d20160907\n",
      "d20160608\n",
      "d20160504\n",
      "d20160406\n",
      "d20160309\n",
      "d20160301\n",
      "d20160203\n",
      "d20160113\n",
      "d20151203\n",
      "d20151118\n",
      "d20151110\n",
      "d20151102\n",
      "d20151027\n",
      "d20151014\n",
      "d20150916\n",
      "d20150809\n",
      "d20150602\n",
      "d20150526\n",
      "d20150513\n",
      "d20150415\n",
      "d20150331\n",
      "d20150311\n",
      "d20150224\n",
      "d20150211\n",
      "d20150115\n",
      "d20141203\n",
      "d20141113\n",
      "d20141022\n",
      "d20141007\n",
      "d20140930\n",
      "d20140909\n",
      "d20140626\n",
      "d20140507\n",
      "d20140409\n",
      "d20140402\n",
      "d20140312\n",
      "d20140305\n",
      "d20140227\n",
      "d20140212\n",
      "d20140115\n",
      "d20131204\n",
      "d20131120\n",
      "d20131114\n",
      "d20131030\n",
      "d20131018\n",
      "d20131016\n",
      "d20130910\n",
      "d20130809\n",
      "d20130619\n",
      "d20130508\n",
      "d20130417\n",
      "d20130403\n",
      "d20130313\n",
      "d20130213\n",
      "d20130116\n",
      "d20121205\n",
      "d20121114\n",
      "d20121024\n",
      "d20121010\n",
      "d20121004\n",
      "d20120912\n",
      "d20120701\n",
      "d20120508\n",
      "d20120417\n",
      "d20120207\n",
      "d20120110\n",
      "d20111115\n",
      "d20111025\n",
      "d20111012\n",
      "d20111004\n",
      "d20110920\n",
      "d20110907\n",
      "d20110608\n",
      "d20110510\n",
      "d20110503\n",
      "d20110405\n",
      "d20110315\n",
      "d20110215\n",
      "d20110111\n",
      "d20101122\n",
      "d20101110\n",
      "d20101006\n",
      "d20100914\n",
      "d20100608\n",
      "d20100511\n",
      "d20100413\n",
      "d20100316\n",
      "d20100209\n",
      "d20100119\n",
      "d20091201\n",
      "d20091116\n",
      "d20091027\n",
      "d20091012\n",
      "d20090921\n",
      "d20090512\n",
      "d20090421\n",
      "d20090317\n",
      "d20090203\n",
      "d20090113\n",
      "d20081202\n",
      "d20081118\n",
      "d20081028\n",
      "d20081007\n",
      "d20080916\n",
      "d20080513\n",
      "d20080415\n",
      "d20080311\n",
      "d20080212\n",
      "d20080115\n",
      "d20071204\n",
      "d20071113\n",
      "d20071030\n",
      "d2007100902\n",
      "d2007100901\n",
      "d20070918\n",
      "d20070516\n",
      "d20070418\n",
      "d20070314\n",
      "d20070207\n",
      "d20061213\n",
      "d20061129\n",
      "d20061017\n",
      "d20060927\n"
     ]
    }
   ],
   "source": [
    "all_id = live_results.id\n",
    "for id_ in all_id:\n",
    "    try:\n",
    "        print(id_)\n",
    "        df = pd.read_csv('../BERT/BERT_encoded_'+ id_+ '.csv')\n",
    "        df = df.dropna()\n",
    "        df.sim_scores = df.sim_scores.apply(lambda x: np.array(ast.literal_eval(x)))\n",
    "        \n",
    "        rounds_mean = df.groupby(['round']).sim_scores.apply(lambda x: np.mean(x))\n",
    "        num_main_points = sum(rounds_mean.iloc[0]>0)\n",
    "        rounds_mean = rounds_mean.apply(lambda x: x.tolist())\n",
    "\n",
    "        ## insert zero to match 5 main points\n",
    "        for one_round_mean in rounds_mean:\n",
    "            for i in range(num_main_points, max_main_points):\n",
    "                one_round_mean.insert(i,0)\n",
    "            num_neg = sum(np.array(one_round_mean)<0)\n",
    "            num_to_append = max_main_points - num_neg\n",
    "            for i in range(num_to_append):\n",
    "                one_round_mean.append(0)\n",
    "        extended_list = []\n",
    "        for row in rounds_mean:\n",
    "            extended_list.extend(row)\n",
    "        extended_list = np.abs(extended_list)\n",
    "\n",
    "        live_label = live_results[live_results['id'] == id_].winner.iloc[0]\n",
    "        online_label = online_results[online_results['id'] == id_].winner.iloc[0]\n",
    "        \n",
    "        one_row = []\n",
    "        one_row.append(id_)\n",
    "        one_row.extend(np.append(np.append(extended_list, live_label), online_label).tolist())\n",
    "        data.append(one_row)\n",
    "        #print(one_row)\n",
    "    except:\n",
    "        continue\n"
   ]
  },
  {
   "cell_type": "code",
   "execution_count": 24,
   "metadata": {},
   "outputs": [],
   "source": [
    "data = pd.DataFrame(data)#.loc[394]"
   ]
  },
  {
   "cell_type": "code",
   "execution_count": 26,
   "metadata": {},
   "outputs": [],
   "source": [
    "data = data[data.loc[:,37].notna()]"
   ]
  },
  {
   "cell_type": "code",
   "execution_count": 27,
   "metadata": {},
   "outputs": [
    {
     "data": {
      "text/plain": [
       "(126, 39)"
      ]
     },
     "execution_count": 27,
     "metadata": {},
     "output_type": "execute_result"
    }
   ],
   "source": [
    "data.shape"
   ]
  },
  {
   "cell_type": "code",
   "execution_count": 60,
   "metadata": {
    "scrolled": false
   },
   "outputs": [
    {
     "name": "stderr",
     "output_type": "stream",
     "text": [
      "/anaconda3/lib/python3.7/site-packages/sklearn/linear_model/logistic.py:433: FutureWarning: Default solver will be changed to 'lbfgs' in 0.22. Specify a solver to silence this warning.\n",
      "  FutureWarning)\n",
      "/anaconda3/lib/python3.7/site-packages/sklearn/linear_model/logistic.py:433: FutureWarning: Default solver will be changed to 'lbfgs' in 0.22. Specify a solver to silence this warning.\n",
      "  FutureWarning)\n",
      "/anaconda3/lib/python3.7/site-packages/sklearn/linear_model/logistic.py:433: FutureWarning: Default solver will be changed to 'lbfgs' in 0.22. Specify a solver to silence this warning.\n",
      "  FutureWarning)\n",
      "/anaconda3/lib/python3.7/site-packages/sklearn/linear_model/logistic.py:433: FutureWarning: Default solver will be changed to 'lbfgs' in 0.22. Specify a solver to silence this warning.\n",
      "  FutureWarning)\n",
      "/anaconda3/lib/python3.7/site-packages/sklearn/linear_model/logistic.py:433: FutureWarning: Default solver will be changed to 'lbfgs' in 0.22. Specify a solver to silence this warning.\n",
      "  FutureWarning)\n"
     ]
    }
   ],
   "source": [
    "from sklearn.model_selection import cross_val_score\n",
    "from sklearn.linear_model import LogisticRegression\n",
    "\n",
    "\n",
    "X = data.loc[:, 1:36]\n",
    "y = data.loc[:, 37]\n",
    "y = (y == 'for')\n",
    "\n",
    "#clf = LogisticRegression(random_state=0, solver='lbfgs', max_iter=1000, multi_class='ovr')\n",
    "clf = LogisticRegression(random_state=0)\n",
    "scores = cross_val_score(clf, X, y, cv=5)"
   ]
  },
  {
   "cell_type": "code",
   "execution_count": 65,
   "metadata": {
    "scrolled": true
   },
   "outputs": [
    {
     "name": "stdout",
     "output_type": "stream",
     "text": [
      "0.5944615384615385\n",
      "0.06255771299864869\n",
      "[0.69230769 0.56       0.64       0.52       0.56      ]\n"
     ]
    }
   ],
   "source": [
    "print(scores.mean())\n",
    "print(scores.std())\n",
    "print(scores)"
   ]
  },
  {
   "cell_type": "code",
   "execution_count": 51,
   "metadata": {},
   "outputs": [
    {
     "data": {
      "text/plain": [
       "False    25\n",
       "True     17\n",
       "Name: 37, dtype: int64"
      ]
     },
     "execution_count": 51,
     "metadata": {},
     "output_type": "execute_result"
    }
   ],
   "source": [
    "pd.Series(y_test).value_counts()"
   ]
  },
  {
   "cell_type": "code",
   "execution_count": null,
   "metadata": {},
   "outputs": [],
   "source": []
  },
  {
   "cell_type": "code",
   "execution_count": null,
   "metadata": {},
   "outputs": [],
   "source": []
  },
  {
   "cell_type": "code",
   "execution_count": null,
   "metadata": {},
   "outputs": [],
   "source": []
  },
  {
   "cell_type": "code",
   "execution_count": null,
   "metadata": {},
   "outputs": [],
   "source": []
  },
  {
   "cell_type": "markdown",
   "metadata": {},
   "source": [
    "## Acknowledgement:\n",
    "https://medium.com/@adriensieg/text-similarities-da019229c894\n",
    "\n",
    "https://github.com/hanxiao/bert-as-service"
   ]
  }
 ],
 "metadata": {
  "kernelspec": {
   "display_name": "Python 3",
   "language": "python",
   "name": "python3"
  },
  "language_info": {
   "codemirror_mode": {
    "name": "ipython",
    "version": 3
   },
   "file_extension": ".py",
   "mimetype": "text/x-python",
   "name": "python",
   "nbconvert_exporter": "python",
   "pygments_lexer": "ipython3",
   "version": "3.7.3"
  }
 },
 "nbformat": 4,
 "nbformat_minor": 2
}
