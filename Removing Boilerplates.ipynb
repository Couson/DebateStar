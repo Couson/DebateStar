{
 "cells": [
  {
   "cell_type": "markdown",
   "metadata": {},
   "source": [
    "# Removing Boilerplates by Bigram\n",
    "\n",
    "Since there are a lot of meaningless sentences ('thank you', 'no no')  in the corpus, the notebook removes them using bigram and perplexity. Sentences are removed if the perplexity score is small."
   ]
  },
  {
   "cell_type": "code",
   "execution_count": 45,
   "metadata": {},
   "outputs": [],
   "source": [
    "import numpy as np\n",
    "import pandas as pd\n",
    "import nltk\n",
    "import re\n",
    "from nltk.util import ngrams\n",
    "import glob"
   ]
  },
  {
   "cell_type": "code",
   "execution_count": 49,
   "metadata": {},
   "outputs": [],
   "source": [
    "# Reading in all transcripts\n",
    "corpus = ''\n",
    "for filepath in glob.glob('cleaned_transcript_data/*'):\n",
    "    #filepath = 'cleaned_transcript_data/cleaned_transcript_d20061129.csv'\n",
    "    scripts = pd.read_csv(filepath).drop(columns ='Unnamed: 0')['Script']\n",
    "    transcript = ' '.join(list(scripts))\n",
    "    corpus += transcript + ' '"
   ]
  },
  {
   "cell_type": "code",
   "execution_count": 101,
   "metadata": {},
   "outputs": [],
   "source": [
    "# lower case and remove non-word letters  \n",
    "def clean_transcript(transcript):\n",
    "    transcript = transcript.lower()\n",
    "    transcript = re.sub(r'[^a-zA-Z0-9\\s]', ' ', transcript)\n",
    "    return transcript"
   ]
  },
  {
   "cell_type": "code",
   "execution_count": 57,
   "metadata": {},
   "outputs": [],
   "source": [
    "s = corpus\n",
    "s = clean_transcript(s)\n",
    "words = [token for token in s.split(\" \") if token != \"\"]\n",
    "#output = list(ngrams(tokens, 3))"
   ]
  },
  {
   "cell_type": "code",
   "execution_count": 59,
   "metadata": {},
   "outputs": [],
   "source": [
    "cfreq_debate_2gram = nltk.ConditionalFreqDist(nltk.bigrams(words))"
   ]
  },
  {
   "cell_type": "code",
   "execution_count": 65,
   "metadata": {},
   "outputs": [],
   "source": [
    "cprob_debate_2gram = nltk.ConditionalProbDist(cfreq_debate_2gram, nltk.MLEProbDist)"
   ]
  },
  {
   "cell_type": "code",
   "execution_count": 72,
   "metadata": {},
   "outputs": [],
   "source": [
    "# Calculate perplexity score given a sentence and a bigram model\n",
    "def sentence_perplexity(sentence, model):\n",
    "    smooth_term = 0.01\n",
    "    sentence = sentence.split()\n",
    "    perplexity = 1\n",
    "    N = 0\n",
    "    for i in range(len(sentence) - 1):\n",
    "        N += 1\n",
    "        try:\n",
    "            prob = model[sentence[i]].prob(sentence[i+1]) + smooth_term\n",
    "        except:\n",
    "            prob = smooth_term\n",
    "        perplexity = perplexity * (1/prob)\n",
    "    perplexity = pow(perplexity, 1/float(N)) \n",
    "    return perplexity"
   ]
  },
  {
   "cell_type": "code",
   "execution_count": 140,
   "metadata": {},
   "outputs": [],
   "source": [
    "corpus_sentences = corpus.split('.')"
   ]
  },
  {
   "cell_type": "code",
   "execution_count": 119,
   "metadata": {},
   "outputs": [],
   "source": [
    "# perplexity for each sentence\n",
    "idx2perplexity = dict()\n",
    "for i in range(len(corpus_sentences)):\n",
    "    t = clean_transcript(corpus_sentences[i])\n",
    "    if len(t.split()) <= 1:\n",
    "        continue\n",
    "    ppl = sentence_perplexity(t, cprob_debate_2gram)\n",
    "    idx2perplexity[i] = ppl"
   ]
  },
  {
   "cell_type": "code",
   "execution_count": 120,
   "metadata": {},
   "outputs": [
    {
     "data": {
      "text/plain": [
       "<matplotlib.axes._subplots.AxesSubplot at 0x1403f4ba8>"
      ]
     },
     "execution_count": 120,
     "metadata": {},
     "output_type": "execute_result"
    },
    {
     "data": {
      "image/png": "[encoded data removed]",
      "text/plain": [
       "<Figure size 432x288 with 1 Axes>"
      ]
     },
     "metadata": {
      "needs_background": "light"
     },
     "output_type": "display_data"
    }
   ],
   "source": [
    "ppls = pd.Series(list(idx2perplexity.values()))\n",
    "ppls[ppls < 20].hist()"
   ]
  },
  {
   "cell_type": "code",
   "execution_count": 121,
   "metadata": {},
   "outputs": [],
   "source": [
    "perplexity2idx = dict(zip(idx2perplexity.values(), idx2perplexity.keys()))"
   ]
  },
  {
   "cell_type": "code",
   "execution_count": 150,
   "metadata": {},
   "outputs": [],
   "source": [
    "# Take a look at 20 sentences with lowest perplexity scores\n",
    "ppls_sorted = ppls.sort_values()\n",
    "i = 0\n",
    "boilerplates = []\n",
    "bps = []\n",
    "bp_ppls = []\n",
    "while len(boilerplates) < 20:\n",
    "    bp = corpus_sentences[perplexity2idx[ppls_sorted.iloc[i]]]\n",
    "    if bp not in boilerplates:\n",
    "        bps.append(bp)\n",
    "        bp_ppls.append(ppls_sorted.iloc[i])\n",
    "        boilerplates.append(bp)\n",
    "    i += 1"
   ]
  },
  {
   "cell_type": "code",
   "execution_count": 153,
   "metadata": {},
   "outputs": [
    {
     "data": {
      "text/html": [
       "<div>\n",
       "<style scoped>\n",
       "    .dataframe tbody tr th:only-of-type {\n",
       "        vertical-align: middle;\n",
       "    }\n",
       "\n",
       "    .dataframe tbody tr th {\n",
       "        vertical-align: top;\n",
       "    }\n",
       "\n",
       "    .dataframe thead th {\n",
       "        text-align: right;\n",
       "    }\n",
       "</style>\n",
       "<table border=\"1\" class=\"dataframe\">\n",
       "  <thead>\n",
       "    <tr style=\"text-align: right;\">\n",
       "      <th></th>\n",
       "      <th>Boilerplate</th>\n",
       "      <th>Perplexity</th>\n",
       "    </tr>\n",
       "  </thead>\n",
       "  <tbody>\n",
       "    <tr>\n",
       "      <th>0</th>\n",
       "      <td>Glebe Rd</td>\n",
       "      <td>0.990099</td>\n",
       "    </tr>\n",
       "    <tr>\n",
       "      <th>1</th>\n",
       "      <td>Barack Obama</td>\n",
       "      <td>1.005295</td>\n",
       "    </tr>\n",
       "    <tr>\n",
       "      <th>2</th>\n",
       "      <td>Thank you</td>\n",
       "      <td>1.050635</td>\n",
       "    </tr>\n",
       "    <tr>\n",
       "      <th>3</th>\n",
       "      <td>Et cetera</td>\n",
       "      <td>1.054870</td>\n",
       "    </tr>\n",
       "    <tr>\n",
       "      <th>4</th>\n",
       "      <td>Mm-hmm</td>\n",
       "      <td>1.153213</td>\n",
       "    </tr>\n",
       "    <tr>\n",
       "      <th>5</th>\n",
       "      <td>Goldman Sachs</td>\n",
       "      <td>1.212393</td>\n",
       "    </tr>\n",
       "    <tr>\n",
       "      <th>6</th>\n",
       "      <td>Whoah, whoah, whoah, whoah, whoah</td>\n",
       "      <td>1.234568</td>\n",
       "    </tr>\n",
       "    <tr>\n",
       "      <th>7</th>\n",
       "      <td>Saudi Arabia</td>\n",
       "      <td>1.256081</td>\n",
       "    </tr>\n",
       "    <tr>\n",
       "      <th>8</th>\n",
       "      <td>Forgive me</td>\n",
       "      <td>1.269394</td>\n",
       "    </tr>\n",
       "    <tr>\n",
       "      <th>9</th>\n",
       "      <td>Hang on</td>\n",
       "      <td>1.315789</td>\n",
       "    </tr>\n",
       "    <tr>\n",
       "      <th>10</th>\n",
       "      <td>Excuse me</td>\n",
       "      <td>1.371552</td>\n",
       "    </tr>\n",
       "    <tr>\n",
       "      <th>11</th>\n",
       "      <td>, #1016 Arlington, VA 22203 Intelligence Squar...</td>\n",
       "      <td>1.374263</td>\n",
       "    </tr>\n",
       "    <tr>\n",
       "      <th>12</th>\n",
       "      <td>Magnet schools</td>\n",
       "      <td>1.380671</td>\n",
       "    </tr>\n",
       "    <tr>\n",
       "      <th>13</th>\n",
       "      <td>Blah blah blah</td>\n",
       "      <td>1.417129</td>\n",
       "    </tr>\n",
       "    <tr>\n",
       "      <th>14</th>\n",
       "      <td>stock market</td>\n",
       "      <td>1.431388</td>\n",
       "    </tr>\n",
       "    <tr>\n",
       "      <th>15</th>\n",
       "      <td>Biogen 33 percent</td>\n",
       "      <td>1.444838</td>\n",
       "    </tr>\n",
       "    <tr>\n",
       "      <th>16</th>\n",
       "      <td>Sri Lanka</td>\n",
       "      <td>1.477833</td>\n",
       "    </tr>\n",
       "    <tr>\n",
       "      <th>17</th>\n",
       "      <td>Wake up</td>\n",
       "      <td>1.565996</td>\n",
       "    </tr>\n",
       "    <tr>\n",
       "      <th>18</th>\n",
       "      <td>Bundled payments</td>\n",
       "      <td>1.639344</td>\n",
       "    </tr>\n",
       "    <tr>\n",
       "      <th>19</th>\n",
       "      <td>Hemp underpants, ugh</td>\n",
       "      <td>1.698171</td>\n",
       "    </tr>\n",
       "  </tbody>\n",
       "</table>\n",
       "</div>"
      ],
      "text/plain": [
       "                                          Boilerplate  Perplexity\n",
       "0                                            Glebe Rd    0.990099\n",
       "1                                        Barack Obama    1.005295\n",
       "2                                           Thank you    1.050635\n",
       "3                                           Et cetera    1.054870\n",
       "4                                              Mm-hmm    1.153213\n",
       "5                                       Goldman Sachs    1.212393\n",
       "6                   Whoah, whoah, whoah, whoah, whoah    1.234568\n",
       "7                                        Saudi Arabia    1.256081\n",
       "8                                          Forgive me    1.269394\n",
       "9                                             Hang on    1.315789\n",
       "10                                          Excuse me    1.371552\n",
       "11  , #1016 Arlington, VA 22203 Intelligence Squar...    1.374263\n",
       "12                                     Magnet schools    1.380671\n",
       "13                                     Blah blah blah    1.417129\n",
       "14                                       stock market    1.431388\n",
       "15                                  Biogen 33 percent    1.444838\n",
       "16                                          Sri Lanka    1.477833\n",
       "17                                            Wake up    1.565996\n",
       "18                                   Bundled payments    1.639344\n",
       "19                               Hemp underpants, ugh    1.698171"
      ]
     },
     "execution_count": 153,
     "metadata": {},
     "output_type": "execute_result"
    }
   ],
   "source": [
    "pd.DataFrame({'Boilerplate':bps, 'Perplexity':bp_ppls})"
   ]
  },
  {
   "cell_type": "code",
   "execution_count": null,
   "metadata": {},
   "outputs": [],
   "source": []
  }
 ],
 "metadata": {
  "kernelspec": {
   "display_name": "Python 3",
   "language": "python",
   "name": "python3"
  },
  "language_info": {
   "codemirror_mode": {
    "name": "ipython",
    "version": 3
   },
   "file_extension": ".py",
   "mimetype": "text/x-python",
   "name": "python",
   "nbconvert_exporter": "python",
   "pygments_lexer": "ipython3",
   "version": "3.7.1"
  }
 },
 "nbformat": 4,
 "nbformat_minor": 2
}
