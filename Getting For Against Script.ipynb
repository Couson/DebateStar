{
 "cells": [
  {
   "cell_type": "code",
   "execution_count": 1,
   "metadata": {},
   "outputs": [
    {
     "name": "stderr",
     "output_type": "stream",
     "text": [
      "/anaconda3/lib/python3.7/site-packages/tensorflow/python/framework/dtypes.py:526: FutureWarning: Passing (type, 1) or '1type' as a synonym of type is deprecated; in a future version of numpy, it will be understood as (type, (1,)) / '(1,)type'.\n",
      "  _np_qint8 = np.dtype([(\"qint8\", np.int8, 1)])\n",
      "/anaconda3/lib/python3.7/site-packages/tensorflow/python/framework/dtypes.py:527: FutureWarning: Passing (type, 1) or '1type' as a synonym of type is deprecated; in a future version of numpy, it will be understood as (type, (1,)) / '(1,)type'.\n",
      "  _np_quint8 = np.dtype([(\"quint8\", np.uint8, 1)])\n",
      "/anaconda3/lib/python3.7/site-packages/tensorflow/python/framework/dtypes.py:528: FutureWarning: Passing (type, 1) or '1type' as a synonym of type is deprecated; in a future version of numpy, it will be understood as (type, (1,)) / '(1,)type'.\n",
      "  _np_qint16 = np.dtype([(\"qint16\", np.int16, 1)])\n",
      "/anaconda3/lib/python3.7/site-packages/tensorflow/python/framework/dtypes.py:529: FutureWarning: Passing (type, 1) or '1type' as a synonym of type is deprecated; in a future version of numpy, it will be understood as (type, (1,)) / '(1,)type'.\n",
      "  _np_quint16 = np.dtype([(\"quint16\", np.uint16, 1)])\n",
      "/anaconda3/lib/python3.7/site-packages/tensorflow/python/framework/dtypes.py:530: FutureWarning: Passing (type, 1) or '1type' as a synonym of type is deprecated; in a future version of numpy, it will be understood as (type, (1,)) / '(1,)type'.\n",
      "  _np_qint32 = np.dtype([(\"qint32\", np.int32, 1)])\n",
      "/anaconda3/lib/python3.7/site-packages/tensorflow/python/framework/dtypes.py:535: FutureWarning: Passing (type, 1) or '1type' as a synonym of type is deprecated; in a future version of numpy, it will be understood as (type, (1,)) / '(1,)type'.\n",
      "  np_resource = np.dtype([(\"resource\", np.ubyte, 1)])\n"
     ]
    }
   ],
   "source": [
    "import numpy as np\n",
    "import pandas as pd\n",
    "import glob \n",
    "import nltk\n",
    "import re\n",
    "import string\n",
    "from nltk.tokenize import word_tokenize\n",
    "from nltk.corpus import stopwords\n",
    "from nltk.stem.porter import PorterStemmer\n",
    "from sklearn.metrics.pairwise import cosine_similarity\n",
    "import ast\n",
    "import tensorflow as tf"
   ]
  },
  {
   "cell_type": "code",
   "execution_count": 2,
   "metadata": {},
   "outputs": [
    {
     "data": {
      "text/html": [
       "<div>\n",
       "<style scoped>\n",
       "    .dataframe tbody tr th:only-of-type {\n",
       "        vertical-align: middle;\n",
       "    }\n",
       "\n",
       "    .dataframe tbody tr th {\n",
       "        vertical-align: top;\n",
       "    }\n",
       "\n",
       "    .dataframe thead th {\n",
       "        text-align: right;\n",
       "    }\n",
       "</style>\n",
       "<table border=\"1\" class=\"dataframe\">\n",
       "  <thead>\n",
       "    <tr style=\"text-align: right;\">\n",
       "      <th></th>\n",
       "      <th>title</th>\n",
       "      <th>date</th>\n",
       "      <th>for</th>\n",
       "      <th>against</th>\n",
       "      <th>id</th>\n",
       "    </tr>\n",
       "  </thead>\n",
       "  <tbody>\n",
       "    <tr>\n",
       "      <th>0</th>\n",
       "      <td>Capitalism Is a Blessing</td>\n",
       "      <td>2019-11-12</td>\n",
       "      <td>['John Mackey', 'Katherine Mangu-Ward']</td>\n",
       "      <td>['Bhaskar Sunkara', 'Richard D. Wolff']</td>\n",
       "      <td>d20191112</td>\n",
       "    </tr>\n",
       "    <tr>\n",
       "      <th>1</th>\n",
       "      <td>Parenting Is Overrated</td>\n",
       "      <td>2019-10-29</td>\n",
       "      <td>['Robert Plomin', 'Nancy Segal']</td>\n",
       "      <td>['Paige Harden', 'Ann Pleshette Murphy']</td>\n",
       "      <td>d20191029</td>\n",
       "    </tr>\n",
       "    <tr>\n",
       "      <th>2</th>\n",
       "      <td>Europe Has Declared War on American Tech Compa...</td>\n",
       "      <td>2019-10-22</td>\n",
       "      <td>['Roslyn Layton', 'Berin Szóka']</td>\n",
       "      <td>['Marietje Schaake', 'Ramesh Srinivasan']</td>\n",
       "      <td>d20191022</td>\n",
       "    </tr>\n",
       "    <tr>\n",
       "      <th>3</th>\n",
       "      <td>Replace Private Insurance with Medicare for All</td>\n",
       "      <td>2019-09-17</td>\n",
       "      <td>['Dr. Adam Gaffney', 'Joseph Sanberg']</td>\n",
       "      <td>['Nick Gillespie', 'Sally Pipes']</td>\n",
       "      <td>d20190917</td>\n",
       "    </tr>\n",
       "    <tr>\n",
       "      <th>4</th>\n",
       "      <td>Unresolved: Shifting Power in the Middle East</td>\n",
       "      <td>2019-09-12</td>\n",
       "      <td>['Michael Doran', 'Reuel Marc Gerecht', 'Berna...</td>\n",
       "      <td>['Brett McGurk', 'Barbara Slavin']</td>\n",
       "      <td>d20190912</td>\n",
       "    </tr>\n",
       "  </tbody>\n",
       "</table>\n",
       "</div>"
      ],
      "text/plain": [
       "                                               title        date  \\\n",
       "0                           Capitalism Is a Blessing  2019-11-12   \n",
       "1                             Parenting Is Overrated  2019-10-29   \n",
       "2  Europe Has Declared War on American Tech Compa...  2019-10-22   \n",
       "3    Replace Private Insurance with Medicare for All  2019-09-17   \n",
       "4      Unresolved: Shifting Power in the Middle East  2019-09-12   \n",
       "\n",
       "                                                 for  \\\n",
       "0            ['John Mackey', 'Katherine Mangu-Ward']   \n",
       "1                   ['Robert Plomin', 'Nancy Segal']   \n",
       "2                   ['Roslyn Layton', 'Berin Szóka']   \n",
       "3             ['Dr. Adam Gaffney', 'Joseph Sanberg']   \n",
       "4  ['Michael Doran', 'Reuel Marc Gerecht', 'Berna...   \n",
       "\n",
       "                                     against         id  \n",
       "0    ['Bhaskar Sunkara', 'Richard D. Wolff']  d20191112  \n",
       "1   ['Paige Harden', 'Ann Pleshette Murphy']  d20191029  \n",
       "2  ['Marietje Schaake', 'Ramesh Srinivasan']  d20191022  \n",
       "3          ['Nick Gillespie', 'Sally Pipes']  d20190917  \n",
       "4         ['Brett McGurk', 'Barbara Slavin']  d20190912  "
      ]
     },
     "execution_count": 2,
     "metadata": {},
     "output_type": "execute_result"
    }
   ],
   "source": [
    "metadata = pd.read_csv('metadata.csv')\n",
    "metadata.head()"
   ]
  },
  {
   "cell_type": "code",
   "execution_count": 3,
   "metadata": {},
   "outputs": [],
   "source": [
    "cleaned_files = glob.glob('cleaned_transcript_data/*.csv')"
   ]
  },
  {
   "cell_type": "code",
   "execution_count": null,
   "metadata": {},
   "outputs": [],
   "source": [
    "def determine_side(name, sidedict):\n",
    "    for side in sidedict:\n",
    "        if name in sidedict[side] or name.upper() in sidedict[side]:\n",
    "            return side\n",
    "    return 'unknown'"
   ]
  },
  {
   "cell_type": "code",
   "execution_count": 4,
   "metadata": {},
   "outputs": [],
   "source": [
    "def for_against_scripts(filepath):\n",
    "    fid = filepath[filepath.find('20') - 1: filepath.find('csv') - 1]\n",
    "    metadata.loc[metadata['id'] == fid]\n",
    "    sidedict = {}\n",
    "    for side in ['for', 'against']:\n",
    "        sidedict[side] = metadata.loc[metadata['id'] == fid][side].item().upper()\n",
    "    cleaned = pd.read_csv(filepath).drop(columns = 'Unnamed: 0')\n",
    "    cleaned['side'] = cleaned['Speaker'].apply(lambda x: determine_side(x, sidedict))\n",
    "    if 'unknown' in cleaned['side'].values:\n",
    "        print(filepath)\n",
    "        return pd.DataFrame(data = {'side': [], 'script': []})\n",
    "    new_sides = []\n",
    "    new_scripts = []\n",
    "    last_side = 0\n",
    "    for i in range(len(cleaned)):\n",
    "        side = cleaned['side'][i]\n",
    "        script = cleaned['Script'][i]\n",
    "        if side == last_side:\n",
    "            new_scripts[-1] = new_scripts[-1] + ' ' + script\n",
    "        else:\n",
    "            new_sides.append(side)\n",
    "            new_scripts.append(script)\n",
    "            last_side = side\n",
    "    return pd.DataFrame(data = {'side': new_sides, 'script': new_scripts})"
   ]
  },
  {
   "cell_type": "code",
   "execution_count": null,
   "metadata": {},
   "outputs": [],
   "source": [
    "for filepath in cleaned_files:\n",
    "    df = for_against_scripts(filepath)\n",
    "    fid = filepath[filepath.find('20') - 1: filepath.find('csv') - 1]\n",
    "    df.to_csv('For Against Scripts/for_against_scripts_' + fid + '.csv', index = False)"
   ]
  },
  {
   "cell_type": "code",
   "execution_count": null,
   "metadata": {},
   "outputs": [],
   "source": []
  },
  {
   "cell_type": "code",
   "execution_count": null,
   "metadata": {},
   "outputs": [],
   "source": []
  }
 ],
 "metadata": {
  "kernelspec": {
   "display_name": "Python 3",
   "language": "python",
   "name": "python3"
  },
  "language_info": {
   "codemirror_mode": {
    "name": "ipython",
    "version": 3
   },
   "file_extension": ".py",
   "mimetype": "text/x-python",
   "name": "python",
   "nbconvert_exporter": "python",
   "pygments_lexer": "ipython3",
   "version": "3.7.1"
  }
 },
 "nbformat": 4,
 "nbformat_minor": 2
}
